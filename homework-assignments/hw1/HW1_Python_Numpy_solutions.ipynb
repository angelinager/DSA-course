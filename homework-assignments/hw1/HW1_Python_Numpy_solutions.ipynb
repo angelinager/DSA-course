{
 "cells": [
  {
   "cell_type": "code",
   "execution_count": 2,
   "metadata": {},
   "outputs": [],
   "source": [
    "import numpy as np\n",
    "import math"
   ]
  },
  {
   "cell_type": "code",
   "execution_count": null,
   "metadata": {},
   "outputs": [],
   "source": [
    "Задание 1\n",
    "Создайте с помощью различных комманд библиотеки NumPy матрицу, со следующим содержанием"
   ]
  },
  {
   "cell_type": "code",
   "execution_count": 6,
   "metadata": {},
   "outputs": [],
   "source": [
    "C = np.identity(7, int)*7\n",
    "C = np.flip(C, 0)\n",
    "np.fill_diagonal(C, 7)\n",
    "\n",
    "C[:, 0]=1\n",
    "C[:,-1]=1\n",
    "C[0, :]=1\n",
    "C[-1,:]=1\n",
    "C[3,3] = 25\n",
    "#C[int(len(C)/2), int(len(C)/2)]"
   ]
  },
  {
   "cell_type": "markdown",
   "metadata": {},
   "source": [
    "Задание 2\n",
    "Создайте NumPy  вектор со 200  числами в диапазоне [-100, 100]. Посчитайте, сколько из них негативных, а сколько - позитивных. Распечатайте ответ в формате\n",
    "Positive: ответ\n",
    "Negative: ответ"
   ]
  },
  {
   "cell_type": "code",
   "execution_count": 3,
   "metadata": {},
   "outputs": [
    {
     "name": "stdout",
     "output_type": "stream",
     "text": [
      "Number of positives: 93\n",
      "Number of negatives: 105\n"
     ]
    }
   ],
   "source": [
    "v1 = np.random.randint(-100, 100, 200)\n",
    "v2 = np.arange(-100, 100)\n",
    "\n",
    "pos = len(v1[v1>0.0])\n",
    "neg = len(v1[v1<0.0])\n",
    "\n",
    "print(\"Number of positives: {}\\nNumber of negatives: {}\".format(pos, neg))"
   ]
  },
  {
   "cell_type": "markdown",
   "metadata": {},
   "source": [
    "Задание 3\n",
    "Дан список целых чисел\n",
    "l1 = [17, -5, 89, 0, 34, -2, 0, 3, -6, -7, 6, 23, 0, -1, 9, -45, -7, 0, 5, 1]\n",
    "Заменить отрицательные на -1, положительные - на число 1, ноль оставить без изменений."
   ]
  },
  {
   "cell_type": "code",
   "execution_count": 51,
   "metadata": {},
   "outputs": [],
   "source": [
    "l1 = [17, -5, 89, 0, 34, -2, 0, 3, -6, -7, 6, 23, 0, -1, 9, -45, -7, 0, 5, 1]\n",
    "v1 = np.asarray(l1)\n",
    "\n",
    "v1[v1>0] = 1\n",
    "v1[v1<0] = -1"
   ]
  },
  {
   "cell_type": "code",
   "execution_count": 56,
   "metadata": {},
   "outputs": [],
   "source": [
    "for idx, elem in enumerate(l1):\n",
    "    if elem > 0:\n",
    "        l1[idx] = 1\n",
    "    elif elem < 0:\n",
    "        l1[idx] = -1"
   ]
  },
  {
   "cell_type": "markdown",
   "metadata": {},
   "source": [
    "Задание 4\n",
    "Написать функцию arithmetic, принимающую 3 аргумента: первые 2 - числа a и b, третий - операция, которая должна быть произведена над ними (в формате string). Если третий аргумент '+' - то сложить их, если '—', то вычесть; '*' — умножить, '/' — разделить. В остальных случаях вернуть строку \"Unknown Operation\"."
   ]
  },
  {
   "cell_type": "code",
   "execution_count": 59,
   "metadata": {},
   "outputs": [
    {
     "name": "stdout",
     "output_type": "stream",
     "text": [
      "123.3\n"
     ]
    }
   ],
   "source": [
    "def arithmetic(a, b, operator):\n",
    "    #operator:str\n",
    "    \n",
    "    if operator == '+':\n",
    "        return (a+b)\n",
    "    elif operator == '-':\n",
    "        return (a-b)\n",
    "    if operator == '*':\n",
    "        return (a*b)\n",
    "    elif operator == '/':\n",
    "        return (a/b)\n",
    "    else:\n",
    "        return ('Unknown Operation')\n",
    "    \n",
    "result = arithmetic(45, 78.3, '+')\n",
    "print(result)"
   ]
  },
  {
   "cell_type": "markdown",
   "metadata": {},
   "source": [
    "Задание 5\n",
    "Пользователь делает вклад в размере А тенге сроком на years лет под 10% годовых (каждый год размер его вклада увеличивается на 10%. Эти деньги прибавляются к сумме вклада, и на них в следующем году тоже будут проценты).\n",
    "\n",
    "Написать функцию bank, принимающую аргументы А и years, и возвращающую сумму, которая будет на счету пользователя."
   ]
  },
  {
   "cell_type": "code",
   "execution_count": 64,
   "metadata": {},
   "outputs": [
    {
     "name": "stdout",
     "output_type": "stream",
     "text": [
      "146.41000000000008\n"
     ]
    }
   ],
   "source": [
    "def bank(A, years):\n",
    "    for i in range(1, years+1):\n",
    "        A = A*1.1\n",
    "    return A\n",
    "\n",
    "res = bank(100, 4)\n",
    "print(res)"
   ]
  },
  {
   "cell_type": "code",
   "execution_count": 65,
   "metadata": {},
   "outputs": [
    {
     "name": "stdout",
     "output_type": "stream",
     "text": [
      "146.41000000000005\n"
     ]
    }
   ],
   "source": [
    "def bank(A, years):\n",
    "    return A*1.1**years\n",
    "\n",
    "res = bank(100, 4)\n",
    "print(res)"
   ]
  },
  {
   "cell_type": "markdown",
   "metadata": {},
   "source": [
    "Задание 6\n",
    "Написать функцию Square, принимающую 1 аргумент — сторону квадрата, и возвращающую 3 значения (с помощью кортежа): периметр квадрата, площадь квадрата и диагональ квадрата."
   ]
  },
  {
   "cell_type": "code",
   "execution_count": 69,
   "metadata": {},
   "outputs": [
    {
     "name": "stdout",
     "output_type": "stream",
     "text": [
      "(40, 100, 14.142135623730951)\n"
     ]
    }
   ],
   "source": [
    "def square(x):\n",
    "    per = 4*x\n",
    "    area = x**2\n",
    "    diag = x*math.sqrt(2)\n",
    "    return (per, area, diag)\n",
    "\n",
    "print(square(10))\n"
   ]
  },
  {
   "cell_type": "code",
   "execution_count": 71,
   "metadata": {},
   "outputs": [
    {
     "name": "stdout",
     "output_type": "stream",
     "text": [
      "(40, 100, 14.142135623730951)\n"
     ]
    }
   ],
   "source": [
    "def square(x):\n",
    "    return (4*x, x**2, x*math.sqrt(2))\n",
    "\n",
    "print(square(10))"
   ]
  },
  {
   "cell_type": "markdown",
   "metadata": {},
   "source": [
    "Задание 7\n",
    "Сгенерируйте список из 100 случайных целых чисел. Определите, сколько в нем четных чисел, а сколько нечетных. Подсказка: почитайте про операцию modulo - деление по модулю с остатком."
   ]
  },
  {
   "cell_type": "code",
   "execution_count": 89,
   "metadata": {},
   "outputs": [
    {
     "name": "stdout",
     "output_type": "stream",
     "text": [
      "Odd: 59\n",
      "Even: 41\n"
     ]
    }
   ],
   "source": [
    "v = np.random.randint(0, 500, size=(1, 100))\n",
    "\n",
    "even = len(v[v%2==0])\n",
    "odd = len(v[v%2==1])\n",
    "\n",
    "print(\"Odd: {}\\nEven: {}\".format(odd, even))"
   ]
  }
 ],
 "metadata": {
  "kernelspec": {
   "display_name": "Python 3",
   "language": "python",
   "name": "python3"
  },
  "language_info": {
   "codemirror_mode": {
    "name": "ipython",
    "version": 3
   },
   "file_extension": ".py",
   "mimetype": "text/x-python",
   "name": "python",
   "nbconvert_exporter": "python",
   "pygments_lexer": "ipython3",
   "version": "3.7.4"
  }
 },
 "nbformat": 4,
 "nbformat_minor": 2
}
