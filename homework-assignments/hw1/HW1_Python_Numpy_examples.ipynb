{
 "cells": [
  {
   "cell_type": "code",
   "execution_count": 5,
   "metadata": {},
   "outputs": [],
   "source": [
    "import numpy as np\n",
    "import math"
   ]
  },
  {
   "cell_type": "markdown",
   "metadata": {},
   "source": [
    "# Task 1"
   ]
  },
  {
   "cell_type": "code",
   "execution_count": null,
   "metadata": {},
   "outputs": [],
   "source": [
    "# Task 1 Matrix\n",
    "m = np.zeros((7,7))\n",
    "m[3][3]=25\n",
    "m[5][5]=0\n",
    "\n",
    "m[:,0] = 1\n",
    "m[:,6] = 1\n",
    "m[0,:] = 1\n",
    "m[6,:] = 1\n",
    "\n",
    "m[1][1]=7\n",
    "m[1][5]=7\n",
    "m[5][1]=7 \n",
    "m[5][5]=7\n",
    "m[2][2]=7\n",
    "m[2][4]=7\n",
    "m[4][4]=7\n",
    "m[4][2]=7\n",
    "m[1][2+2]=0\n",
    "m[1][4-1]=0\n",
    "m[1][4-2]=0\n",
    "m[5][2]=0\n",
    "m[5][3]=0\n",
    "m[5][4]=0\n",
    "m[2][1]=0\n",
    "m[3][1]=0\n",
    "m[4][1]=0\n",
    "m[2][3]=0\n",
    "m[2][5]=0\n",
    "m[3][2]=0\n",
    "m[3][4]=0\n",
    "m[3][5]=0\n",
    "m[4][5]=0\n",
    "m[4][3]=0\n",
    "\n"
   ]
  },
  {
   "cell_type": "code",
   "execution_count": null,
   "metadata": {},
   "outputs": [],
   "source": [
    "a=np.array([[1,1,1,1,1,1,1], \n",
    "           [1,7,0,0,0,7,1], \n",
    "           [1,0,7,0,7,0,1], \n",
    "           [1,0,0,25,0,0,1], \n",
    "           [1,0,7,0,7,0,1], \n",
    "           [1,7,0,0,0,7,1], \n",
    "           [1,1,1,1,1,1,1]])\n",
    "print(a)"
   ]
  },
  {
   "cell_type": "code",
   "execution_count": null,
   "metadata": {},
   "outputs": [],
   "source": [
    "mat = np.zeros((7,7))\n",
    "\n",
    "mat[0,:] = 1 \n",
    "mat[:,0] = 1\n",
    "mat[:,6] = 1\n",
    "mat[6,:] = 1\n",
    "j = 1\n",
    "\n",
    "for i in range(1,6):\n",
    "    mat[i,j] = 7\n",
    "    print(i,j)\n",
    "    j+=1\n",
    "\n",
    "raw = 1 \n",
    "col = 5 \n",
    "for i in range(1,6):\n",
    "    mat[raw,col] = 7 \n",
    "    raw+=1\n",
    "    col-=1\n",
    "\n",
    "mat[3,3] = 25  "
   ]
  },
  {
   "cell_type": "code",
   "execution_count": 3,
   "metadata": {},
   "outputs": [],
   "source": [
    "row_1_7=np.array([1,1,1,1,1,1,1])\n",
    "row_2_6=np.array([1,7,0,0,0,7,1])\n",
    "row_3_5=np.array([1,0,7,0,7,0,1])\n",
    "row_4=np.array([1,0,0,25,0,0,1])\n",
    "answer=np.array([[row_1_7],[row_2_6],[row_3_5],[row_4],[row_3_5],[row_2_6],[row_1_7]])"
   ]
  },
  {
   "cell_type": "code",
   "execution_count": 4,
   "metadata": {},
   "outputs": [
    {
     "data": {
      "text/plain": [
       "array([[[ 1,  1,  1,  1,  1,  1,  1]],\n",
       "\n",
       "       [[ 1,  7,  0,  0,  0,  7,  1]],\n",
       "\n",
       "       [[ 1,  0,  7,  0,  7,  0,  1]],\n",
       "\n",
       "       [[ 1,  0,  0, 25,  0,  0,  1]],\n",
       "\n",
       "       [[ 1,  0,  7,  0,  7,  0,  1]],\n",
       "\n",
       "       [[ 1,  7,  0,  0,  0,  7,  1]],\n",
       "\n",
       "       [[ 1,  1,  1,  1,  1,  1,  1]]])"
      ]
     },
     "execution_count": 4,
     "metadata": {},
     "output_type": "execute_result"
    }
   ],
   "source": [
    "answer"
   ]
  },
  {
   "cell_type": "code",
   "execution_count": 4,
   "metadata": {},
   "outputs": [
    {
     "data": {
      "text/plain": [
       "(7, 1, 7)"
      ]
     },
     "execution_count": 4,
     "metadata": {},
     "output_type": "execute_result"
    }
   ],
   "source": [
    "answer.shape"
   ]
  },
  {
   "cell_type": "code",
   "execution_count": null,
   "metadata": {},
   "outputs": [],
   "source": [
    "ONE=np.ones((7,7), dtype=int)\n",
    "ONE[1:6:,1:6]=np.zeros((5,5), dtype=int)\n",
    "np.put(ONE, [8,12,16,18, -9, -13, -17, -19], 7)\n",
    "np.put(ONE, 24, 25)\n",
    "print(ONE)"
   ]
  },
  {
   "cell_type": "code",
   "execution_count": null,
   "metadata": {},
   "outputs": [],
   "source": [
    "#Exercise#1\n",
    "matrix = np.ones((7,7), dtype = int)\n",
    "sub_matrix = np.zeros((5,5), dtype = int)\n",
    "np.fill_diagonal(sub_matrix, 7)\n",
    "np.fill_diagonal(np.fliplr(sub_matrix),7)\n",
    "np.ravel(sub_matrix)[sub_matrix.size//2] = 25\n",
    "matrix[1:-1,1:-1] = sub_matrix\n",
    "matrix"
   ]
  },
  {
   "cell_type": "code",
   "execution_count": null,
   "metadata": {},
   "outputs": [],
   "source": [
    "m = np.ones((7, 7))\n",
    "m[1:6, 1:6] = 0\n",
    "diag = np.diag([0, 7, 7, 25, 7, 7, 0])\n",
    "m[5, 1] = m[4, 2] = m[2, 4] = m[1, 5] = 7\n",
    "\n",
    "\n",
    "v = np.random.randint(-100, 101, size = 200)"
   ]
  },
  {
   "cell_type": "markdown",
   "metadata": {},
   "source": [
    "# Task 2"
   ]
  },
  {
   "cell_type": "code",
   "execution_count": null,
   "metadata": {},
   "outputs": [],
   "source": [
    "m = np.arange(-100,101)\n",
    "print(m)\n",
    "\n",
    "i=0\n",
    "pos=0\n",
    "neg=0\n",
    "while i!=201:\n",
    "    if m[i]>0:\n",
    "        pos+=1\n",
    "    elif m[i]<0:\n",
    "        neg+=1\n",
    "    i+=1\n",
    "print('positive:', pos)\n",
    "print('negative:', neg)"
   ]
  },
  {
   "cell_type": "code",
   "execution_count": null,
   "metadata": {},
   "outputs": [],
   "source": [
    "vector = np.random.randint(-100,100, size =(200,1))\n",
    "\n",
    "pos = 0 \n",
    "neg = 0\n",
    "for i in vector:\n",
    "    if i < 0:\n",
    "        neg+=1\n",
    "    elif i > 0:\n",
    "        pos+=1\n",
    "print(\"Positive:\" + str(pos))\n",
    "print(\"Negative:\" + str(neg) )"
   ]
  },
  {
   "cell_type": "code",
   "execution_count": null,
   "metadata": {},
   "outputs": [],
   "source": [
    "g=np.arange(-100,101)\n",
    "g1=g[0:100]\n",
    "g2=g[101:201]"
   ]
  },
  {
   "cell_type": "code",
   "execution_count": null,
   "metadata": {},
   "outputs": [],
   "source": [
    "b = np.random.randint(-100,100, 200)\n",
    "b = np.where(a > 0, a, 0)\n",
    "b = np.count_nonzero(b>0)\n",
    "\n",
    "b = np.where(a < 0, a, 0)\n",
    "b = np.count_nonzero(b>0)"
   ]
  },
  {
   "cell_type": "markdown",
   "metadata": {},
   "source": [
    "# Task 3"
   ]
  },
  {
   "cell_type": "code",
   "execution_count": null,
   "metadata": {},
   "outputs": [],
   "source": [
    "l1 = np.array([17, -5, 89, 0, -34, -2, 0, 3, -6, -7, 6, 23, 0, -1, 9, -45, -7, 0, 5, 1])\n",
    "l1 = np.where(l1<0,-1,l1)\n",
    "l1 = np.where(l1>0,1,l1)\n",
    "print(l1)"
   ]
  },
  {
   "cell_type": "code",
   "execution_count": null,
   "metadata": {},
   "outputs": [],
   "source": [
    "l1 = [17, -5, 89, 0, 34, -2, 0, 3, -6, -7, 6, 23, 0, -1, 9, -45, -7, 0, 5, 1]\n",
    "\n",
    "for i in range(len(l1)):\n",
    "    if l1[i] > 0:\n",
    "        l1[i] = 1\n",
    "    elif l1[i] < 0:\n",
    "        l1[i] = -1\n",
    "l1  "
   ]
  },
  {
   "cell_type": "code",
   "execution_count": null,
   "metadata": {},
   "outputs": [],
   "source": [
    "filter_arr=[]\n",
    "\n",
    "for element in arr:\n",
    "    if element>0:\n",
    "        filter_arr.append(1)\n",
    "    elif element<0:\n",
    "        filter_arr.append(-1)\n",
    "    else :\n",
    "        filter_arr.append(0)\n",
    "        \n",
    "print(filter_arr)"
   ]
  },
  {
   "cell_type": "markdown",
   "metadata": {},
   "source": [
    "# Task 4"
   ]
  },
  {
   "cell_type": "code",
   "execution_count": null,
   "metadata": {},
   "outputs": [],
   "source": [
    "def arithmetic(first,second,third):\n",
    "    #first: int\n",
    "    #second: int\n",
    "    third:str\n",
    "    \n",
    "    if third == '*':\n",
    "        return(first * second)\n",
    "    elif third == '/':\n",
    "        return(first/second)\n",
    "    elif third == '-':\n",
    "        return(first-second)\n",
    "    elif third == '+':\n",
    "        return(first+second)\n",
    "    else:\n",
    "        return('Unknown Operation')"
   ]
  },
  {
   "cell_type": "code",
   "execution_count": null,
   "metadata": {},
   "outputs": [],
   "source": [
    "arithmetic(5, 6, '+')"
   ]
  },
  {
   "cell_type": "code",
   "execution_count": null,
   "metadata": {},
   "outputs": [],
   "source": [
    "def arithmetic(x,y,operation):\n",
    "    if operation == \"+\":\n",
    "        print(x+y)\n",
    "    elif operation == \"-\":\n",
    "        print(x - y)\n",
    "    elif operation == \"*\":\n",
    "        print(x*y)\n",
    "    elif operation == \"/\":\n",
    "        print(x/y)\n",
    "    else:\n",
    "        print(\"Uknown operation\")"
   ]
  },
  {
   "cell_type": "markdown",
   "metadata": {},
   "source": [
    "# Task 5"
   ]
  },
  {
   "cell_type": "code",
   "execution_count": null,
   "metadata": {},
   "outputs": [],
   "source": [
    "def bank(a,y):\n",
    "    while y!=0:\n",
    "        y-=1\n",
    "        a=a*(1.1)\n",
    "    return(a)"
   ]
  },
  {
   "cell_type": "code",
   "execution_count": null,
   "metadata": {},
   "outputs": [],
   "source": [
    "def bank(A, years):\n",
    "    for i in range(1,years+1):\n",
    "        A = A*1.1\n",
    "        \n",
    "    return A"
   ]
  },
  {
   "cell_type": "code",
   "execution_count": 6,
   "metadata": {},
   "outputs": [
    {
     "name": "stdout",
     "output_type": "stream",
     "text": [
      "Write number of money you want to start with your deposit: 1000\n",
      "If you want to know how much money your deposit will have in particular year, write year (You need to start with 2020): 2027\n",
      "[1000.     1100.     1210.     1331.     1464.1    1610.51   1771.561\n",
      " 1948.7171]\n",
      "[1 2 3 4 5 6 7 8]\n",
      "[[1.0000000e+00 2.0000000e+00 3.0000000e+00 4.0000000e+00 5.0000000e+00\n",
      "  6.0000000e+00 7.0000000e+00 8.0000000e+00]\n",
      " [1.0000000e+03 1.1000000e+03 1.2100000e+03 1.3310000e+03 1.4641000e+03\n",
      "  1.6105100e+03 1.7715610e+03 1.9487171e+03]]\n"
     ]
    }
   ],
   "source": [
    "import numpy as np\n",
    "def deposit():\n",
    "    A = np.array([])\n",
    "    years = np.array([1])\n",
    "    n=int(input(\"Write number of money you want to start with your deposit: \"))\n",
    "    A = np.append(A, n)\n",
    "    a=int(input(\"If you want to know how much money your deposit will have in particular year, write year (You need to start with 2020): \"))\n",
    "    b=a-2020\n",
    "    i=0\n",
    "    e=2\n",
    "    for i in range(b):\n",
    "        n=n*1.1\n",
    "        A = np.append(A, n)\n",
    "        years = np.append(years, e)\n",
    "        i=i+1\n",
    "        e=e+1\n",
    "    print(A)\n",
    "    print(years)\n",
    "    print(np.vstack((years, A)))\n",
    "deposit()"
   ]
  },
  {
   "cell_type": "code",
   "execution_count": null,
   "metadata": {},
   "outputs": [],
   "source": [
    "А = int(input())\n",
    "years = int(input())\n",
    "def A():\n",
    "for A>0 and years>0:\n",
    "print Bank = int(A+A*0.1)*(years)\n",
    "\n",
    "# Не получилось, не поняла что за ошибка."
   ]
  },
  {
   "cell_type": "markdown",
   "metadata": {},
   "source": [
    "# Task 6"
   ]
  },
  {
   "cell_type": "code",
   "execution_count": null,
   "metadata": {},
   "outputs": [],
   "source": [
    "def square(t):\n",
    "    q=4*t\n",
    "    w=t**2\n",
    "    e=math.sqrt(t)\n",
    "    sec=np.array([q,w,e])\n",
    "    list1 = sec.tolist()\n",
    "    print(list1)"
   ]
  },
  {
   "cell_type": "code",
   "execution_count": null,
   "metadata": {},
   "outputs": [],
   "source": [
    "def square(x):\n",
    "    return (x*4, x*x, math.sqrt(x*x + x*x))"
   ]
  },
  {
   "cell_type": "code",
   "execution_count": null,
   "metadata": {},
   "outputs": [],
   "source": []
  },
  {
   "cell_type": "markdown",
   "metadata": {},
   "source": [
    "# Task 7"
   ]
  },
  {
   "cell_type": "code",
   "execution_count": null,
   "metadata": {},
   "outputs": [],
   "source": [
    "# List comprehension - Списковое включение\n",
    "\n",
    "import random\n",
    "s = [0] * 100\n",
    "s = [random.randint(0,1000) for i in range(100)]\n",
    "print(s)\n",
    "\n",
    "ev=0\n",
    "od=0\n",
    "for i in range(100):\n",
    "    if s[i]%2 == 0:\n",
    "        ev+=1\n",
    "    elif s[i]%2 == 1:\n",
    "        od+=1\n",
    "    #c+=1\n",
    "print(ev)\n",
    "print(od)"
   ]
  },
  {
   "cell_type": "code",
   "execution_count": 1,
   "metadata": {},
   "outputs": [
    {
     "data": {
      "text/plain": [
       "[[1, 5], [2, 6], [3, 7], [4, 8]]"
      ]
     },
     "execution_count": 1,
     "metadata": {},
     "output_type": "execute_result"
    }
   ],
   "source": [
    "# List comprehension - Списковое включение\n",
    "x = [1,2,3,4]\n",
    "y = [5,6,7,8]\n",
    "\n",
    "[n for n in range(1, 10000) if n % 2 == 0]\n",
    "[(x, y) for x in range(1, 10) for y in range(1, 10) if x % y == 0]\n",
    "#Выражения-генераторы, которые имеют схожий со списковыми включениями синтаксис, но возвращают итератор\n",
    "sum(n for n in range(1, 10000) if n % 2 == 0)\n",
    "# Объединение по-элементно\n",
    "[[c, a] for c, a in zip(x, airports)]"
   ]
  },
  {
   "cell_type": "code",
   "execution_count": 13,
   "metadata": {},
   "outputs": [],
   "source": [
    "l1 = [1,2,3]\n",
    "l2 = [4,5,6]"
   ]
  },
  {
   "cell_type": "code",
   "execution_count": 9,
   "metadata": {},
   "outputs": [
    {
     "data": {
      "text/plain": [
       "6"
      ]
     },
     "execution_count": 9,
     "metadata": {},
     "output_type": "execute_result"
    }
   ],
   "source": [
    "sum(l)"
   ]
  },
  {
   "cell_type": "code",
   "execution_count": 14,
   "metadata": {},
   "outputs": [
    {
     "data": {
      "text/plain": [
       "[5, 7, 9]"
      ]
     },
     "execution_count": 14,
     "metadata": {},
     "output_type": "execute_result"
    }
   ],
   "source": [
    "[a+b for a, b in zip(l1,l2)]"
   ]
  },
  {
   "cell_type": "code",
   "execution_count": 16,
   "metadata": {},
   "outputs": [
    {
     "data": {
      "text/plain": [
       "[5, 6, 7, 6, 7, 8, 7, 8, 9]"
      ]
     },
     "execution_count": 16,
     "metadata": {},
     "output_type": "execute_result"
    }
   ],
   "source": [
    "[(a+b) for a in l1 for b in l2]"
   ]
  },
  {
   "cell_type": "code",
   "execution_count": null,
   "metadata": {},
   "outputs": [],
   "source": [
    "l = []\n",
    "even = 0 \n",
    "odd = 0 \n",
    "for i in range(0,100):\n",
    "    l.append(np.random.randint(0,100))\n",
    "    \n",
    "for i in l:\n",
    "    if i % 2 == 0:\n",
    "        even+=1\n",
    "    else:\n",
    "        odd+=1\n",
    "print(even)        \n",
    "print(odd)   "
   ]
  },
  {
   "cell_type": "code",
   "execution_count": null,
   "metadata": {},
   "outputs": [],
   "source": [
    "v = np.random.randint(1, 30, 100)\n",
    "\n",
    "even = (v % 2 == 0).sum()\n",
    "odd = (v % 2 != 0).sum()\n",
    "\n",
    "print('Четных: {}\\nНечетных: {}'.format(even, odd))\n"
   ]
  }
 ],
 "metadata": {
  "kernelspec": {
   "display_name": "Python 3",
   "language": "python",
   "name": "python3"
  },
  "language_info": {
   "codemirror_mode": {
    "name": "ipython",
    "version": 3
   },
   "file_extension": ".py",
   "mimetype": "text/x-python",
   "name": "python",
   "nbconvert_exporter": "python",
   "pygments_lexer": "ipython3",
   "version": "3.7.4"
  }
 },
 "nbformat": 4,
 "nbformat_minor": 2
}
