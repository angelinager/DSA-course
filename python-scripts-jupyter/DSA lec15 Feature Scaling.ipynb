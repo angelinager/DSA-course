{
 "cells": [
  {
   "cell_type": "code",
   "execution_count": 1,
   "metadata": {},
   "outputs": [],
   "source": [
    "import numpy as np\n",
    "import pandas as pd\n",
    "import matplotlib.pyplot as plt\n"
   ]
  },
  {
   "cell_type": "markdown",
   "metadata": {},
   "source": [
    "## Загрузим готовый датасет Breast Cancer из библиотеки Sklearn и разделим данные на train/test"
   ]
  },
  {
   "cell_type": "code",
   "execution_count": 2,
   "metadata": {},
   "outputs": [],
   "source": [
    "from sklearn.datasets import load_breast_cancer\n",
    "from sklearn.model_selection import train_test_split\n",
    "\n",
    "X, y = load_breast_cancer(return_X_y = True)\n",
    "\n",
    "X_train, X_test, y_train, y_test = train_test_split(X, y, test_size = 0.15, shuffle=True, random_state=42)\n"
   ]
  },
  {
   "cell_type": "markdown",
   "metadata": {},
   "source": [
    "### Если вы собираетесь использовать линейные модели (Logistic Regression, LDA, Perceptron, SVM, SGDClassifier), или модели, которые высчитывают расстояния между точками (K-NN, PCA), то перед подачей данных в модели для тренировки их обязательно необходимо либо стандартизировать, либо нормализовать.  "
   ]
  },
  {
   "cell_type": "markdown",
   "metadata": {},
   "source": [
    "## Нормализация данных"
   ]
  },
  {
   "cell_type": "code",
   "execution_count": 3,
   "metadata": {},
   "outputs": [],
   "source": [
    "# Нормализация масштабирует данные в диапазоне [0-1]\n",
    "# Из модуля preprocessing импортируем класс MinMaxScaler.\n",
    "# По умолчанию в этом классе минимальное значение - 0, максимальное - 1\n",
    "from sklearn.preprocessing import MinMaxScaler\n",
    "\n",
    "# Создаем модель для масштабирования и трансформирования данных\n",
    "norm_scaler = MinMaxScaler()\n",
    "\n",
    "# В эту модель отправляем данные тренировочной выборки\n",
    "# Внимание!!! Ваша модель трансформации данных должна видеть только данные для обучения.\n",
    "# Метод  fit() никогда не должен видеть тестовые данные, иначе у вас может дальше произойти \n",
    "# data leakage, когда модели машинного обучения смогут как-то подсмотреть, что происходит \n",
    "# с тестовыми данными, которые были использованы для масштабирования.\n",
    "\n",
    "norm_scaler.fit(X_train)\n",
    "\n",
    "# Трансформируем обучающие данные используя модель нормализации, обученную на тренировочной выборке\n",
    "X_train_norm = norm_scaler.transform(X_train)\n",
    "\n",
    "# Аналогичная команда, которая сразу и отправляет обучающие данные в модель и делает трансформацию \n",
    "#X_train_norm = norm_scaler.fit_transform(X_train)\n",
    "\n",
    "# Трансформируем тестовые данные используя модель нормализации, обученную на тренировочной выборке\n",
    "X_test_norm = norm_scaler.transform(X_test)"
   ]
  },
  {
   "cell_type": "markdown",
   "metadata": {},
   "source": [
    "## Стандартизация данных"
   ]
  },
  {
   "cell_type": "code",
   "execution_count": 4,
   "metadata": {},
   "outputs": [],
   "source": [
    "# Стандартизация делает так, чтобы среднее значение в каждом столбце признаков\n",
    "# было равно 0, а среднеквадратическое отклонение 1 (mean=0, std = 1)\n",
    "\n",
    "# Из модуля preprocessing импортируем класс StandardScaler.\n",
    "from sklearn.preprocessing import StandardScaler\n",
    "\n",
    "# Создаем модель для масштабирования и трансформирования данных\n",
    "stand_scaler = StandardScaler()\n",
    "\n",
    "# В эту модель отправляем данные тренировочной выборки\n",
    "# Внимание!!! Ваша модель трансформации данных должна видеть только данные для обучения.\n",
    "# Метод  fit() никогда не должен видеть тестовые данные, иначе у вас может дальше произойти \n",
    "# data leakage, когда модели машинного обучения смогут как-то подсмотреть, что происходит \n",
    "# с тестовыми данными, которые были использованы для масштабирования.\n",
    "\n",
    "stand_scaler.fit(X_train)\n",
    "\n",
    "# Трансформируем обучающие данные используя модель нормализации, обученную на тренировочной выборке\n",
    "X_train_stand = stand_scaler.transform(X_train)\n",
    "\n",
    "# Аналогичная команда, которая сразу и отправляет обучающие данные в модель и делает трансформацию \n",
    "#X_train_norm = norm_scaler.fit_transform(X_train)\n",
    "\n",
    "# Трансформируем тестовые данные используя модель нормализации, обученную на тренировочной выборке\n",
    "X_test_stand = stand_scaler.transform(X_test)"
   ]
  },
  {
   "cell_type": "markdown",
   "metadata": {},
   "source": [
    "## Используем линейную модель Logistic Regression без масштабирования данных"
   ]
  },
  {
   "cell_type": "code",
   "execution_count": 5,
   "metadata": {},
   "outputs": [
    {
     "name": "stdout",
     "output_type": "stream",
     "text": [
      "Train accuracy:  0.9420289855072463\n",
      "Test accuracy:  0.9534883720930233\n"
     ]
    },
    {
     "name": "stderr",
     "output_type": "stream",
     "text": [
      "/Users/angiemelomangie/opt/anaconda3/lib/python3.7/site-packages/sklearn/linear_model/_logistic.py:940: ConvergenceWarning: lbfgs failed to converge (status=1):\n",
      "STOP: TOTAL NO. of ITERATIONS REACHED LIMIT.\n",
      "\n",
      "Increase the number of iterations (max_iter) or scale the data as shown in:\n",
      "    https://scikit-learn.org/stable/modules/preprocessing.html\n",
      "Please also refer to the documentation for alternative solver options:\n",
      "    https://scikit-learn.org/stable/modules/linear_model.html#logistic-regression\n",
      "  extra_warning_msg=_LOGISTIC_SOLVER_CONVERGENCE_MSG)\n"
     ]
    }
   ],
   "source": [
    "from sklearn.linear_model import LogisticRegression\n",
    "from sklearn.metrics import *\n",
    "\n",
    "# Создаем объект модели логистической регресии\n",
    "log_regr = LogisticRegression()\n",
    "\n",
    "# Тренируем модель на входных данных при помощи метода fit()\n",
    "log_regr.fit(X_train, y_train)\n",
    "\n",
    "y_train_pred = log_regr.predict(X_train) \n",
    "y_test_pred = log_regr.predict(X_test)\n",
    " \n",
    "print(\"Train accuracy: \", accuracy_score(y_train,y_train_pred))\n",
    "print(\"Test accuracy: \", accuracy_score(y_test,y_test_pred))\n",
    "\n",
    "# Такая модель будет выдавать предупреждение о том, что она не успела сойтись к оптимальному решению\n",
    "# за 100 повторений и порекомендует вам сделать стандартизацию/нормализацию данных"
   ]
  },
  {
   "cell_type": "markdown",
   "metadata": {},
   "source": [
    "## Используем линейную модель Logistic Regression с нормализованными данными"
   ]
  },
  {
   "cell_type": "code",
   "execution_count": 6,
   "metadata": {},
   "outputs": [
    {
     "name": "stdout",
     "output_type": "stream",
     "text": [
      "Train accuracy:  0.968944099378882\n",
      "Test accuracy:  0.9767441860465116\n"
     ]
    }
   ],
   "source": [
    "# Создаем новый объект модели логистической регресии\n",
    "log_regr_norm = LogisticRegression()\n",
    "\n",
    "# Тренируем модель на входных данных при помощи метода fit()\n",
    "log_regr_norm.fit(X_train_norm, y_train)\n",
    "\n",
    "y_train_pred = log_regr_norm.predict(X_train_norm)\n",
    "y_test_pred = log_regr_norm.predict(X_test_norm)\n",
    "\n",
    "print(\"Train accuracy: \", accuracy_score(y_train,y_train_pred))\n",
    "print(\"Test accuracy: \", accuracy_score(y_test,y_test_pred))\n",
    "\n",
    "# Как видно ниже, модель успевает сойтись к оптимальному решению за 100 повторений и\n",
    "# не выдает нам предупреждений"
   ]
  },
  {
   "cell_type": "markdown",
   "metadata": {},
   "source": [
    "## Используем линейную модель Logistic Regression со стандартизированными данными"
   ]
  },
  {
   "cell_type": "code",
   "execution_count": 7,
   "metadata": {},
   "outputs": [
    {
     "name": "stdout",
     "output_type": "stream",
     "text": [
      "Train accuracy:  0.9875776397515528\n",
      "Test accuracy:  0.9767441860465116\n"
     ]
    }
   ],
   "source": [
    "# Создаем новый объект модели логистической регресии\n",
    "log_regr_stand = LogisticRegression()\n",
    "\n",
    "# Тренируем модель на входных данных при помощи метода fit()\n",
    "log_regr_stand.fit(X_train_stand, y_train)\n",
    "\n",
    "y_train_pred = log_regr_stand.predict(X_train_stand)\n",
    "y_test_pred = log_regr_stand.predict(X_test_stand)\n",
    "\n",
    "print(\"Train accuracy: \", accuracy_score(y_train,y_train_pred))\n",
    "print(\"Test accuracy: \", accuracy_score(y_test,y_test_pred))\n",
    "\n",
    "# Как видно ниже, модель тоже успевает сойтись к оптимальному решению за 100 повторений и\n",
    "# не выдает нам предупреждений\n",
    "\n",
    "# Более того, результат предсказаний у модели на стандартизованных данных даже выше, \n",
    "# чем на нормализованных данных"
   ]
  },
  {
   "cell_type": "markdown",
   "metadata": {},
   "source": [
    "### Масштабирование данных не влияет на результат предсказаний алгоритмов, работа которых НЕ основана на высчитывании расстояния (например, probability-based and rule-based algorithms). Такими алгоритмами являются Naive Bayes, Decision Tree, Random Forest, и другие ансамблевые алгоритмы, которые используют Decision Tree как основную оценочную функцию (base estimator). Например, AdaBoost, XGBoost."
   ]
  },
  {
   "cell_type": "code",
   "execution_count": 8,
   "metadata": {},
   "outputs": [
    {
     "name": "stdout",
     "output_type": "stream",
     "text": [
      "Train accuracy without scaling:  1.0\n",
      "Test accuracy without scaling:  1.0\n",
      "-------\n",
      "Train accuracy with normalization:  1.0\n",
      "Test accuracy with normalization:  1.0\n",
      "-------\n",
      "Train accuracy with standardization:  1.0\n",
      "Test accuracy with standardization:  1.0\n",
      "-------\n"
     ]
    }
   ],
   "source": [
    "# Посмотрим, что стандартизация/нормализация не влияет на результат предсказаний алгоритма Decision Tree\n",
    "\n",
    "from sklearn.tree import DecisionTreeClassifier\n",
    "\n",
    "train_accuracy = []\n",
    "test_accuracy = []\n",
    "\n",
    "X_train_data = [X_train, X_train_norm, X_train_stand]\n",
    "X_test_data = [X_test, X_test_norm, X_test_stand]\n",
    "\n",
    "for i in range(0, len(X_train_data)):\n",
    "    tree_clf = DecisionTreeClassifier()\n",
    "    tree_clf.fit(X_train_data[i], y_train)\n",
    "    \n",
    "    y_train_pred = tree_clf.predict(X_train_data[i])\n",
    "    y_test_pred = tree_clf.predict(X_test_data[i])\n",
    "    \n",
    "    train_accuracy.append(accuracy_score(y_train,y_train_pred))\n",
    "    test_accuracy.append(accuracy_score(y_test,y_test_pred))\n",
    "    \n",
    "print(\"Train accuracy without scaling: \", train_accuracy[0])\n",
    "print(\"Test accuracy without scaling: \", train_accuracy[0])\n",
    "print(\"-------\")\n",
    "\n",
    "print(\"Train accuracy with normalization: \", train_accuracy[1])\n",
    "print(\"Test accuracy with normalization: \", train_accuracy[1])\n",
    "print(\"-------\")\n",
    "\n",
    "print(\"Train accuracy with standardization: \", train_accuracy[2])\n",
    "print(\"Test accuracy with standardization: \", train_accuracy[2])\n",
    "print(\"-------\")"
   ]
  },
  {
   "cell_type": "code",
   "execution_count": null,
   "metadata": {},
   "outputs": [],
   "source": []
  }
 ],
 "metadata": {
  "kernelspec": {
   "display_name": "Python 3",
   "language": "python",
   "name": "python3"
  },
  "language_info": {
   "codemirror_mode": {
    "name": "ipython",
    "version": 3
   },
   "file_extension": ".py",
   "mimetype": "text/x-python",
   "name": "python",
   "nbconvert_exporter": "python",
   "pygments_lexer": "ipython3",
   "version": "3.7.4"
  }
 },
 "nbformat": 4,
 "nbformat_minor": 2
}
