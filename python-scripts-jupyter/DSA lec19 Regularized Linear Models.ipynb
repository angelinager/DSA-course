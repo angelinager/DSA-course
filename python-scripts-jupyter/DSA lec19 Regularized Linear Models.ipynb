{
 "cells": [
  {
   "cell_type": "code",
   "execution_count": 1,
   "metadata": {},
   "outputs": [],
   "source": [
    "import numpy as np\n",
    "import pandas as pd\n",
    "import matplotlib.pyplot as plt\n",
    "\n",
    "from sklearn.datasets import load_breast_cancer\n",
    "from sklearn.model_selection import train_test_split\n",
    "from sklearn.metrics import *\n",
    "from sklearn.preprocessing import StandardScaler\n",
    "from sklearn.linear_model import LogisticRegression\n",
    "from sklearn.linear_model import SGDClassifier"
   ]
  },
  {
   "cell_type": "markdown",
   "metadata": {},
   "source": [
    "## Загрузим готовый датасет Breast Cancer из библиотеки Sklearn и разделим данные на train/test"
   ]
  },
  {
   "cell_type": "code",
   "execution_count": 2,
   "metadata": {},
   "outputs": [],
   "source": [
    "X, y = load_breast_cancer(return_X_y = True)\n",
    "\n",
    "X_train, X_test, y_train, y_test = train_test_split(X, y, test_size = 0.15, shuffle=True, random_state=0)\n",
    "\n",
    "# Стандартизируем данные\n",
    "scaler = StandardScaler()\n",
    "X_train = scaler.fit_transform(X_train)\n",
    "X_test = scaler.transform(X_test)"
   ]
  },
  {
   "cell_type": "markdown",
   "metadata": {},
   "source": [
    "## Логистическая регрессия при помощи класса SGDClassifier без регуляризции"
   ]
  },
  {
   "cell_type": "code",
   "execution_count": 12,
   "metadata": {},
   "outputs": [
    {
     "name": "stdout",
     "output_type": "stream",
     "text": [
      "Train accuracy:  0.9855072463768116\n",
      "Test accuracy:  0.9767441860465116\n",
      "Weights:\n",
      " [[ 10.20712073   8.95340795  11.29235593   1.27580353 -14.83434428\n",
      "   47.61296673 -19.76841317 -18.53293534  18.6009443    6.96687455\n",
      "  -48.03775949  13.5234203  -24.32877841 -48.2574854  -20.26202862\n",
      "   -7.06322515  22.98762279 -17.97388348   5.06754774  56.36120389\n",
      "  -26.24376563 -44.43656363 -19.06519628 -33.66196518  -0.51913422\n",
      "   -0.87187305 -40.00442683 -28.1889278  -21.63179411 -33.29478491]]\n"
     ]
    }
   ],
   "source": [
    "log_regr = SGDClassifier(loss='log', penalty='none')\n",
    "log_regr.fit(X_train, y_train)\n",
    "y_train_pred = log_regr.predict(X_train)\n",
    "y_test_pred = log_regr.predict(X_test)\n",
    "\n",
    "print(\"Train accuracy: \", accuracy_score(y_train,y_train_pred))\n",
    "print(\"Test accuracy: \", accuracy_score(y_test,y_test_pred))\n",
    "\n",
    "print(\"Weights:\\n\", log_regr.coef_)"
   ]
  },
  {
   "cell_type": "markdown",
   "metadata": {},
   "source": [
    "## Ridge (L2) Regression"
   ]
  },
  {
   "cell_type": "code",
   "execution_count": 9,
   "metadata": {},
   "outputs": [
    {
     "name": "stdout",
     "output_type": "stream",
     "text": [
      "Train accuracy:  0.9710144927536232\n",
      "Test accuracy:  0.9651162790697675\n",
      "Weights:\n",
      " [[-0.10127783  1.41553919 -0.25770555 -0.8575228  -3.7076381   6.40737434\n",
      "  -5.95500384 -2.68721969  0.56348117 -1.00740511 -6.47083069  3.04150005\n",
      "   0.29469494 -7.95054702 -5.32356981 -6.23943089  6.5160247  -4.52789456\n",
      "   1.17338667  6.7137584  -5.64797438 -8.29592967 -3.89301757 -6.21792999\n",
      "   1.95827474  2.27485214 -4.16384192 -2.70012369 -5.22840436 -4.98825651]]\n"
     ]
    }
   ],
   "source": [
    "l2_regr = SGDClassifier(loss='log', penalty='l2')\n",
    "l2_regr.fit(X_train, y_train)\n",
    "y_train_pred = l2_regr.predict(X_train)\n",
    "y_test_pred = l2_regr.predict(X_test)\n",
    "\n",
    "print(\"Train accuracy: \", accuracy_score(y_train,y_train_pred))\n",
    "print(\"Test accuracy: \", accuracy_score(y_test,y_test_pred))\n",
    "\n",
    "print(\"Weights:\\n\", l2_regr.coef_)"
   ]
  },
  {
   "cell_type": "markdown",
   "metadata": {},
   "source": [
    "## Lasso (L1) Regression"
   ]
  },
  {
   "cell_type": "code",
   "execution_count": 10,
   "metadata": {},
   "outputs": [
    {
     "name": "stdout",
     "output_type": "stream",
     "text": [
      "Train accuracy:  0.9772256728778468\n",
      "Test accuracy:  0.9767441860465116\n",
      "Weights:\n",
      " [[  3.66955265   8.57642098   5.64785026   0.67948295 -10.6129727\n",
      "   31.82832578 -11.89978457 -22.67939807   7.41824761   1.01920679\n",
      "  -39.02620545  12.04097489  -7.52987554 -31.37398718  -9.56137386\n",
      "    0.          12.02618676 -12.72498356   4.81901328  20.30293437\n",
      "  -17.26567868 -34.30721459  -8.76044688 -17.95370176   3.38342163\n",
      "    1.06965294 -17.90649628 -17.53204094 -16.32889517 -23.2018923 ]]\n"
     ]
    }
   ],
   "source": [
    "l1_regr = SGDClassifier(loss='log', penalty='l1')\n",
    "l1_regr.fit(X_train, y_train)\n",
    "y_train_pred = l1_regr.predict(X_train)\n",
    "y_test_pred = l1_regr.predict(X_test)\n",
    "\n",
    "print(\"Train accuracy: \", accuracy_score(y_train,y_train_pred))\n",
    "print(\"Test accuracy: \", accuracy_score(y_test,y_test_pred))\n",
    "\n",
    "print(\"Weights:\\n\", l1_regr.coef_)"
   ]
  },
  {
   "cell_type": "markdown",
   "metadata": {},
   "source": [
    "## Ridge (L1+L2) Regression"
   ]
  },
  {
   "cell_type": "code",
   "execution_count": 11,
   "metadata": {},
   "outputs": [
    {
     "name": "stdout",
     "output_type": "stream",
     "text": [
      "Train accuracy:  0.9834368530020704\n",
      "Test accuracy:  0.9883720930232558\n",
      "Weights:\n",
      " [[ 0.65932487  1.54335721  0.73675036  0.         -3.40895205  7.2407822\n",
      "  -5.59826303 -2.06118327  0.65428027 -0.29701998 -7.82872853  3.76994261\n",
      "   0.         -9.27892925 -2.56332695 -3.78734593  5.90569538 -4.11615785\n",
      "   1.28678221  6.99551621 -5.28213541 -7.8081117  -2.98098677 -6.47469341\n",
      "   1.12660205  3.75008475 -4.29632965 -3.66658408 -3.88359172 -5.46727081]]\n"
     ]
    }
   ],
   "source": [
    "elnet_regr = SGDClassifier(loss='log', penalty='elasticnet')\n",
    "elnet_regr.fit(X_train, y_train)\n",
    "y_train_pred = elnet_regr.predict(X_train)\n",
    "y_test_pred = elnet_regr.predict(X_test)\n",
    "\n",
    "print(\"Train accuracy: \", accuracy_score(y_train,y_train_pred))\n",
    "print(\"Test accuracy: \", accuracy_score(y_test,y_test_pred))\n",
    "\n",
    "print(\"Weights:\\n\", elnet_regr.coef_)"
   ]
  },
  {
   "cell_type": "code",
   "execution_count": null,
   "metadata": {},
   "outputs": [],
   "source": []
  }
 ],
 "metadata": {
  "kernelspec": {
   "display_name": "Python 3",
   "language": "python",
   "name": "python3"
  },
  "language_info": {
   "codemirror_mode": {
    "name": "ipython",
    "version": 3
   },
   "file_extension": ".py",
   "mimetype": "text/x-python",
   "name": "python",
   "nbconvert_exporter": "python",
   "pygments_lexer": "ipython3",
   "version": "3.7.4"
  }
 },
 "nbformat": 4,
 "nbformat_minor": 2
}
