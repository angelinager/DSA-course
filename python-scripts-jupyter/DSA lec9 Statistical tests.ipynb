{
 "cells": [
  {
   "cell_type": "code",
   "execution_count": 1,
   "metadata": {},
   "outputs": [],
   "source": [
    "import numpy as np\n",
    "import pandas as pd\n",
    "import matplotlib.pyplot as plt\n",
    "import scipy\n",
    "from scipy import stats\n",
    "\n",
    "cities = pd.read_csv(\"CitiesExt.csv\")\n",
    "players = pd.read_csv(\"PlayersExt.csv\")"
   ]
  },
  {
   "cell_type": "markdown",
   "metadata": {},
   "source": [
    "# Визуальные статистические тесты"
   ]
  },
  {
   "cell_type": "code",
   "execution_count": 22,
   "metadata": {},
   "outputs": [
    {
     "data": {
      "image/png": "[encoded data removed]",
      "text/plain": [
       "<Figure size 432x288 with 1 Axes>"
      ]
     },
     "metadata": {
      "needs_background": "light"
     },
     "output_type": "display_data"
    }
   ],
   "source": [
    "# Гистограмма\n",
    "plt.hist(cities['temperature'])\n",
    "plt.ylabel(\"Temperature\")\n",
    "plt.show()"
   ]
  },
  {
   "cell_type": "code",
   "execution_count": 3,
   "metadata": {},
   "outputs": [
    {
     "data": {
      "image/png": "[encoded data removed]",
      "text/plain": [
       "<Figure size 432x288 with 1 Axes>"
      ]
     },
     "metadata": {
      "needs_background": "light"
     },
     "output_type": "display_data"
    }
   ],
   "source": [
    "# Q-Q (Quantile-Quantile) Test\n",
    "\n",
    "from statsmodels.graphics.gofplots import qqplot\n",
    "\n",
    "qqplot(cities['temperature'], line='s')\n",
    "plt.title(\"Distribution of 'Temperature' varibale\")\n",
    "plt.show()"
   ]
  },
  {
   "cell_type": "markdown",
   "metadata": {},
   "source": [
    "# Тесты на нормальность"
   ]
  },
  {
   "cell_type": "code",
   "execution_count": 4,
   "metadata": {},
   "outputs": [
    {
     "name": "stdout",
     "output_type": "stream",
     "text": [
      "p-value: 0.00035\n",
      "Data DOES NOT look normal (reject H0)\n"
     ]
    }
   ],
   "source": [
    "# Тест Шапиро-Уилка\n",
    "\n",
    "X = cities['temperature']\n",
    "stat, p = scipy.stats.shapiro(X)\n",
    "alpha=0.05\n",
    "print(\"p-value: %0.5f\"%p)\n",
    "\n",
    "if p > alpha:\n",
    "    print('Data LOOKS normal (fail to reject H0)')\n",
    "else:\n",
    "    print('Data DOES NOT look normal (reject H0)')"
   ]
  },
  {
   "cell_type": "code",
   "execution_count": 5,
   "metadata": {},
   "outputs": [
    {
     "name": "stdout",
     "output_type": "stream",
     "text": [
      "p-value: 0.10219\n",
      "Data LOOKS normal (fail to reject H0)\n"
     ]
    }
   ],
   "source": [
    "# Тест D'Agostino's K-squared\n",
    "\n",
    "X = cities['temperature']\n",
    "stat, p = scipy.stats.normaltest(X)\n",
    "alpha=0.05\n",
    "print(\"p-value: %0.5f\"%p)\n",
    "\n",
    "if p > alpha:\n",
    "    print('Data LOOKS normal (fail to reject H0)')\n",
    "else:\n",
    "    print('Data DOES NOT look normal (reject H0)')"
   ]
  },
  {
   "cell_type": "code",
   "execution_count": 6,
   "metadata": {},
   "outputs": [
    {
     "name": "stdout",
     "output_type": "stream",
     "text": [
      "p-value: 0.13459\n",
      "Data LOOKS normal (fail to reject H0)\n"
     ]
    }
   ],
   "source": [
    "# Тест Колмогорова-Смирнова\n",
    "\n",
    "X = cities['temperature']\n",
    "stats, p = scipy.stats.kstest(X, 'norm', args=(np.mean(X), np.std(X)))\n",
    "\n",
    "alpha=0.05\n",
    "print(\"p-value: %0.5f\"%p)\n",
    "\n",
    "if p > alpha:\n",
    "    print('Data LOOKS normal (fail to reject H0)')\n",
    "else:\n",
    "    print('Data DOES NOT look normal (reject H0)')"
   ]
  },
  {
   "cell_type": "code",
   "execution_count": 7,
   "metadata": {},
   "outputs": [
    {
     "name": "stdout",
     "output_type": "stream",
     "text": [
      "Statistic: 2.293\n",
      "Significance Level: 15.000, Critical value: 0.566, data DOES NOT look normal (reject H0)\n",
      "Significance Level: 10.000, Critical value: 0.644, data DOES NOT look normal (reject H0)\n",
      "Significance Level: 5.000, Critical value: 0.773, data DOES NOT look normal (reject H0)\n",
      "Significance Level: 2.500, Critical value: 0.902, data DOES NOT look normal (reject H0)\n",
      "Significance Level: 1.000, Critical value: 1.072, data DOES NOT look normal (reject H0)\n"
     ]
    }
   ],
   "source": [
    "# Тест Anderson-Darling\n",
    "\n",
    "X = cities['temperature']\n",
    "result = scipy.stats.anderson(X)\n",
    "print('Statistic: %.3f' % result.statistic)\n",
    "\n",
    "# Критические значения в статистическом тесте - это диапазон предварительно определенных границ значимости, \n",
    "# при которых H0 может быть отклонен, если расчетная статистика меньше критического значения. \n",
    "# Вместо простого p-value этот тест возвращает критическое значение для диапазона различных обычно используемых\n",
    "# уровней значимости (15, 10, 5, 2.5, 1%)\n",
    "\n",
    "# Мы можем интерпретировать результаты так:\n",
    "# Мы можем НЕ В СОСТОЯНИИ ОТКЛОНИТЬ  нулевую гипотезу о том, что данные являются нормальными, \n",
    "# если рассчитанная статистика теста result.statistic меньше критического значения на выбранном уровне значимости.\n",
    "\n",
    "\n",
    "for i in range(len(result.critical_values)):\n",
    "    sl, cv = result.significance_level[i], result.critical_values[i]\n",
    "    if result.statistic < result.critical_values[i]:\n",
    "        print('Significance Level: %.3f, Critical value: %.3f, data LOOKS normal (fail to reject H0)' % (sl, cv))\n",
    "    else:\n",
    "        print('Significance Level: %.3f, Critical value: %.3f, data DOES NOT look normal (reject H0)' % (sl, cv))"
   ]
  },
  {
   "attachments": {},
   "cell_type": "markdown",
   "metadata": {},
   "source": [
    "# t-критерий Стьюдента для 1 выборки\n",
    "## 1-sample t-test"
   ]
  },
  {
   "cell_type": "code",
   "execution_count": 8,
   "metadata": {},
   "outputs": [
    {
     "name": "stdout",
     "output_type": "stream",
     "text": [
      "Sample mean:  9.497840375586858\n",
      "Assumed Population mean:  9.99\n",
      "0.044961602492320625\n",
      "Reject H0: Sample mean DOES NOT EQUAL to the population mean of 9.99\n"
     ]
    }
   ],
   "source": [
    "X = cities['temperature']\n",
    "print(\"Sample mean: \", np.mean(X))\n",
    "\n",
    "pop_mean = 9.99\n",
    "print(\"Assumed Population mean: \", pop_mean)\n",
    "\n",
    "stats, p = scipy.stats.ttest_1samp(X, pop_mean)\n",
    "\n",
    "alpha = 0.05\n",
    "print(p)\n",
    "if p > alpha:\n",
    "    print('Fail to Reject H0: Sample mean EQUALS to the population mean of', pop_mean)\n",
    "else:\n",
    "    print('Reject H0: Sample mean DOES NOT EQUAL to the population mean of', pop_mean)"
   ]
  },
  {
   "cell_type": "markdown",
   "metadata": {},
   "source": [
    "# t-критерий c 2 выборками – Зависимый (парный)\n",
    "## 2-sample t-test – Dependent (paired)"
   ]
  },
  {
   "cell_type": "code",
   "execution_count": 9,
   "metadata": {},
   "outputs": [
    {
     "name": "stdout",
     "output_type": "stream",
     "text": [
      "Reject H0: Means of two groups are different           \n",
      "Различия между средними значениями двух связанных групп есть\n"
     ]
    }
   ],
   "source": [
    "# Для проведения зависимого (парного) t-теста, две группы должны быть как-то связаны между собой: например, \n",
    "# пациенты до приема лекарств/ те же самые пациенты после приема лекарств; продажи товаров до промоакции/после промоакции и т.д\n",
    "# Поэтому придумаем данные для 20 студентов, где первый вектор будет содержать их оценки до введения новой методики \n",
    "# преподавания, а второй - оценки после.\n",
    "\n",
    "# Количество элементов в двух группах обязано быть одинаковым\n",
    "scores_before = [18,21,16,22,19,24,17,21,23,18,14,16,16,19,18,20,12,22,15,17]\n",
    "scores_after = [22,25,17,24,16,29,20,23,19,20,15,15,18,26,18,24,18,25,19,16]\n",
    "\n",
    "stats, p = scipy.stats.ttest_rel(scores_before, scores_after)\n",
    "\n",
    "alpha = 0.05\n",
    "if p > alpha:\n",
    "    print('Fail to Reject H0: Means of two groups are the same \\\n",
    "    \\nНет никаких различий между средними значениями двух связанных групп')\n",
    "else:\n",
    "    print('Reject H0: Means of two groups are different \\\n",
    "          \\nРазличия между средними значениями двух связанных групп есть')"
   ]
  },
  {
   "attachments": {},
   "cell_type": "markdown",
   "metadata": {},
   "source": [
    "# t-критерий c 2 выборками – Независимый (непарный)\n",
    "## 2-sample t-test – Independent (unpaired)"
   ]
  },
  {
   "cell_type": "code",
   "execution_count": 10,
   "metadata": {},
   "outputs": [],
   "source": [
    "# Возьмем температуру только тех городов, которые находятся в Турции и Испании, и запишем их в отдельные Series\n",
    "temp_Spain = cities['temperature'][cities['country'].isin(['Spain'])]\n",
    "temp_Turkey = cities['temperature'][cities['country'].isin(['Turkey'])]"
   ]
  },
  {
   "cell_type": "code",
   "execution_count": 11,
   "metadata": {},
   "outputs": [
    {
     "name": "stdout",
     "output_type": "stream",
     "text": [
      "p-value for Spain:  0.07198639959096909\n",
      "p-value for Turkey:  0.8581765294075012\n",
      "\n",
      "Levene's test p-value:  0.7673199749170561\n",
      "Fail to Reject H0: Homogeneity of variance CAN be assumed\n",
      "\n",
      "Independent t-test\n",
      "p-value:  0.003961558020063635\n",
      "Reject H0: The means of two groups ARE different\n"
     ]
    }
   ],
   "source": [
    "# Проведение независимого t-теста требует, чтобы данные в обоих группах были нормально распределены, \n",
    "# а также, чтобы дисперсия (variance) в группах была однородной\n",
    "\n",
    "# Поэтому сначала проверим выборки на нормальность\n",
    "stats, p1 = scipy.stats.shapiro(temp_Spain)\n",
    "stats, p2 = scipy.stats.shapiro(temp_Turkey)\n",
    "\n",
    "print(\"p-value for Spain: \", p1) \n",
    "print(\"p-value for Turkey: \", p2)\n",
    "\n",
    "# После того, как мы удостоверились в нормальности данных, необходимо провести тест на однородность дисперсии\n",
    "# Levene's test on homogeneity of variance\n",
    "\n",
    "stats, p3 = scipy.stats.levene(temp_Spain, temp_Turkey)\n",
    "\n",
    "alpha = 0.05\n",
    "\n",
    "print(\"\\nLevene's test p-value: \", p3)\n",
    "if p3 > alpha:\n",
    "    print('Fail to Reject H0: Homogeneity of variance CAN be assumed')\n",
    "else:\n",
    "    print('Reject H0: Homogeneity of variance CANNOT be assumed')\n",
    "\n",
    "    \n",
    "# Наконец, проводим независимый t-тест, чтобы определить, есть ли статистически значимая разница между \n",
    "# средними значениями в двух несвязанных группах городов. \n",
    "\n",
    "print(\"\\nIndependent t-test\")\n",
    "stats, p = scipy.stats.ttest_ind(temp_Spain, temp_Turkey)\n",
    "\n",
    "print(\"p-value: \", p)\n",
    "if p > alpha:\n",
    "    print('Fail to Reject H0: The means of two groups ARE NOT different')\n",
    "else:\n",
    "    print('Reject H0: The means of two groups ARE different')"
   ]
  },
  {
   "cell_type": "code",
   "execution_count": 12,
   "metadata": {},
   "outputs": [
    {
     "data": {
      "image/png": "[encoded data removed]",
      "text/plain": [
       "<Figure size 432x288 with 1 Axes>"
      ]
     },
     "metadata": {
      "needs_background": "light"
     },
     "output_type": "display_data"
    }
   ],
   "source": [
    "# Независимый  t-test показал, что средняя температура в городах Турции и Испании значительно (статистически)\n",
    "# отличается друг от друга. Это также станет очевидно, если мы построим  boxplot для двух этих групп городов вместе\n",
    "\n",
    "plt.boxplot([temp_Spain, temp_Turkey])\n",
    "plt.xticks([1,2], ['Spain', 'Turkey'])\n",
    "plt.grid()\n",
    "plt.show()\n"
   ]
  },
  {
   "cell_type": "markdown",
   "metadata": {},
   "source": [
    "# Односторонний дисперсионный анализ\n",
    "## One-Way ANOVA Test"
   ]
  },
  {
   "cell_type": "code",
   "execution_count": 13,
   "metadata": {},
   "outputs": [],
   "source": [
    "# ANOVA - это тот же самый независимый t-test, только для 3 и более разных не связанных между собой групп."
   ]
  },
  {
   "cell_type": "code",
   "execution_count": 14,
   "metadata": {},
   "outputs": [],
   "source": [
    "# Возьмем температуру только тех городов, которые находятся в Турции и Испании, и запишем их в отдельные Series\n",
    "temp_Turkey = cities['temperature'][cities['country'].isin(['Turkey'])]\n",
    "temp_France = cities['temperature'][cities['country'].isin(['France'])]\n",
    "temp_Italy = cities['temperature'][cities['country'].isin(['Italy'])]"
   ]
  },
  {
   "cell_type": "code",
   "execution_count": 15,
   "metadata": {},
   "outputs": [
    {
     "name": "stdout",
     "output_type": "stream",
     "text": [
      "p-value for Turkey:  0.8581765294075012\n",
      "p-value for France:  0.15239153802394867\n",
      "p-value for Italy:  0.5013645887374878\n"
     ]
    }
   ],
   "source": [
    "# ANOVA также опирается на предположения нормальности распределения в каждой группе, а также на однородность \n",
    "# дисперсии в группах. Поэтому, проведем тесты на нормальность\n",
    "\n",
    "stats, p1 = scipy.stats.shapiro(temp_Turkey)\n",
    "stats, p2 = scipy.stats.shapiro(temp_France)\n",
    "stats, p3 = scipy.stats.shapiro(temp_Italy)\n",
    "\n",
    "print(\"p-value for Turkey: \", p1) \n",
    "print(\"p-value for France: \", p2)\n",
    "print(\"p-value for Italy: \", p3)"
   ]
  },
  {
   "cell_type": "code",
   "execution_count": 23,
   "metadata": {},
   "outputs": [
    {
     "name": "stdout",
     "output_type": "stream",
     "text": [
      "Levene's test p-value:  0.12979464330296273\n",
      "Fail to Reject H0: Homogeneity of variance CAN be assumed\n"
     ]
    }
   ],
   "source": [
    "# После того, как мы удостоверились в нормальности данных, \n",
    "# необходимо провести тест Левена на однородность дисперсии\n",
    "\n",
    "stats, p = scipy.stats.levene(temp_Turkey, temp_France, temp_Italy)\n",
    "\n",
    "alpha = 0.05\n",
    "\n",
    "print(\"Levene's test p-value: \", p)\n",
    "if p > alpha:\n",
    "    print('Fail to Reject H0: Homogeneity of variance CAN be assumed')\n",
    "else:\n",
    "    print('Reject H0: Homogeneity of variance CANNOT be assumed')"
   ]
  },
  {
   "cell_type": "code",
   "execution_count": 17,
   "metadata": {},
   "outputs": [
    {
     "name": "stdout",
     "output_type": "stream",
     "text": [
      "ANOVA test\n",
      "p-value:  0.002068479053477666\n",
      "Reject H0: The means of groups ARE DIFFERENT\n"
     ]
    }
   ],
   "source": [
    "# ANOVA\n",
    "print(\"ANOVA test\")\n",
    "stats, p = scipy.stats.f_oneway(temp_Turkey, temp_France, temp_Italy)\n",
    "\n",
    "print(\"p-value: \", p)\n",
    "if p > alpha:\n",
    "    print('Fail to Reject H0: The means of groups ARE THE SAME')\n",
    "else:\n",
    "    print('Reject H0: The means of groups ARE DIFFERENT')"
   ]
  },
  {
   "cell_type": "code",
   "execution_count": 18,
   "metadata": {},
   "outputs": [
    {
     "data": {
      "image/png": "[encoded data removed]",
      "text/plain": [
       "<Figure size 432x288 with 1 Axes>"
      ]
     },
     "metadata": {
      "needs_background": "light"
     },
     "output_type": "display_data"
    }
   ],
   "source": [
    "# ANOVA тест показал, что средняя температура в городах Турции, Франции и Италии значительно (статистически)\n",
    "# отличается друг от друга. Это также станет очевидно, если мы построим  boxplot для трех этих групп городов вместе\n",
    "\n",
    "plt.boxplot([temp_Turkey, temp_France, temp_Italy])\n",
    "plt.xticks([1,2,3], ['Turkey', 'France', 'Italy'])\n",
    "plt.grid()\n",
    "plt.show()"
   ]
  },
  {
   "cell_type": "markdown",
   "metadata": {},
   "source": [
    "# Критерий хи-квадрат\n",
    "## Chi-Square Test"
   ]
  },
  {
   "cell_type": "code",
   "execution_count": 19,
   "metadata": {},
   "outputs": [
    {
     "name": "stdout",
     "output_type": "stream",
     "text": [
      "Contingency table\n",
      " coastline  no  yes\n",
      "EU                \n",
      "no         16   47\n",
      "yes        14  136\n",
      "\n",
      "Ожидаемые значения для каждой группы:\n",
      " [[  8.87323944  54.12676056]\n",
      " [ 21.12676056 128.87323944]]\n",
      "\n",
      "p-value:  0.0042361835936148345\n",
      "Reject H0: Some association between variables DOES EXIST\n"
     ]
    }
   ],
   "source": [
    "# Chi-squared тест для переменных из датасета  cities\n",
    "\n",
    "X = cities['EU']\n",
    "Y = cities['coastline']\n",
    "\n",
    "# Составим таблицу сопряженности (contingency table) для двух категориальных переменных\n",
    "t = pd.crosstab(X, Y)\n",
    "print(\"Contingency table\\n\", t)\n",
    "\n",
    "stat, p, dof, expected = scipy.stats.chi2_contingency(t)\n",
    "\n",
    "print(\"\\nОжидаемые значения для каждой группы:\\n\", expected)\n",
    "\n",
    "print(\"\\np-value: \", p)\n",
    "\n",
    "alpha = 0.05\n",
    "if p > alpha:\n",
    "    print('Fail to Reject H0: There is NO association between the variables ')\n",
    "else:\n",
    "    print('Reject H0: Some association between variables DOES EXIST')"
   ]
  },
  {
   "cell_type": "code",
   "execution_count": 20,
   "metadata": {},
   "outputs": [
    {
     "name": "stdout",
     "output_type": "stream",
     "text": [
      "Contingency table\n",
      " position      defender  forward  goalkeeper  midfielder\n",
      "team                                                   \n",
      "Algeria              4        3           2           9\n",
      "Argentina            6        6           1           7\n",
      "Australia            4        3           1          11\n",
      "Brazil               6        4           1           8\n",
      "Cameroon             8        5           1           6\n",
      "Chile                7        5           1           7\n",
      "Denmark              4        3           1          11\n",
      "England              6        4           2           7\n",
      "France               6        5           1           7\n",
      "Germany              6        6           1           6\n",
      "Ghana                7        5           1           6\n",
      "Greece               8        5           1           5\n",
      "Honduras             6        5           1           7\n",
      "Italy                5        6           2           6\n",
      "Ivory Coast          5        5           1           5\n",
      "Japan                5        4           1           8\n",
      "Mexico               7        5           1           5\n",
      "Netherlands          6        5           1           6\n",
      "New Zealand          5        4           1           5\n",
      "Nigeria              6        6           1           5\n",
      "North Korea          5        4           1           5\n",
      "Paraguay             7        5           1           7\n",
      "Portugal             7        4           1           8\n",
      "Serbia               6        3           1           9\n",
      "Slovakia             7        5           1           8\n",
      "Slovenia             4        5           1           5\n",
      "South Africa         6        3           2           8\n",
      "South Korea          6        3           1           7\n",
      "Spain                6        3           1          10\n",
      "Switzerland          6        4           1           7\n",
      "USA                  5        5           1           8\n",
      "Uruguay              6        5           1           9\n",
      "\n",
      "Ожидаемые значения для каждой группы:\n",
      " [[5.68739496 4.32605042 1.08907563 6.89747899]\n",
      " [6.31932773 4.80672269 1.21008403 7.66386555]\n",
      " [6.00336134 4.56638655 1.14957983 7.28067227]\n",
      " [6.00336134 4.56638655 1.14957983 7.28067227]\n",
      " [6.31932773 4.80672269 1.21008403 7.66386555]\n",
      " [6.31932773 4.80672269 1.21008403 7.66386555]\n",
      " [6.00336134 4.56638655 1.14957983 7.28067227]\n",
      " [6.00336134 4.56638655 1.14957983 7.28067227]\n",
      " [6.00336134 4.56638655 1.14957983 7.28067227]\n",
      " [6.00336134 4.56638655 1.14957983 7.28067227]\n",
      " [6.00336134 4.56638655 1.14957983 7.28067227]\n",
      " [6.00336134 4.56638655 1.14957983 7.28067227]\n",
      " [6.00336134 4.56638655 1.14957983 7.28067227]\n",
      " [6.00336134 4.56638655 1.14957983 7.28067227]\n",
      " [5.05546218 3.84537815 0.96806723 6.13109244]\n",
      " [5.68739496 4.32605042 1.08907563 6.89747899]\n",
      " [5.68739496 4.32605042 1.08907563 6.89747899]\n",
      " [5.68739496 4.32605042 1.08907563 6.89747899]\n",
      " [4.7394958  3.60504202 0.90756303 5.74789916]\n",
      " [5.68739496 4.32605042 1.08907563 6.89747899]\n",
      " [4.7394958  3.60504202 0.90756303 5.74789916]\n",
      " [6.31932773 4.80672269 1.21008403 7.66386555]\n",
      " [6.31932773 4.80672269 1.21008403 7.66386555]\n",
      " [6.00336134 4.56638655 1.14957983 7.28067227]\n",
      " [6.63529412 5.04705882 1.27058824 8.04705882]\n",
      " [4.7394958  3.60504202 0.90756303 5.74789916]\n",
      " [6.00336134 4.56638655 1.14957983 7.28067227]\n",
      " [5.37142857 4.08571429 1.02857143 6.51428571]\n",
      " [6.31932773 4.80672269 1.21008403 7.66386555]\n",
      " [5.68739496 4.32605042 1.08907563 6.89747899]\n",
      " [6.00336134 4.56638655 1.14957983 7.28067227]\n",
      " [6.63529412 5.04705882 1.27058824 8.04705882]]\n",
      "\n",
      "p-value:  0.9999999999999302\n",
      "Fail to Reject H0: There is NO association between the variables \n"
     ]
    }
   ],
   "source": [
    "# Chi-squared тест для переменных из датасета  players\n",
    "\n",
    "X = players['team']\n",
    "Y = players['position']\n",
    "\n",
    "# Составим таблицу сопряженности (contingency table) для двух категориальных переменных\n",
    "t = pd.crosstab(X, Y)\n",
    "print(\"Contingency table\\n\", t)\n",
    "\n",
    "stat, p, dof, expected = scipy.stats.chi2_contingency(t)\n",
    "\n",
    "print(\"\\nОжидаемые значения для каждой группы:\\n\", expected)\n",
    "\n",
    "print(\"\\np-value: \", p)\n",
    "\n",
    "\n",
    "alpha = 0.05\n",
    "if p > alpha:\n",
    "    print('Fail to Reject H0: There is NO association between the variables ')\n",
    "else:\n",
    "    print('Reject H0: Some association between variables DOES EXIST')"
   ]
  },
  {
   "cell_type": "code",
   "execution_count": null,
   "metadata": {},
   "outputs": [],
   "source": []
  }
 ],
 "metadata": {
  "kernelspec": {
   "display_name": "Python 3",
   "language": "python",
   "name": "python3"
  },
  "language_info": {
   "codemirror_mode": {
    "name": "ipython",
    "version": 3
   },
   "file_extension": ".py",
   "mimetype": "text/x-python",
   "name": "python",
   "nbconvert_exporter": "python",
   "pygments_lexer": "ipython3",
   "version": "3.7.4"
  }
 },
 "nbformat": 4,
 "nbformat_minor": 2
}
