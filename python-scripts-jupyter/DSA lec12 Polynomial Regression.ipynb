{
 "cells": [
  {
   "cell_type": "code",
   "execution_count": 1,
   "metadata": {},
   "outputs": [],
   "source": [
    "import pandas as pd\n",
    "import numpy as np\n",
    "import matplotlib.pyplot as plt"
   ]
  },
  {
   "cell_type": "code",
   "execution_count": 2,
   "metadata": {},
   "outputs": [
    {
     "data": {
      "image/png": "[encoded data removed]",
      "text/plain": [
       "<Figure size 432x288 with 1 Axes>"
      ]
     },
     "metadata": {
      "needs_background": "light"
     },
     "output_type": "display_data"
    }
   ],
   "source": [
    "# Создадим набор данных с кубической зависимостью между  x и y\n",
    "\n",
    "x = np.array([0, 20, 40, 60, 80, 100]).reshape(-1, 1)\n",
    "y = 100*np.array([0.002, 0.0012, 0.006, 0.03, 0.09, 0.27]).reshape(-1,1)\n",
    "\n",
    "plt.scatter(x,y)\n",
    "plt.xlabel(\"X\")\n",
    "plt.ylabel(\"Y\")\n",
    "plt.show()"
   ]
  },
  {
   "cell_type": "markdown",
   "metadata": {},
   "source": [
    "# Попробуем на этих данных линейную регрессию"
   ]
  },
  {
   "cell_type": "code",
   "execution_count": 3,
   "metadata": {},
   "outputs": [
    {
     "name": "stdout",
     "output_type": "stream",
     "text": [
      "\n",
      "Mean Absolute Error: 4.78247619047619\n",
      "Mean Squared Error: 29.01164698412698\n",
      "Root Mean Squared Error: 5.386246093906867\n",
      "\n",
      "R2:  0.6856885318071759\n"
     ]
    },
    {
     "data": {
      "image/png": "[encoded data removed]",
      "text/plain": [
       "<Figure size 432x288 with 1 Axes>"
      ]
     },
     "metadata": {
      "needs_background": "light"
     },
     "output_type": "display_data"
    }
   ],
   "source": [
    "# Импортируем модель линейной регрессии из модуля linear_model\n",
    "from sklearn.linear_model import LinearRegression\n",
    "\n",
    "# Импортируем из модуля sklearn.metrics все классы для дальнейшего использования\n",
    "from sklearn.metrics import * \n",
    "\n",
    "# Создаем объект модели линейной регресии\n",
    "lin_regr = LinearRegression()\n",
    "# Тренируем модель на входных данных при помощи метода fit()\n",
    "lin_regr.fit(x, y)\n",
    "# Получаем предсказание значений у при помощи метода predict()\n",
    "y_pred = lin_regr.predict(x)\n",
    "\n",
    "# Построим график линейной регрессии\n",
    "plt.scatter(x,y)\n",
    "plt.plot(x, x*lin_regr.coef_+lin_regr.intercept_, color='red')\n",
    "\n",
    "\n",
    "# Посчитаем ошибки MAE, MSE и RMSE\n",
    "print('\\nMean Absolute Error:', mean_absolute_error(y, y_pred))  \n",
    "print('Mean Squared Error:', mean_squared_error(y, y_pred))  \n",
    "print('Root Mean Squared Error:', np.sqrt(mean_squared_error(y, y_pred)))\n",
    "\n",
    "# Посчитаем R^2\n",
    "r2 = r2_score(y, y_pred)\n",
    "print('\\nR2: ', r2)"
   ]
  },
  {
   "cell_type": "markdown",
   "metadata": {},
   "source": [
    "#  Пробуем полиномиальную регрессию"
   ]
  },
  {
   "cell_type": "code",
   "execution_count": 4,
   "metadata": {},
   "outputs": [],
   "source": [
    "from sklearn.linear_model import LinearRegression\n",
    "from sklearn.metrics import * \n",
    "\n",
    "# Полиномиальная регрессия выполняется также при помощи класса LinearRegression, однако каждая точка\n",
    "# должна быть трансформирована в n-ное пространство, где n - это наивысшая степень многочлена, которую вы хотите использовать\n",
    "# Для трансформации каждой точки импортируем класс PolynomialFeatures из модуля preprocessing\n",
    "from sklearn.preprocessing import PolynomialFeatures\n",
    "\n",
    "# Создадим модель для полиномиальной трансформации данных. Degree обозначает наивысшую степень многочлена\n",
    "poly_feat= PolynomialFeatures(degree=5)\n",
    "\n",
    "# При помощи метода fit_transform() отправим данные в трансформатор и преобразуем их\n",
    "x_poly = poly_feat.fit_transform(x)\n",
    "\n",
    "# Создаем объект модели линейной регресии, которая будет применяться на трансформированных данных\n",
    "model_poly = LinearRegression()\n",
    "\n",
    "# Тренируем модель на трансформированных данных при помощи метода fit()\n",
    "model_poly.fit(x_poly, y)\n",
    "\n",
    "# Получаем предсказание значений у для трансформированных данных при помощи метода predict()\n",
    "y_poly_pred = model_poly.predict(x_poly)"
   ]
  },
  {
   "cell_type": "code",
   "execution_count": 5,
   "metadata": {},
   "outputs": [
    {
     "name": "stdout",
     "output_type": "stream",
     "text": [
      "\n",
      "Mean Absolute Error: 2.300941479016494e-08\n",
      "Mean Squared Error: 9.10526271688817e-16\n",
      "Root Mean Squared Error: 3.017492786551141e-08\n",
      "\n",
      "R2:  0.6856885318071759\n"
     ]
    }
   ],
   "source": [
    "# Посчитаем ошибки MAE, MSE и RMSE\n",
    "print('\\nMean Absolute Error:', mean_absolute_error(y, y_poly_pred))  \n",
    "print('Mean Squared Error:', mean_squared_error(y, y_poly_pred))  \n",
    "print('Root Mean Squared Error:', np.sqrt(mean_squared_error(y, y_poly_pred)))\n",
    "\n",
    "# Посчитаем R^2\n",
    "r2 = r2_score(y, y_pred)\n",
    "print('\\nR2: ', r2)"
   ]
  },
  {
   "cell_type": "code",
   "execution_count": 6,
   "metadata": {},
   "outputs": [
    {
     "data": {
      "image/png": "[encoded data removed]",
      "text/plain": [
       "<Figure size 432x288 with 1 Axes>"
      ]
     },
     "metadata": {
      "needs_background": "light"
     },
     "output_type": "display_data"
    }
   ],
   "source": [
    "# Посчитаем значение y для построения графика\n",
    "y_poly_plot = x_poly*model_poly.coef_+model_poly.intercept_\n",
    "# plt.plot(x, y_poly_pred)\n",
    "\n",
    "# Построим график полиномиальной регрессии\n",
    "plt.scatter(x,y)\n",
    "plt.plot(x, y_poly_pred, color='red')\n",
    "plt.show()"
   ]
  },
  {
   "cell_type": "code",
   "execution_count": null,
   "metadata": {},
   "outputs": [],
   "source": []
  }
 ],
 "metadata": {
  "kernelspec": {
   "display_name": "Python 3",
   "language": "python",
   "name": "python3"
  },
  "language_info": {
   "codemirror_mode": {
    "name": "ipython",
    "version": 3
   },
   "file_extension": ".py",
   "mimetype": "text/x-python",
   "name": "python",
   "nbconvert_exporter": "python",
   "pygments_lexer": "ipython3",
   "version": "3.7.4"
  }
 },
 "nbformat": 4,
 "nbformat_minor": 2
}
