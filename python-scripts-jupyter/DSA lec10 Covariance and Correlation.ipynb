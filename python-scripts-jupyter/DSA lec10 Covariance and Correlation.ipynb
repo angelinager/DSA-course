{
 "cells": [
  {
   "cell_type": "code",
   "execution_count": 1,
   "metadata": {},
   "outputs": [],
   "source": [
    "import pandas as pd\n",
    "import numpy as np\n",
    "import matplotlib.pyplot as plt\n",
    "\n",
    "cities = pd.read_csv(\"Cities.csv\")\n",
    "\n",
    "temp = np.asarray(cities['temperature'])\n",
    "lat = np.asarray(cities['latitude'])\n",
    "long = np.asarray(cities['longitude'])"
   ]
  },
  {
   "cell_type": "code",
   "execution_count": 2,
   "metadata": {},
   "outputs": [
    {
     "data": {
      "image/png": "[encoded data removed]",
      "text/plain": [
       "<Figure size 432x288 with 1 Axes>"
      ]
     },
     "metadata": {
      "needs_background": "light"
     },
     "output_type": "display_data"
    }
   ],
   "source": [
    "plt.scatter(lat, temp)\n",
    "plt.xlabel(\"Latitude\")\n",
    "plt.ylabel(\"Temperature\")\n",
    "plt.show()"
   ]
  },
  {
   "cell_type": "markdown",
   "metadata": {},
   "source": [
    "# Ковариация - Covariance"
   ]
  },
  {
   "cell_type": "code",
   "execution_count": 3,
   "metadata": {},
   "outputs": [
    {
     "data": {
      "text/plain": [
       "array([[ 45.30583961, -19.75420869],\n",
       "       [-19.75420869,  12.6823689 ]])"
      ]
     },
     "execution_count": 3,
     "metadata": {},
     "output_type": "execute_result"
    }
   ],
   "source": [
    "# Найдем ковариационную матрицу, составленную из попарных ковариаций элементов двух векторов - широты и температуры\n",
    "np.cov(lat, temp)\n",
    "\n",
    "# В этой матрице элементы, находящиеся на диагонали, представляют ковариацию векторов с самими собой. \n",
    "# Первое число на диагонали - для широты, второе - для температуры.\n",
    "\n",
    "# Число вне диагонали - это как раз то число, которое нам нужно. Оно представляет собой ковариацию двух векторов -\n",
    "# широты и температуры друг с другом. Обратите внимание, что число одно и то же с обоих строн диагонали."
   ]
  },
  {
   "cell_type": "code",
   "execution_count": 4,
   "metadata": {},
   "outputs": [
    {
     "data": {
      "text/html": [
       "<div>\n",
       "<style scoped>\n",
       "    .dataframe tbody tr th:only-of-type {\n",
       "        vertical-align: middle;\n",
       "    }\n",
       "\n",
       "    .dataframe tbody tr th {\n",
       "        vertical-align: top;\n",
       "    }\n",
       "\n",
       "    .dataframe thead th {\n",
       "        text-align: right;\n",
       "    }\n",
       "</style>\n",
       "<table border=\"1\" class=\"dataframe\">\n",
       "  <thead>\n",
       "    <tr style=\"text-align: right;\">\n",
       "      <th></th>\n",
       "      <th>latitude</th>\n",
       "      <th>longitude</th>\n",
       "      <th>temperature</th>\n",
       "    </tr>\n",
       "  </thead>\n",
       "  <tbody>\n",
       "    <tr>\n",
       "      <td>latitude</td>\n",
       "      <td>45.305840</td>\n",
       "      <td>-9.253050</td>\n",
       "      <td>-19.754209</td>\n",
       "    </tr>\n",
       "    <tr>\n",
       "      <td>longitude</td>\n",
       "      <td>-9.253050</td>\n",
       "      <td>170.772979</td>\n",
       "      <td>-7.879270</td>\n",
       "    </tr>\n",
       "    <tr>\n",
       "      <td>temperature</td>\n",
       "      <td>-19.754209</td>\n",
       "      <td>-7.879270</td>\n",
       "      <td>12.682369</td>\n",
       "    </tr>\n",
       "  </tbody>\n",
       "</table>\n",
       "</div>"
      ],
      "text/plain": [
       "              latitude   longitude  temperature\n",
       "latitude     45.305840   -9.253050   -19.754209\n",
       "longitude    -9.253050  170.772979    -7.879270\n",
       "temperature -19.754209   -7.879270    12.682369"
      ]
     },
     "execution_count": 4,
     "metadata": {},
     "output_type": "execute_result"
    }
   ],
   "source": [
    "# Также можно получить ковариационную матрицу с помощью библиотеки Pandas и команды сov()\n",
    "cities.cov()"
   ]
  },
  {
   "cell_type": "markdown",
   "metadata": {},
   "source": [
    "# Коэффициент корреляции Пирсона - Pearson's R coefficient"
   ]
  },
  {
   "cell_type": "code",
   "execution_count": 5,
   "metadata": {},
   "outputs": [
    {
     "data": {
      "text/plain": [
       "array([[ 1.        , -0.82410463],\n",
       "       [-0.82410463,  1.        ]])"
      ]
     },
     "execution_count": 5,
     "metadata": {},
     "output_type": "execute_result"
    }
   ],
   "source": [
    "# Найдем матрицу коэффициентов корреляции, составленную из попарных корреляций двух векторов - широты и температуры\n",
    "np.corrcoef(lat, temp)\n",
    "\n",
    "# В этой матрице элементы, находящиеся на диагонали, представляют корреляцию векторов с самими собой. \n",
    "# Вектор коррелирует сам с собой на 100%. Поэтому, значения на диагонали матрицы корреляций всегда будут равны 1.\n",
    "\n",
    "# Числа вне диагонали представляют собой ковариацию двух разных векторов, в нашем случае - широты и температуры друг с другом. \n",
    "# Обратите внимание, что числа будут одними и теми же на позициях [i][j] и [j][i] матрицы"
   ]
  },
  {
   "cell_type": "code",
   "execution_count": 6,
   "metadata": {},
   "outputs": [
    {
     "data": {
      "text/plain": [
       "array([[ 1.        , -0.10519576, -0.82410463],\n",
       "       [-0.10519576,  1.        , -0.1693075 ],\n",
       "       [-0.82410463, -0.1693075 ,  1.        ]])"
      ]
     },
     "execution_count": 6,
     "metadata": {},
     "output_type": "execute_result"
    }
   ],
   "source": [
    "# Вы также можете найти матрицу коэффициентов корреляции для трех и более разных вектров\n",
    "cor = np.corrcoef([lat, long, temp])\n",
    "cor"
   ]
  },
  {
   "cell_type": "code",
   "execution_count": 7,
   "metadata": {},
   "outputs": [
    {
     "data": {
      "text/html": [
       "<div>\n",
       "<style scoped>\n",
       "    .dataframe tbody tr th:only-of-type {\n",
       "        vertical-align: middle;\n",
       "    }\n",
       "\n",
       "    .dataframe tbody tr th {\n",
       "        vertical-align: top;\n",
       "    }\n",
       "\n",
       "    .dataframe thead th {\n",
       "        text-align: right;\n",
       "    }\n",
       "</style>\n",
       "<table border=\"1\" class=\"dataframe\">\n",
       "  <thead>\n",
       "    <tr style=\"text-align: right;\">\n",
       "      <th></th>\n",
       "      <th>latitude</th>\n",
       "      <th>longitude</th>\n",
       "      <th>temperature</th>\n",
       "    </tr>\n",
       "  </thead>\n",
       "  <tbody>\n",
       "    <tr>\n",
       "      <td>latitude</td>\n",
       "      <td>1.000000</td>\n",
       "      <td>-0.105196</td>\n",
       "      <td>-0.824105</td>\n",
       "    </tr>\n",
       "    <tr>\n",
       "      <td>longitude</td>\n",
       "      <td>-0.105196</td>\n",
       "      <td>1.000000</td>\n",
       "      <td>-0.169308</td>\n",
       "    </tr>\n",
       "    <tr>\n",
       "      <td>temperature</td>\n",
       "      <td>-0.824105</td>\n",
       "      <td>-0.169308</td>\n",
       "      <td>1.000000</td>\n",
       "    </tr>\n",
       "  </tbody>\n",
       "</table>\n",
       "</div>"
      ],
      "text/plain": [
       "             latitude  longitude  temperature\n",
       "latitude     1.000000  -0.105196    -0.824105\n",
       "longitude   -0.105196   1.000000    -0.169308\n",
       "temperature -0.824105  -0.169308     1.000000"
      ]
     },
     "execution_count": 7,
     "metadata": {},
     "output_type": "execute_result"
    }
   ],
   "source": [
    "# Также можно получить матрицу коэффициентов корреляции с помощью библиотеки Pandas и команды сorr()\n",
    "cor = cities.corr()\n",
    "cor"
   ]
  },
  {
   "cell_type": "code",
   "execution_count": 8,
   "metadata": {},
   "outputs": [
    {
     "data": {
      "image/png": "[encoded data removed]",
      "text/plain": [
       "<Figure size 288x288 with 1 Axes>"
      ]
     },
     "metadata": {
      "needs_background": "light"
     },
     "output_type": "display_data"
    }
   ],
   "source": [
    "# Чтобы облегчить интерпретацию коэффициентов в больших матрицах часто используется визуальный метод \n",
    "# представления чисел в виде графической тепловой карты\n",
    "\n",
    "plt.matshow(cor)\n",
    "# Аналогичная команда - plt.imshow(cor)\n",
    "\n",
    "plt.xticks(np.arange(-0.5, len(cor)), ['temp', 'latitude', 'longitude'])\n",
    "plt.yticks(np.arange(-0.5, len(cor)), ['temp', 'latitude', 'longitude'])\n",
    "plt.show()"
   ]
  },
  {
   "cell_type": "markdown",
   "metadata": {},
   "source": [
    "# Визуализации матрицы корреляции с помощью библиотеки  Seaborn"
   ]
  },
  {
   "cell_type": "code",
   "execution_count": 9,
   "metadata": {},
   "outputs": [
    {
     "data": {
      "text/plain": [
       "(2.9, 0)"
      ]
     },
     "execution_count": 9,
     "metadata": {},
     "output_type": "execute_result"
    },
    {
     "data": {
      "image/png": "[encoded data removed]",
      "text/plain": [
       "<Figure size 432x288 with 2 Axes>"
      ]
     },
     "metadata": {},
     "output_type": "display_data"
    }
   ],
   "source": [
    "# Также можно воспользоваться библиотекой визуализации Seaborn\n",
    "# Эта библиотека позволяет регулировать цвет и градиент (переход цвета) от позитивных значений до негативных\n",
    "import seaborn as sns\n",
    "\n",
    "sns.set()\n",
    "ax = sns.heatmap(cor, vmin=-1, vmax=1, center = 0, annot=True, square=True)\n",
    "ax.set_ylim(len(cor)-0.1, 0)"
   ]
  },
  {
   "cell_type": "markdown",
   "metadata": {},
   "source": [
    "# Матрица коэффициентов корреляции для датасета Players"
   ]
  },
  {
   "cell_type": "code",
   "execution_count": 10,
   "metadata": {},
   "outputs": [
    {
     "data": {
      "text/html": [
       "<div>\n",
       "<style scoped>\n",
       "    .dataframe tbody tr th:only-of-type {\n",
       "        vertical-align: middle;\n",
       "    }\n",
       "\n",
       "    .dataframe tbody tr th {\n",
       "        vertical-align: top;\n",
       "    }\n",
       "\n",
       "    .dataframe thead th {\n",
       "        text-align: right;\n",
       "    }\n",
       "</style>\n",
       "<table border=\"1\" class=\"dataframe\">\n",
       "  <thead>\n",
       "    <tr style=\"text-align: right;\">\n",
       "      <th></th>\n",
       "      <th>minutes</th>\n",
       "      <th>shots</th>\n",
       "      <th>passes</th>\n",
       "      <th>tackles</th>\n",
       "      <th>saves</th>\n",
       "    </tr>\n",
       "  </thead>\n",
       "  <tbody>\n",
       "    <tr>\n",
       "      <td>minutes</td>\n",
       "      <td>1.000000</td>\n",
       "      <td>0.407923</td>\n",
       "      <td>0.815119</td>\n",
       "      <td>0.610673</td>\n",
       "      <td>0.228477</td>\n",
       "    </tr>\n",
       "    <tr>\n",
       "      <td>shots</td>\n",
       "      <td>0.407923</td>\n",
       "      <td>1.000000</td>\n",
       "      <td>0.343163</td>\n",
       "      <td>0.176283</td>\n",
       "      <td>-0.154958</td>\n",
       "    </tr>\n",
       "    <tr>\n",
       "      <td>passes</td>\n",
       "      <td>0.815119</td>\n",
       "      <td>0.343163</td>\n",
       "      <td>1.000000</td>\n",
       "      <td>0.702097</td>\n",
       "      <td>-0.062057</td>\n",
       "    </tr>\n",
       "    <tr>\n",
       "      <td>tackles</td>\n",
       "      <td>0.610673</td>\n",
       "      <td>0.176283</td>\n",
       "      <td>0.702097</td>\n",
       "      <td>1.000000</td>\n",
       "      <td>-0.201190</td>\n",
       "    </tr>\n",
       "    <tr>\n",
       "      <td>saves</td>\n",
       "      <td>0.228477</td>\n",
       "      <td>-0.154958</td>\n",
       "      <td>-0.062057</td>\n",
       "      <td>-0.201190</td>\n",
       "      <td>1.000000</td>\n",
       "    </tr>\n",
       "  </tbody>\n",
       "</table>\n",
       "</div>"
      ],
      "text/plain": [
       "          minutes     shots    passes   tackles     saves\n",
       "minutes  1.000000  0.407923  0.815119  0.610673  0.228477\n",
       "shots    0.407923  1.000000  0.343163  0.176283 -0.154958\n",
       "passes   0.815119  0.343163  1.000000  0.702097 -0.062057\n",
       "tackles  0.610673  0.176283  0.702097  1.000000 -0.201190\n",
       "saves    0.228477 -0.154958 -0.062057 -0.201190  1.000000"
      ]
     },
     "execution_count": 10,
     "metadata": {},
     "output_type": "execute_result"
    }
   ],
   "source": [
    "players = pd.read_csv(\"Players.csv\")\n",
    "c = players.corr()\n",
    "c"
   ]
  },
  {
   "cell_type": "code",
   "execution_count": 11,
   "metadata": {},
   "outputs": [
    {
     "data": {
      "text/plain": [
       "(4.9, 0)"
      ]
     },
     "execution_count": 11,
     "metadata": {},
     "output_type": "execute_result"
    },
    {
     "data": {
      "image/png": "[encoded data removed]",
      "text/plain": [
       "<Figure size 432x288 with 2 Axes>"
      ]
     },
     "metadata": {},
     "output_type": "display_data"
    }
   ],
   "source": [
    "ax = sns.heatmap(c, vmin=-1, vmax=1, cmap = \"YlGnBu\", annot=True, linewidths=.5, square=True)\n",
    "ax.set_ylim(len(c)-0.1, 0)"
   ]
  },
  {
   "cell_type": "markdown",
   "metadata": {},
   "source": [
    "# Небольшая визуальная модификация матрицы коэффициентов корреляции"
   ]
  },
  {
   "cell_type": "code",
   "execution_count": 12,
   "metadata": {},
   "outputs": [
    {
     "data": {
      "text/plain": [
       "(4.9, 0)"
      ]
     },
     "execution_count": 12,
     "metadata": {},
     "output_type": "execute_result"
    },
    {
     "data": {
      "image/png": "[encoded data removed]",
      "text/plain": [
       "<Figure size 504x360 with 2 Axes>"
      ]
     },
     "metadata": {},
     "output_type": "display_data"
    }
   ],
   "source": [
    "# Так как часть матрицы выше диагонали (upper diagonal part)  идентична части, находящейся ниже диагонали (lower diagonal part),\n",
    "# то мы можем визально \"отрезать\" верхнюю часть и оставить только нижнюю\n",
    "# это делается с помощью накладывания маски (как в Photoshop)\n",
    "# cо значениями 0 для клеток выше диагонали и самой диагонали, и со значениями 1 для всех других ячеек \n",
    "\n",
    "corr_matrix = players.corr()\n",
    "mask = np.zeros_like(corr_matrix)\n",
    "mask[np.triu_indices_from(mask)] = True\n",
    "with sns.axes_style(\"white\"):\n",
    "    f, ax = plt.subplots(figsize=(7, 5))\n",
    "    ax = sns.heatmap(corr_matrix, mask=mask, vmin=-1, vmax=1, center=0, square=True, linewidths=.5, annot=True)\n",
    "ax.set_ylim(len(c)-0.1, 0)"
   ]
  },
  {
   "cell_type": "code",
   "execution_count": null,
   "metadata": {},
   "outputs": [],
   "source": []
  }
 ],
 "metadata": {
  "kernelspec": {
   "display_name": "Python 3",
   "language": "python",
   "name": "python3"
  },
  "language_info": {
   "codemirror_mode": {
    "name": "ipython",
    "version": 3
   },
   "file_extension": ".py",
   "mimetype": "text/x-python",
   "name": "python",
   "nbconvert_exporter": "python",
   "pygments_lexer": "ipython3",
   "version": "3.7.4"
  }
 },
 "nbformat": 4,
 "nbformat_minor": 2
}
