{
 "cells": [
  {
   "cell_type": "code",
   "execution_count": null,
   "metadata": {},
   "outputs": [],
   "source": [
    "import pandas as pd\n",
    "import numpy as np\n",
    "\n",
    "# import os\n",
    "# os.getcwd() # просмотр текущей директории\n",
    "# os.chdir(\"...\") # изменение рабочей директории на другую"
   ]
  },
  {
   "cell_type": "code",
   "execution_count": null,
   "metadata": {},
   "outputs": [],
   "source": [
    "# Как создать пустую DataFrame\n",
    "df = pd.DataFrame()"
   ]
  },
  {
   "cell_type": "code",
   "execution_count": null,
   "metadata": {},
   "outputs": [],
   "source": [
    "# Cпособ 1 - создать Dataframe из нескольких элементов типа Series\n",
    "\n",
    "s1 = pd.Series([1, 3, 5, np.nan, 6, 8], index=range(1,7))\n",
    "s2 = pd.Series([11, 13, 15, np.nan, 16, 18], index=range(1,7))\n",
    "\n",
    "#df = pd.DataFrame(s1, s2)\n",
    "df = pd.DataFrame({'s1': s1,'s2':s2}) #, index=s1.index)"
   ]
  },
  {
   "cell_type": "code",
   "execution_count": null,
   "metadata": {},
   "outputs": [],
   "source": [
    "# Способ 2: Создаем Pandas Dataframe из списка словарей\n",
    "\n",
    "p1 = {'Name' : 'Angelina', 'Last Name' : 'Gerbolt', 'Age' : 27, 'Gender': 'Female', 'Occupation': 'Student'}\n",
    "p2 = {'Name' : 'Johny', 'Last Name' : 'Depp', 'Age' : 56, 'Gender': 'Male', 'Occupation' : 'Actor'}\n",
    "p3 = {'Name' : 'Billie', 'Last Name' : 'Eilish', 'Age' : 18, 'Gender': 'Female', 'Occupation' : 'Singer'}\n",
    "\n",
    "people = [p1, p2, p3]\n",
    "\n",
    "\n",
    "# Если у вас имеются строки(ряды) с пустыми значениями, их можно удалить при помощи\n",
    "# Будьте осторожны с этой командой - если во всех строках имеется хоть по одному NaN, \n",
    "# то ваша DataFrame останется пустой\n",
    "# df.dropna()\n",
    "\n",
    "df1 = pd.DataFrame(people)\n",
    "\n",
    "# К колонкам, в названии которых НЕТ пробелов, можно обращаться ДВУМЯ способами:\n",
    "df1.Name\n",
    "df1['Name']\n",
    "\n",
    "df1.Age\n",
    "df1['Age']\n",
    "\n",
    "\n",
    "# К колонкам, в названии которых ЕСТЬ пробелы, можно обращаться только ОДНИМ способом:\n",
    "#df1.Last Name # Ошибка\n",
    "df1['Last Name']"
   ]
  },
  {
   "cell_type": "code",
   "execution_count": null,
   "metadata": {},
   "outputs": [],
   "source": [
    "# Способ 3 - Создаем Pandas Dataframe из словаря, ключи (keys) которого - названия колонок,\n",
    "# а значения (values) - списки (lists) со значениями для этой колонки\n",
    "\n",
    "people2 = {\"Name\": ['Brad', 'Leonardo', 'Margot', 'Quentin'],\n",
    "          \"Surname\": ['Pitt', 'DiCaprio', 'Robbie', 'Tarantino'],\n",
    "          \"Age\": [56, 45, 29, 57],\n",
    "          \"Gender\": ['male','male', 'female', 'male'],\n",
    "          \"Occupation\": ['actor', 'actor', 'actress', 'director']}\n",
    "\n",
    "df2 = pd.DataFrame(people2)"
   ]
  },
  {
   "cell_type": "code",
   "execution_count": null,
   "metadata": {},
   "outputs": [],
   "source": [
    "# Способ 4 - Считать Dataframe из файла\n",
    "\n",
    "# Библиотека Pandas может читать множество форматов файлов - \n",
    "# Comma-separated values (CSV), XLSX, ZIP, Plain Text (txt), JSON, XML (Extensible Markup Language), HTML, Images, Hierarchical Data Format, PDF\n",
    "# DOCX, MP3, MP4, SQL и др. \n",
    "# но самыми часто используемыми являются CSV, txt, XLSX\n",
    "\n",
    "# Прочитать  csv-file\n",
    "actors = pd.read_csv(\"Actors.csv\")\n",
    "\n",
    "# Смотрим  базовую информацию по датасету\n",
    "# Info provides the essential details about your dataset, \n",
    "# such as the number of rows and columns, the number of non-null values, \n",
    "# what type of data is in each column, and how much memory your DataFrame is using.\n",
    "actors.info()\n",
    "\n",
    "# Смотрим числовую статистику по датасету\n",
    "actors.describe()\n"
   ]
  },
  {
   "cell_type": "code",
   "execution_count": null,
   "metadata": {},
   "outputs": [],
   "source": [
    "# Узнать размерность таблицы\n",
    "print(\"Shape of the dataframe: \", actors.shape)\n",
    "\n",
    "# Показать первые 5 результатов\n",
    "actors.head()\n",
    "\n",
    "# Показать первые 20 результатов\n",
    "actors.head(20)\n",
    "\n",
    "# Показать последние 5 результатов\n",
    "actors.tail()\n",
    "\n",
    "# Показать первые 15 результатов\n",
    "actors.tail(3)"
   ]
  },
  {
   "cell_type": "code",
   "execution_count": null,
   "metadata": {},
   "outputs": [],
   "source": [
    "# Распечатать названия колонок\n",
    "actors.columns\n",
    "\n",
    "# Распечатать названия индексов\n",
    "actors.index\n",
    "\n",
    "# Переименовать некоторые колонки - оформляется в виде dictionary и подается как параметр для columns\n",
    "# где старое значение - key, a новое - value\n",
    "actors.rename(columns={'Total Gross': 'tGross', \n",
    "                        'Number of Movies': 'nMovies',\n",
    "                        'Average per Movie': 'avMovie',\n",
    "                        '#1 Movie': 'TopMovie'}, inplace=True)\n",
    "\n",
    "# Если переименовать нужно все колонки, то можно присвоить list c новыми названиями для всех колонок\n",
    "actors.columns = ['name', 'tGross', 'nMovies', 'avMovie', 'topMovie', 'gross']\n"
   ]
  },
  {
   "cell_type": "code",
   "execution_count": null,
   "metadata": {},
   "outputs": [],
   "source": [
    "# Узнать тип данных колонки - по умолчанию, все отдельные колонки должны быть типа Series\n",
    "print(type(actors.nMovies))\n",
    "\n",
    "# Изменить данные в одной из колонок inplace = в той же самой Dataframe\n",
    "actors.tGross = actors.tGross*1000000\n",
    "actors.gross = actors.gross*1e6\n",
    "actors.avMovie = actors.avMovie*1e6"
   ]
  },
  {
   "cell_type": "code",
   "execution_count": null,
   "metadata": {},
   "outputs": [],
   "source": [
    "actors"
   ]
  },
  {
   "cell_type": "code",
   "execution_count": null,
   "metadata": {},
   "outputs": [],
   "source": [
    "# Находим максимум и минимум определенных колонок\n",
    "print(actors.tGross.max())\n",
    "print(np.max(actors.tGross))\n",
    "\n",
    "print(actors['gross'].min())\n",
    "print(np.min(actors['gross']))\n",
    "\n",
    "# Находим среднее арифметическое\n",
    "print(\"Mean: \", actors.gross.mean())\n",
    "\n",
    "# Находим среднее арифметическое\n",
    "print(\"Standard Deviation: \", actors.gross.std())"
   ]
  },
  {
   "cell_type": "code",
   "execution_count": null,
   "metadata": {},
   "outputs": [],
   "source": [
    "# Используем фильтр по условию\n",
    "actors[actors.topMovie=='The Avengers']\n",
    "\n",
    "# Двойное условие - логическая операция AND\n",
    "# Актер снимался в Avengers И его состояние больше 3.5млрд\n",
    "actors[(actors.topMovie=='The Avengers') & (actors.tGross > 3.5e9)] \n",
    "\n",
    "# Двойное условие - логическая операция OR\n",
    "# Актер или снимался в Avengers ИЛИ его состояние больше 3.5млрд (или оба верны)\n",
    "actors[(actors.topMovie=='The Avengers') | (actors.tGross > 3.5e9)] \n",
    "\n",
    "# условие - логическая операция NOT\n",
    "# Все, кроме тех, кто снимался в Avengers\n",
    "actors[~(actors.topMovie=='The Avengers')]"
   ]
  },
  {
   "cell_type": "code",
   "execution_count": null,
   "metadata": {},
   "outputs": [],
   "source": [
    "# Многострадальный Samuel L Jackson\n",
    "actors.name[actors.tGross == actors.tGross[actors.topMovie == 'The Avengers'].max()]"
   ]
  },
  {
   "cell_type": "code",
   "execution_count": null,
   "metadata": {},
   "outputs": [],
   "source": []
  }
 ],
 "metadata": {
  "kernelspec": {
   "display_name": "Python 3",
   "language": "python",
   "name": "python3"
  },
  "language_info": {
   "codemirror_mode": {
    "name": "ipython",
    "version": 3
   },
   "file_extension": ".py",
   "mimetype": "text/x-python",
   "name": "python",
   "nbconvert_exporter": "python",
   "pygments_lexer": "ipython3",
   "version": "3.7.4"
  }
 },
 "nbformat": 4,
 "nbformat_minor": 2
}
