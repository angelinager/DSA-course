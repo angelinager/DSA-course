{
 "cells": [
  {
   "cell_type": "code",
   "execution_count": 1,
   "metadata": {},
   "outputs": [],
   "source": [
    "import numpy as np\n",
    "import pandas as pd\n",
    "import matplotlib.pyplot as plt\n",
    "\n",
    "from sklearn.datasets import load_breast_cancer\n",
    "from sklearn.model_selection import train_test_split, KFold\n",
    "from sklearn.metrics import *\n",
    "from sklearn.linear_model import SGDClassifier\n",
    "from sklearn.preprocessing import StandardScaler"
   ]
  },
  {
   "cell_type": "markdown",
   "metadata": {},
   "source": [
    "## Загрузим готовый датасет Breast Cancer из библиотеки Sklearn и разделим данные на train/test"
   ]
  },
  {
   "cell_type": "code",
   "execution_count": 2,
   "metadata": {},
   "outputs": [],
   "source": [
    "X, y = load_breast_cancer(return_X_y = True)\n",
    "\n",
    "X_train, X_test, y_train, y_test = train_test_split(X, y, test_size = 0.15, shuffle=True, random_state=0)\n",
    "\n",
    "# Стандартизируем данные\n",
    "scaler = StandardScaler()\n",
    "X_train = scaler.fit_transform(X_train)\n",
    "X_test = scaler.transform(X_test)"
   ]
  },
  {
   "cell_type": "code",
   "execution_count": 3,
   "metadata": {},
   "outputs": [],
   "source": [
    "# Разделим данные на 10 равных частей для использования метода перекрестной валидации"
   ]
  },
  {
   "cell_type": "code",
   "execution_count": 7,
   "metadata": {},
   "outputs": [
    {
     "name": "stdout",
     "output_type": "stream",
     "text": [
      "Mean train accuracy across 10 folds  0.8611583211500975\n",
      "Mean test accuracy across 10 folds  0.8768483709273183\n"
     ]
    }
   ],
   "source": [
    "# Класс KFold  создает модель для перекрестной валидации\n",
    "kfold = KFold(n_splits=10, shuffle = True, random_state=0)\n",
    "\n",
    "train_acc=[]\n",
    "test_acc = []\n",
    "\n",
    "for train, test in kfold.split(X):\n",
    "#     Метод split случайно выбирает 10% индексов данных для проверочной выборки, а остальные 90% \n",
    "#     индексов строк данных отделяются для тренировки\n",
    "#     В следующем повтроеннии, будут выбраны 10% новых индексов для теста и т.д.\n",
    "#     Важно!!! переменные train and test будут содержать в себе только индексы выбранных строк данных,\n",
    "#     а не сами данные!\n",
    "    #print('train: %s, test: %s' % (train, test))\n",
    "    \n",
    "# Воспользуемся моделью персептрона из класса SGDClassifier для тренировки\n",
    "    model = SGDClassifier(loss='perceptron', shuffle=True, random_state=42)\n",
    "    model.fit(X[train], y[train])\n",
    "    y_train_pred = model.predict(X[train])\n",
    "    y_test_pred = model.predict(X[test])\n",
    "\n",
    "    tr_acc = accuracy_score(y[train], y_train_pred)\n",
    "    train_acc.append(tr_acc)\n",
    "\n",
    "    te_acc = accuracy_score(y[test], y_test_pred)\n",
    "    test_acc.append(te_acc)\n",
    "\n",
    "    \n",
    "print(\"Mean train accuracy across 10 folds \", np.mean(train_acc))\n",
    "print(\"Mean test accuracy across 10 folds \", np.mean(test_acc))\n"
   ]
  }
 ],
 "metadata": {
  "kernelspec": {
   "display_name": "Python 3",
   "language": "python",
   "name": "python3"
  },
  "language_info": {
   "codemirror_mode": {
    "name": "ipython",
    "version": 3
   },
   "file_extension": ".py",
   "mimetype": "text/x-python",
   "name": "python",
   "nbconvert_exporter": "python",
   "pygments_lexer": "ipython3",
   "version": "3.7.4"
  }
 },
 "nbformat": 4,
 "nbformat_minor": 2
}
