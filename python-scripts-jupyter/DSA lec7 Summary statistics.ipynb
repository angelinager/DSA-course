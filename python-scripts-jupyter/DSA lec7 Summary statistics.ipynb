{
 "cells": [
  {
   "cell_type": "code",
   "execution_count": 1,
   "metadata": {},
   "outputs": [],
   "source": [
    "import pandas as pd\n",
    "import numpy as np\n",
    "\n",
    "cities = pd.read_csv(\"Cities.csv\")"
   ]
  },
  {
   "cell_type": "code",
   "execution_count": 6,
   "metadata": {},
   "outputs": [
    {
     "data": {
      "text/html": [
       "<div>\n",
       "<style scoped>\n",
       "    .dataframe tbody tr th:only-of-type {\n",
       "        vertical-align: middle;\n",
       "    }\n",
       "\n",
       "    .dataframe tbody tr th {\n",
       "        vertical-align: top;\n",
       "    }\n",
       "\n",
       "    .dataframe thead th {\n",
       "        text-align: right;\n",
       "    }\n",
       "</style>\n",
       "<table border=\"1\" class=\"dataframe\">\n",
       "  <thead>\n",
       "    <tr style=\"text-align: right;\">\n",
       "      <th></th>\n",
       "      <th>latitude</th>\n",
       "      <th>longitude</th>\n",
       "      <th>temperature</th>\n",
       "    </tr>\n",
       "  </thead>\n",
       "  <tbody>\n",
       "    <tr>\n",
       "      <td>count</td>\n",
       "      <td>213.000000</td>\n",
       "      <td>213.000000</td>\n",
       "      <td>213.000000</td>\n",
       "    </tr>\n",
       "    <tr>\n",
       "      <td>mean</td>\n",
       "      <td>47.499906</td>\n",
       "      <td>15.374319</td>\n",
       "      <td>9.497840</td>\n",
       "    </tr>\n",
       "    <tr>\n",
       "      <td>std</td>\n",
       "      <td>6.730961</td>\n",
       "      <td>13.068014</td>\n",
       "      <td>3.561231</td>\n",
       "    </tr>\n",
       "    <tr>\n",
       "      <td>min</td>\n",
       "      <td>36.130000</td>\n",
       "      <td>-9.140000</td>\n",
       "      <td>-2.200000</td>\n",
       "    </tr>\n",
       "    <tr>\n",
       "      <td>25%</td>\n",
       "      <td>42.220000</td>\n",
       "      <td>5.380000</td>\n",
       "      <td>7.190000</td>\n",
       "    </tr>\n",
       "    <tr>\n",
       "      <td>50%</td>\n",
       "      <td>47.580000</td>\n",
       "      <td>16.180000</td>\n",
       "      <td>8.880000</td>\n",
       "    </tr>\n",
       "    <tr>\n",
       "      <td>75%</td>\n",
       "      <td>52.050000</td>\n",
       "      <td>25.620000</td>\n",
       "      <td>11.190000</td>\n",
       "    </tr>\n",
       "    <tr>\n",
       "      <td>max</td>\n",
       "      <td>67.850000</td>\n",
       "      <td>41.930000</td>\n",
       "      <td>18.670000</td>\n",
       "    </tr>\n",
       "  </tbody>\n",
       "</table>\n",
       "</div>"
      ],
      "text/plain": [
       "         latitude   longitude  temperature\n",
       "count  213.000000  213.000000   213.000000\n",
       "mean    47.499906   15.374319     9.497840\n",
       "std      6.730961   13.068014     3.561231\n",
       "min     36.130000   -9.140000    -2.200000\n",
       "25%     42.220000    5.380000     7.190000\n",
       "50%     47.580000   16.180000     8.880000\n",
       "75%     52.050000   25.620000    11.190000\n",
       "max     67.850000   41.930000    18.670000"
      ]
     },
     "execution_count": 6,
     "metadata": {},
     "output_type": "execute_result"
    }
   ],
   "source": [
    "cities.describe()"
   ]
  },
  {
   "cell_type": "code",
   "execution_count": 9,
   "metadata": {},
   "outputs": [
    {
     "name": "stdout",
     "output_type": "stream",
     "text": [
      "9.497840375586858\n",
      "9.497840375586858\n"
     ]
    }
   ],
   "source": [
    "# Mean\n",
    "print(np.mean(cities.temperature))\n",
    "print(cities.temperature.mean())\n"
   ]
  },
  {
   "cell_type": "code",
   "execution_count": 64,
   "metadata": {},
   "outputs": [
    {
     "name": "stdout",
     "output_type": "stream",
     "text": [
      "8.88\n",
      "8.88\n"
     ]
    }
   ],
   "source": [
    "# Median\n",
    "print(np.median(cities['temperature']))\n",
    "print(cities['temperature'].median())"
   ]
  },
  {
   "cell_type": "code",
   "execution_count": 13,
   "metadata": {},
   "outputs": [
    {
     "name": "stdout",
     "output_type": "stream",
     "text": [
      "[6.68]\n"
     ]
    }
   ],
   "source": [
    "# Mode\n",
    "\n",
    "# В NumPy нет специальной функции для моды\n",
    "# Можно использовать функцию unique, которая находит уникальные значения\n",
    "# параметр return_counts = True возвращает частоту, с которой то или иное значение встречается в векторе\n",
    "# Если этот параметр активирован, то unique будет возвращать вместо вектора кортеж ([значения], [частота])\n",
    "\n",
    "tup = np.unique(cities.temperature, return_counts = True)\n",
    "tup[0][tup[1]==np.max(tup[1])]\n",
    "\n",
    "# Можно созранить возврат функции не в кортеж, а каждый вектор в отдельную переменную\n",
    "values, count = np.unique(cities.temperature, return_counts = True)\n",
    "print(values[count==np.max(count)])"
   ]
  },
  {
   "cell_type": "code",
   "execution_count": 10,
   "metadata": {},
   "outputs": [
    {
     "data": {
      "text/plain": [
       "ModeResult(mode=array([6.68]), count=array([5]))"
      ]
     },
     "execution_count": 10,
     "metadata": {},
     "output_type": "execute_result"
    }
   ],
   "source": [
    "# Используя библиотеку SciPy\n",
    "from scipy import stats\n",
    "stats.mode(cities.temperature)"
   ]
  },
  {
   "cell_type": "code",
   "execution_count": 11,
   "metadata": {},
   "outputs": [
    {
     "data": {
      "text/plain": [
       "[(6.68, 5)]"
      ]
     },
     "execution_count": 11,
     "metadata": {},
     "output_type": "execute_result"
    }
   ],
   "source": [
    "# Используя модуль Counter из библиотеки collections\n",
    "from collections import Counter\n",
    "count = Counter(cities.temperature)\n",
    "count.most_common(1)"
   ]
  },
  {
   "cell_type": "code",
   "execution_count": 12,
   "metadata": {},
   "outputs": [
    {
     "data": {
      "text/plain": [
       "0    6.68\n",
       "dtype: float64"
      ]
     },
     "execution_count": 12,
     "metadata": {},
     "output_type": "execute_result"
    }
   ],
   "source": [
    "# Используя pandas\n",
    "cities['temperature'].mode()"
   ]
  },
  {
   "cell_type": "code",
   "execution_count": 51,
   "metadata": {},
   "outputs": [
    {
     "name": "stdout",
     "output_type": "stream",
     "text": [
      "-2.2\n",
      "-2.2\n"
     ]
    }
   ],
   "source": [
    "# Minimum\n",
    "print(np.min(cities.temperature))\n",
    "print(cities.temperature.min())"
   ]
  },
  {
   "cell_type": "code",
   "execution_count": 52,
   "metadata": {},
   "outputs": [
    {
     "name": "stdout",
     "output_type": "stream",
     "text": [
      "18.67\n",
      "18.67\n"
     ]
    }
   ],
   "source": [
    "# Maximum\n",
    "print(np.max(cities.temperature))\n",
    "print(cities.temperature.max())"
   ]
  },
  {
   "cell_type": "code",
   "execution_count": 57,
   "metadata": {},
   "outputs": [
    {
     "name": "stdout",
     "output_type": "stream",
     "text": [
      "20.87\n",
      "20.87\n"
     ]
    }
   ],
   "source": [
    "# Range\n",
    "r1 = np.max(cities.temperature) - np.min(cities.temperature)\n",
    "print(r1)\n",
    "\n",
    "r2 = cities.temperature.max() - cities.temperature.min()\n",
    "print(r2)"
   ]
  },
  {
   "cell_type": "code",
   "execution_count": 61,
   "metadata": {},
   "outputs": [
    {
     "name": "stdout",
     "output_type": "stream",
     "text": [
      "12.622827260905025\n",
      "12.68236889892816\n"
     ]
    }
   ],
   "source": [
    "# Variance\n",
    "print(np.var(cities.temperature))\n",
    "print(cities.temperature.var())"
   ]
  },
  {
   "cell_type": "code",
   "execution_count": 62,
   "metadata": {},
   "outputs": [
    {
     "name": "stdout",
     "output_type": "stream",
     "text": [
      "3.5528618409537156\n",
      "3.561231373967179\n"
     ]
    }
   ],
   "source": [
    "# Standard Deviation\n",
    "print(np.std(cities.temperature))\n",
    "print(cities.temperature.std())"
   ]
  },
  {
   "cell_type": "code",
   "execution_count": 63,
   "metadata": {},
   "outputs": [
    {
     "data": {
      "text/plain": [
       "array([ 7.19,  8.88, 11.19])"
      ]
     },
     "execution_count": 63,
     "metadata": {},
     "output_type": "execute_result"
    }
   ],
   "source": [
    "# Quantiles\n",
    "np.quantile(cities.temperature, [0.25, 0.5, 0.75])"
   ]
  },
  {
   "cell_type": "code",
   "execution_count": 67,
   "metadata": {},
   "outputs": [
    {
     "data": {
      "text/plain": [
       "0.25     7.190\n",
       "0.50     8.880\n",
       "0.75    11.190\n",
       "0.90    15.088\n",
       "Name: temperature, dtype: float64"
      ]
     },
     "execution_count": 67,
     "metadata": {},
     "output_type": "execute_result"
    }
   ],
   "source": [
    "cities.temperature.quantile(q=[0.25, 0.5, 0.75, 0.9])"
   ]
  }
 ],
 "metadata": {
  "kernelspec": {
   "display_name": "Python 3",
   "language": "python",
   "name": "python3"
  },
  "language_info": {
   "codemirror_mode": {
    "name": "ipython",
    "version": 3
   },
   "file_extension": ".py",
   "mimetype": "text/x-python",
   "name": "python",
   "nbconvert_exporter": "python",
   "pygments_lexer": "ipython3",
   "version": "3.7.4"
  }
 },
 "nbformat": 4,
 "nbformat_minor": 2
}
