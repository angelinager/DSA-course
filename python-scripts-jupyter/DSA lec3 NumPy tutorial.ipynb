{
 "cells": [
  {
   "cell_type": "code",
   "execution_count": null,
   "metadata": {},
   "outputs": [],
   "source": [
    "import numpy as np \n",
    "\n",
    "# Создание одномерных numpy векторов\n",
    "a = np.array([1,2,3])\n",
    "b = np.array([11,12,13])\n",
    "\n",
    "# Создание 2х3 матрицы типа данных 'целый16БИТ'\n",
    "m = np.array([[1,2,3],[4,5,6]], dtype='int16')"
   ]
  },
  {
   "cell_type": "code",
   "execution_count": null,
   "metadata": {},
   "outputs": [],
   "source": [
    "print(m)"
   ]
  },
  {
   "cell_type": "code",
   "execution_count": null,
   "metadata": {},
   "outputs": [],
   "source": [
    "# арифметические операции применяются к векторам с одинаковой размерностью по-элементно\n",
    "\n",
    "print(\"Sum: \", a+b)\n",
    "print(\"Difference: \", a-b)\n",
    "print(\"Product: \", a*b)\n",
    "print(\"Division: \", a/b)\n",
    "\n",
    "l1 = [1, 2, 3]\n",
    "l2 = [4, 5, 6]\n",
    "\n",
    "# К спискам арифметические операции на месте не применяются, + обьединяет два списка в один\n",
    "print(l1+l2) \n",
    "\n",
    "# Если хотите применить математические операции к спискам по-элементно,\n",
    "# необходимо использовать операцию list comprehension - списковое включение\n",
    "sum_of_lists = [(x+y) for (x,y) in zip(l1,l2)]\n",
    "print(sum_of_lists)"
   ]
  },
  {
   "cell_type": "code",
   "execution_count": null,
   "metadata": {},
   "outputs": [],
   "source": [
    "# Превратить список в numpy array\n",
    "arr1 = np.array(l1)\n",
    "arr2 = np.asarray(l1) # подходит также для конвертации других структур (кортеж, объект и т.д) в numpy array"
   ]
  },
  {
   "cell_type": "code",
   "execution_count": null,
   "metadata": {},
   "outputs": [],
   "source": [
    "# Посмотреть форму (размер)\n",
    "print(np.shape(m))\n",
    "print(m.shape)"
   ]
  },
  {
   "cell_type": "code",
   "execution_count": null,
   "metadata": {},
   "outputs": [],
   "source": [
    "# Посмотреть тип данных, хранящихся в array\n",
    "m.dtype"
   ]
  },
  {
   "cell_type": "code",
   "execution_count": null,
   "metadata": {},
   "outputs": [],
   "source": [
    "# Проверить общее количество элементов в матрице m x n\n",
    "print(m.size)"
   ]
  },
  {
   "cell_type": "code",
   "execution_count": null,
   "metadata": {},
   "outputs": [],
   "source": [
    "# Slicing \n",
    "\n",
    "print(m[0,1]) # 0 ряд, 1 столбец\n",
    "print(m[:,1]) # все ряды, 1 столбец\n",
    "print(m[0,:]) # 0 ряд, все столбцы\n",
    "print(m[:,0:-1])  # все ряды, 0:предпоследний столбец\n"
   ]
  },
  {
   "cell_type": "code",
   "execution_count": null,
   "metadata": {},
   "outputs": [],
   "source": [
    "m1 =  np.array([[1, 2, 3, 11, 12, 13],[4, 5, 6, 14, 15, 16]], dtype='int16')\n",
    "print(m1)"
   ]
  },
  {
   "cell_type": "code",
   "execution_count": null,
   "metadata": {},
   "outputs": [],
   "source": [
    "print(m1[0, 1:6:2]) # выбор элементов из 0 ряда, 1-5 столбцов (6-не включен) с шагом в 2"
   ]
  },
  {
   "cell_type": "code",
   "execution_count": null,
   "metadata": {},
   "outputs": [],
   "source": [
    "a1 = np.zeros((2,4)) # матрица нулей\n",
    "print(a1)\n",
    "\n",
    "a2 = np.ones((7, 1)) #  вектор единиц\n",
    "print(a2)\n",
    "\n",
    "a3 = np.full((2,2), 50) # матрица с заданным значением 50\n",
    "print(a3)\n",
    "\n",
    "a4 = np.random.randint(0, high=500, size=(3,3)) # матрица 3х3 со случайными целыми числами от 0 до 500\n",
    "print(a4)"
   ]
  },
  {
   "cell_type": "code",
   "execution_count": null,
   "metadata": {},
   "outputs": [],
   "source": [
    "# Находим минимум и максимум матрицы\n",
    "\n",
    "print(np.min(m1))\n",
    "print(np.max(m1))"
   ]
  },
  {
   "cell_type": "code",
   "execution_count": null,
   "metadata": {},
   "outputs": [],
   "source": [
    "# Находим минимум для каждого отдельного столбца (column)\n",
    "# 0 = column-wise, 1 - row-wise\n",
    "np.mean(m1, axis=0)"
   ]
  },
  {
   "cell_type": "code",
   "execution_count": null,
   "metadata": {},
   "outputs": [],
   "source": [
    "# Указание на array VS копия\n",
    "A = np.array([1, 2, 3, 4])\n",
    "B = A # указание на оригинальный array А\n",
    "print(\"A array:\", A)\n",
    "print(\"B array:\", B)\n",
    "B[0] = 10000\n",
    "print(\"B array:\", B)\n",
    "print(\"A array:\", A)\n",
    "\n",
    "print (\"--------\")\n",
    "\n",
    "\n",
    "C = A.copy() #  копия\n",
    "print(\"A array:\", A)\n",
    "print(\"С array:\", C)\n",
    "\n",
    "C[0] = 999\n",
    "print(\"A array:\", A)\n",
    "print(\"С array:\", C)"
   ]
  },
  {
   "cell_type": "code",
   "execution_count": null,
   "metadata": {},
   "outputs": [],
   "source": []
  },
  {
   "cell_type": "code",
   "execution_count": null,
   "metadata": {},
   "outputs": [],
   "source": [
    "# Изменение формы вектора/матрицы\n",
    "arr1 = np.array([1,2,3,4,5,6,7,8])\n",
    "print(\"Orginal:\", arr1)\n",
    "\n",
    "arr2 = arr1.reshape((4, 2))\n",
    "print(\"4x2 shape:\\n\", arr2)\n",
    "\n",
    "arr3 = arr1.reshape((2, 4))\n",
    "print(\"2x4 shape:\\n\", arr3)\n",
    "\n",
    "arr4 = arr1.reshape((8, 1))\n",
    "print(\"8x1 shape:\\n\", arr4)\n"
   ]
  },
  {
   "cell_type": "code",
   "execution_count": null,
   "metadata": {},
   "outputs": [],
   "source": [
    "# Единичная матрица\n",
    "\n",
    "ident = np.identity(5)\n",
    "print(ident)"
   ]
  },
  {
   "cell_type": "code",
   "execution_count": null,
   "metadata": {},
   "outputs": [],
   "source": [
    "# Заполнение диагонали числами\n",
    "z = np.zeros((5,5))\n",
    "print(z)\n",
    "np.fill_diagonal(z, 8) # название матрицы, значение\n",
    "print(\"new\")\n",
    "print(z)"
   ]
  },
  {
   "cell_type": "code",
   "execution_count": null,
   "metadata": {},
   "outputs": [],
   "source": [
    "# Reverse the order of elements in an array along the given axis\n",
    "# Изменить порядок элементов относительно какой-либо оси\n",
    "# 0 = column-wise, 1 - row-wise\n",
    "\n",
    "a = np.array([[1,2,3], [4,5,6], [7,8,9]])\n",
    "print(a)\n",
    "flipped_a = np.flip(a, axis=1)\n",
    "print(flipped_a)"
   ]
  },
  {
   "cell_type": "code",
   "execution_count": null,
   "metadata": {},
   "outputs": [],
   "source": [
    "# Транспонированная матрица - матрица, полученная из исходной матрицы заменой строк на столбцы.\n",
    "# Permute the dimensions of an array\n",
    "\n",
    "b = np.array([[1,2,3,4], [5,6,7,8], [9,10,11,12]])\n",
    "print(b)\n",
    "print(np.transpose(b))\n",
    "print(\"another way\")\n",
    "print(b.T)"
   ]
  },
  {
   "cell_type": "code",
   "execution_count": null,
   "metadata": {},
   "outputs": [],
   "source": []
  }
 ],
 "metadata": {
  "kernelspec": {
   "display_name": "Python 3",
   "language": "python",
   "name": "python3"
  },
  "language_info": {
   "codemirror_mode": {
    "name": "ipython",
    "version": 3
   },
   "file_extension": ".py",
   "mimetype": "text/x-python",
   "name": "python",
   "nbconvert_exporter": "python",
   "pygments_lexer": "ipython3",
   "version": "3.7.4"
  }
 },
 "nbformat": 4,
 "nbformat_minor": 2
}
