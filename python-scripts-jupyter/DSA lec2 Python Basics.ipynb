{
 "cells": [
  {
   "cell_type": "markdown",
   "metadata": {},
   "source": [
    "# Типы данных"
   ]
  },
  {
   "cell_type": "code",
   "execution_count": null,
   "metadata": {},
   "outputs": [],
   "source": [
    "b = 12.0 \n",
    "a = 7\n",
    "c = 49.3\n",
    "d = '123.5'\n",
    "\n",
    "# Изменение типа данных\n",
    "print(b+float(d))\n",
    "print(a+int(b))"
   ]
  },
  {
   "cell_type": "markdown",
   "metadata": {},
   "source": [
    "# Математические операции"
   ]
  },
  {
   "cell_type": "code",
   "execution_count": null,
   "metadata": {},
   "outputs": [],
   "source": [
    "print(a+b)\n",
    "print(a-b)\n",
    "print(a*b)\n",
    "print(c/b)\n",
    "print(a**2)# квадратный корень"
   ]
  },
  {
   "cell_type": "code",
   "execution_count": null,
   "metadata": {},
   "outputs": [],
   "source": [
    "import math\n",
    "from math import sin # селективный импорт\n",
    "from math import * #  импортировать все\n",
    "\n",
    "dir(math) #  посмотреть все имеющиеся в библиотеке функции\n",
    "\n",
    "math.sqrt(c) # квадратный корень\n"
   ]
  },
  {
   "cell_type": "code",
   "execution_count": null,
   "metadata": {},
   "outputs": [],
   "source": [
    "# Варианты использования кавычек\n",
    "s = \"'Hello, world' - he said\"\n",
    "s = '\"Hello, world\" - he said'\n",
    "\n",
    "s = '\"What\\'s your name\" - he said'\n"
   ]
  },
  {
   "cell_type": "markdown",
   "metadata": {},
   "source": [
    "# Списки - lists"
   ]
  },
  {
   "cell_type": "code",
   "execution_count": null,
   "metadata": {},
   "outputs": [],
   "source": [
    "# Cоздаем пустые списки\n",
    "l = []\n",
    "l = list()\n",
    "\n",
    "# Cписок - изменяемый неоднородный массив\n",
    "l = [a, b, c, 87, 56.987, 'atr', 'a', 980]\n",
    "\n",
    "l1 = [1, 2, 3]\n",
    "l2 = [4, 5, 6]\n",
    "\n",
    "# Операция + означает обьединение \n",
    "big_l = l1+l2\n",
    "print(\"+ operation:\", big_l)\n",
    "\n",
    "# Создание cписка списков\n",
    "L = [l1, l2]\n",
    "print(L)\n",
    "\n",
    "error = 27\n",
    "l1.append(error) # Добавляет элемент в скобках в конец списка\n",
    "print(l1)\n",
    "l1.remove(3) # убирает элемент с данным значением из списка (если таковой имеется)\n",
    "print(l1)\n"
   ]
  },
  {
   "cell_type": "code",
   "execution_count": null,
   "metadata": {},
   "outputs": [],
   "source": [
    "# К спискам арифметические операции на месте не применяются, + обьединяет два списка в один\n",
    "print(l1+l2) \n",
    "\n",
    "# Если хотите применить математические операции к спискам по-элементно,\n",
    "# необходимо использовать операцию list comprehension - списковое включение\n",
    "sum_of_lists = [(x+y) for (x,y) in zip(l1,l2)]\n",
    "print(sum_of_lists)\n"
   ]
  },
  {
   "cell_type": "markdown",
   "metadata": {},
   "source": [
    "# Словари - dictionaries: пары key:value ( ключ : значение)"
   ]
  },
  {
   "cell_type": "code",
   "execution_count": null,
   "metadata": {},
   "outputs": [],
   "source": [
    "d = {'Name': 'Ivan', 'Surname' : 'Urgant'}\n",
    "print(d)\n",
    "\n",
    "d2 = {1 :45, 2:45 }\n",
    "print(d2)\n",
    "\n",
    "print(d['Surname']) # Значение словаря можно достать через обращение к его ключу"
   ]
  },
  {
   "cell_type": "markdown",
   "metadata": {},
   "source": [
    "# Кортежи - Tuples - неизменяемый неоднородный массив"
   ]
  },
  {
   "cell_type": "code",
   "execution_count": null,
   "metadata": {},
   "outputs": [],
   "source": [
    "c = (3, 4, 3.14,  5)\n",
    "print(c)\n",
    "#c[1] = 999 # выдаст ошибку, так как элементы кортежа - неизменяемы\n",
    "print(c[1])\n",
    "print(c[1:-1])\n",
    "\n",
    "# Создание 2 списков\n",
    "l1 = [1,2,3]\n",
    "l2 = [4,5,6]\n",
    "\n",
    "# Список, содержащий кортежи, как элементы\n",
    "l_tuples = [(1,2), (2,3)]\n",
    "print(l_tuples)"
   ]
  },
  {
   "cell_type": "markdown",
   "metadata": {},
   "source": [
    "# Множество - Set - совокупность неповторяющихся элементов"
   ]
  },
  {
   "cell_type": "code",
   "execution_count": null,
   "metadata": {},
   "outputs": [],
   "source": [
    "l = [1, 1, 1, 2, 2, 3, 3, 44, 67, 1, 1]\n",
    "\n",
    "s = set(l)\n",
    "s.add(1098) # добавить один элемент\n",
    "print(s)\n",
    "s.update([12, 1, 35, 56]) # добавить несколько элементов\n",
    "print(s)"
   ]
  },
  {
   "cell_type": "markdown",
   "metadata": {},
   "source": [
    "# Цикл For"
   ]
  },
  {
   "cell_type": "code",
   "execution_count": null,
   "metadata": {},
   "outputs": [],
   "source": [
    "l = [a, b, c, 87, 56.987, 'atr', 'a', 980]\n",
    "\n",
    "# Перебор чисел\n",
    "for i in range(0,8):\n",
    "    print(i)\n",
    "    \n",
    "print(\"Done\") \n",
    "    \n",
    "print(\"---------\")\n",
    "\n",
    "# Перебор элементов списка\n",
    "for item in l:\n",
    "    print(item)\n",
    "    \n",
    "print(\"Done\") "
   ]
  },
  {
   "cell_type": "markdown",
   "metadata": {},
   "source": [
    "# Цикл While"
   ]
  },
  {
   "cell_type": "code",
   "execution_count": null,
   "metadata": {},
   "outputs": [],
   "source": [
    "a = 3\n",
    "\n",
    "while a<10:\n",
    "    print(a)\n",
    "    a += 1"
   ]
  },
  {
   "cell_type": "markdown",
   "metadata": {},
   "source": [
    "# Условия, ветвления - If statement"
   ]
  },
  {
   "cell_type": "code",
   "execution_count": null,
   "metadata": {},
   "outputs": [],
   "source": [
    "a = 6\n",
    "b = 6\n",
    "\n",
    "if a>b:\n",
    "    print(\"{} is MORE than {}\".format(a,b))\n",
    "elif a<b:\n",
    "    print(\"{} is LESS than {}\".format(a, b))\n",
    "else:\n",
    "    print(\"{} is EQUAL to {}\".format(a, b))\n"
   ]
  },
  {
   "cell_type": "markdown",
   "metadata": {},
   "source": [
    "# Функции - Functions"
   ]
  },
  {
   "cell_type": "code",
   "execution_count": null,
   "metadata": {},
   "outputs": [],
   "source": [
    "# Функция БЕЗ принимаемых параметров и БЕЗ возврата\n",
    "\n",
    "def print_hello():\n",
    "    print(\"Hello DSA students!\")\n",
    "    \n",
    "print_hello() # вызов функции"
   ]
  },
  {
   "cell_type": "code",
   "execution_count": null,
   "metadata": {},
   "outputs": [],
   "source": [
    "# Функция С принимаемыми параметрами и БЕЗ возврата\n",
    "\n",
    "a = 34 # создаем две пересенные, чтобы отправить их значения в функцию\n",
    "b = 67.8\n",
    "\n",
    "def print_add(a, b):\n",
    "    c = a+b\n",
    "    print(\"Sum: \", c)\n",
    "    \n",
    "print_add(a, b) # вызов функции\n"
   ]
  },
  {
   "cell_type": "code",
   "execution_count": null,
   "metadata": {},
   "outputs": [],
   "source": [
    "a = 12\n",
    "c = 3.0\n",
    "\n",
    "\n",
    "def print_div(a, b=4):  # Функция со значением аргумента, установленным по умолчанию\n",
    "    c = a/b\n",
    "    print(\"Sum: \", c)\n",
    "    \n",
    "print_div(a) # вызов функции, если мы хоти оставить b=4\n",
    "print_div(a, c) # вызов функции, если мы хотим заменить значение b на с"
   ]
  },
  {
   "cell_type": "code",
   "execution_count": null,
   "metadata": {},
   "outputs": [],
   "source": [
    "# Функция БЕЗ принимаемых параметров и С возвратом\n",
    "\n",
    "def return_hello():\n",
    "    \n",
    "    return (\"This function does not accept arguments but rather returns a string\") # return - зарезервированное слово для возврата значений/ответов из функции\n",
    "    \n",
    "print(return_hello()) # вызов функции"
   ]
  },
  {
   "cell_type": "code",
   "execution_count": null,
   "metadata": {},
   "outputs": [],
   "source": [
    "# Функция C принимаемыми параметрами и C возвратом\n",
    "\n",
    "def add(a, b):\n",
    "    c = a+b # c - локальная переменная, значение которой существует только внутри конкреной функции\n",
    "    return c\n",
    "\n",
    "result = add(6, 7) # значения передаются напрямую в функцию, без создания переменных\n",
    "print(\"The result is \", result)"
   ]
  }
 ],
 "metadata": {
  "kernelspec": {
   "display_name": "Python 3",
   "language": "python",
   "name": "python3"
  },
  "language_info": {
   "codemirror_mode": {
    "name": "ipython",
    "version": 3
   },
   "file_extension": ".py",
   "mimetype": "text/x-python",
   "name": "python",
   "nbconvert_exporter": "python",
   "pygments_lexer": "ipython3",
   "version": "3.7.4"
  }
 },
 "nbformat": 4,
 "nbformat_minor": 2
}
