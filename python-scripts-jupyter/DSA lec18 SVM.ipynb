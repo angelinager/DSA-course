{
 "cells": [
  {
   "cell_type": "code",
   "execution_count": 1,
   "metadata": {},
   "outputs": [],
   "source": [
    "import numpy as np\n",
    "import pandas as pd\n",
    "import matplotlib.pyplot as plt\n",
    "\n",
    "from sklearn.datasets import load_breast_cancer\n",
    "from sklearn.model_selection import train_test_split\n",
    "\n",
    "from sklearn.metrics import *\n",
    "from sklearn.svm import SVC\n",
    "from sklearn.svm import LinearSVC\n",
    "from sklearn.linear_model import SGDClassifier\n",
    "from sklearn.preprocessing import StandardScaler"
   ]
  },
  {
   "cell_type": "markdown",
   "metadata": {},
   "source": [
    "## Загрузим готовый датасет Breast Cancer из библиотеки Sklearn и разделим данные на train/test"
   ]
  },
  {
   "cell_type": "code",
   "execution_count": 2,
   "metadata": {},
   "outputs": [],
   "source": [
    "X, y = load_breast_cancer(return_X_y = True)\n",
    "\n",
    "X_train, X_test, y_train, y_test = train_test_split(X, y, test_size = 0.15, shuffle=True, random_state=0)\n",
    "\n",
    "# Стандартизируем данные\n",
    "scaler = StandardScaler()\n",
    "X_train = scaler.fit_transform(X_train)\n",
    "X_test = scaler.transform(X_test)"
   ]
  },
  {
   "cell_type": "markdown",
   "metadata": {},
   "source": [
    "## Попробуем SVM c линейным ядром - linear kernel SVM"
   ]
  },
  {
   "cell_type": "code",
   "execution_count": 3,
   "metadata": {},
   "outputs": [
    {
     "name": "stdout",
     "output_type": "stream",
     "text": [
      "Train accuracy:  0.9855072463768116\n",
      "Test accuracy:  1.0\n"
     ]
    }
   ],
   "source": [
    "svm_linear = SVC(C=1, kernel = 'linear')\n",
    "# Другая, более быстрая альтернатива, это напрямую использовать класс LinearSVC()\n",
    "svm_linear.fit(X_train, y_train)\n",
    "y_train_pred = svm_linear.predict(X_train)\n",
    "y_test_pred = svm_linear.predict(X_test)\n",
    "\n",
    "print(\"Train accuracy: \", accuracy_score(y_train,y_train_pred))\n",
    "print(\"Test accuracy: \", accuracy_score(y_test,y_test_pred))"
   ]
  },
  {
   "cell_type": "markdown",
   "metadata": {},
   "source": [
    "## Попробуем SVM c ядром Гаусса - Gaussian kernel (RBF) SVM"
   ]
  },
  {
   "cell_type": "code",
   "execution_count": 4,
   "metadata": {},
   "outputs": [
    {
     "name": "stdout",
     "output_type": "stream",
     "text": [
      "Train accuracy:  0.9855072463768116\n",
      "Test accuracy:  1.0\n"
     ]
    }
   ],
   "source": [
    "svm_linear = SVC(C=1.0, kernel='rbf')\n",
    "\n",
    "svm_linear.fit(X_train, y_train)\n",
    "y_train_pred = svm_linear.predict(X_train)\n",
    "y_test_pred = svm_linear.predict(X_test)\n",
    "\n",
    "print(\"Train accuracy: \", accuracy_score(y_train,y_train_pred))\n",
    "print(\"Test accuracy: \", accuracy_score(y_test,y_test_pred))"
   ]
  },
  {
   "cell_type": "markdown",
   "metadata": {},
   "source": [
    "## Попробуем SVM c  полиномиальным ядром ядром в 3 степени - 3rd degree polynomial kernel"
   ]
  },
  {
   "cell_type": "code",
   "execution_count": 5,
   "metadata": {},
   "outputs": [
    {
     "name": "stdout",
     "output_type": "stream",
     "text": [
      "Train accuracy:  0.9130434782608695\n",
      "Test accuracy:  0.8953488372093024\n"
     ]
    }
   ],
   "source": [
    "svm_linear = SVC(C=1, kernel='poly', degree=3)\n",
    "svm_linear.fit(X_train, y_train)\n",
    "y_train_pred = svm_linear.predict(X_train)\n",
    "y_test_pred = svm_linear.predict(X_test)\n",
    "\n",
    "print(\"Train accuracy: \", accuracy_score(y_train,y_train_pred))\n",
    "print(\"Test accuracy: \", accuracy_score(y_test,y_test_pred))"
   ]
  },
  {
   "cell_type": "code",
   "execution_count": 6,
   "metadata": {},
   "outputs": [],
   "source": [
    "# Попробуем подобрать лучшую комбинацию из коэффициента C и типа ядра"
   ]
  },
  {
   "cell_type": "code",
   "execution_count": 7,
   "metadata": {},
   "outputs": [
    {
     "name": "stdout",
     "output_type": "stream",
     "text": [
      "Kernel =  linear\n",
      "C =  0.6\n",
      "Train accuracy:  0.9855072463768116\n",
      "Test accuracy:  1.0\n",
      "-------------\n",
      "Kernel =  linear\n",
      "C =  0.9\n",
      "Train accuracy:  0.9855072463768116\n",
      "Test accuracy:  1.0\n",
      "-------------\n",
      "Kernel =  linear\n",
      "C =  1.0\n",
      "Train accuracy:  0.9855072463768116\n",
      "Test accuracy:  1.0\n",
      "-------------\n",
      "Kernel =  linear\n",
      "C =  2\n",
      "Train accuracy:  0.9855072463768116\n",
      "Test accuracy:  1.0\n",
      "-------------\n",
      "Kernel =  linear\n",
      "C =  5\n",
      "Train accuracy:  0.9875776397515528\n",
      "Test accuracy:  1.0\n",
      "-------------\n",
      "Kernel =  linear\n",
      "C =  10\n",
      "Train accuracy:  0.9875776397515528\n",
      "Test accuracy:  0.9651162790697675\n",
      "-------------\n",
      "Kernel =  poly\n",
      "C =  0.6\n",
      "Train accuracy:  0.9006211180124224\n",
      "Test accuracy:  0.8837209302325582\n",
      "-------------\n",
      "Kernel =  poly\n",
      "C =  0.9\n",
      "Train accuracy:  0.9026915113871635\n",
      "Test accuracy:  0.8837209302325582\n",
      "-------------\n",
      "Kernel =  poly\n",
      "C =  1.0\n",
      "Train accuracy:  0.9130434782608695\n",
      "Test accuracy:  0.8953488372093024\n",
      "-------------\n",
      "Kernel =  poly\n",
      "C =  2\n",
      "Train accuracy:  0.9337474120082816\n",
      "Test accuracy:  0.9186046511627907\n",
      "-------------\n",
      "Kernel =  poly\n",
      "C =  5\n",
      "Train accuracy:  0.9606625258799172\n",
      "Test accuracy:  0.9651162790697675\n",
      "-------------\n",
      "Kernel =  poly\n",
      "C =  10\n",
      "Train accuracy:  0.9648033126293996\n",
      "Test accuracy:  0.9883720930232558\n",
      "-------------\n",
      "Kernel =  rbf\n",
      "C =  0.6\n",
      "Train accuracy:  0.979296066252588\n",
      "Test accuracy:  0.9883720930232558\n",
      "-------------\n",
      "Kernel =  rbf\n",
      "C =  0.9\n",
      "Train accuracy:  0.9855072463768116\n",
      "Test accuracy:  1.0\n",
      "-------------\n",
      "Kernel =  rbf\n",
      "C =  1.0\n",
      "Train accuracy:  0.9855072463768116\n",
      "Test accuracy:  1.0\n",
      "-------------\n",
      "Kernel =  rbf\n",
      "C =  2\n",
      "Train accuracy:  0.9875776397515528\n",
      "Test accuracy:  1.0\n",
      "-------------\n",
      "Kernel =  rbf\n",
      "C =  5\n",
      "Train accuracy:  0.989648033126294\n",
      "Test accuracy:  1.0\n",
      "-------------\n",
      "Kernel =  rbf\n",
      "C =  10\n",
      "Train accuracy:  0.989648033126294\n",
      "Test accuracy:  1.0\n",
      "-------------\n",
      "Kernel =  sigmoid\n",
      "C =  0.6\n",
      "Train accuracy:  0.9523809523809523\n",
      "Test accuracy:  0.9883720930232558\n",
      "-------------\n",
      "Kernel =  sigmoid\n",
      "C =  0.9\n",
      "Train accuracy:  0.9461697722567288\n",
      "Test accuracy:  0.9767441860465116\n",
      "-------------\n",
      "Kernel =  sigmoid\n",
      "C =  1.0\n",
      "Train accuracy:  0.9420289855072463\n",
      "Test accuracy:  0.9651162790697675\n",
      "-------------\n",
      "Kernel =  sigmoid\n",
      "C =  2\n",
      "Train accuracy:  0.9358178053830227\n",
      "Test accuracy:  0.9069767441860465\n",
      "-------------\n",
      "Kernel =  sigmoid\n",
      "C =  5\n",
      "Train accuracy:  0.9316770186335404\n",
      "Test accuracy:  0.8837209302325582\n",
      "-------------\n",
      "Kernel =  sigmoid\n",
      "C =  10\n",
      "Train accuracy:  0.927536231884058\n",
      "Test accuracy:  0.9186046511627907\n",
      "-------------\n"
     ]
    }
   ],
   "source": [
    "kernels = ['linear', 'poly', 'rbf', 'sigmoid']\n",
    "Cs = [0.6, 0.9, 1.0, 2, 5, 10]\n",
    "#Cs = [1.0, 2.0]\n",
    "\n",
    "for k in kernels:\n",
    "    for c in Cs:\n",
    "        print(\"Kernel = \", k)\n",
    "        print(\"C = \", c)\n",
    "        svm_linear = SVC(C=c, kernel=k)\n",
    "\n",
    "        svm_linear.fit(X_train, y_train)\n",
    "        y_train_pred = svm_linear.predict(X_train)\n",
    "        y_test_pred = svm_linear.predict(X_test)\n",
    "\n",
    "        print(\"Train accuracy: \", accuracy_score(y_train,y_train_pred))\n",
    "        print(\"Test accuracy: \", accuracy_score(y_test,y_test_pred))\n",
    "        \n",
    "        print(\"-------------\")\n",
    "\n",
    "# Наилучший баланс между train/test accuracy достигается \n",
    "# при использовании  kernel = 'linear' и С = 0.6, 0.9, 1.0, или 5.0"
   ]
  },
  {
   "cell_type": "code",
   "execution_count": null,
   "metadata": {},
   "outputs": [],
   "source": []
  }
 ],
 "metadata": {
  "kernelspec": {
   "display_name": "Python 3",
   "language": "python",
   "name": "python3"
  },
  "language_info": {
   "codemirror_mode": {
    "name": "ipython",
    "version": 3
   },
   "file_extension": ".py",
   "mimetype": "text/x-python",
   "name": "python",
   "nbconvert_exporter": "python",
   "pygments_lexer": "ipython3",
   "version": "3.7.4"
  }
 },
 "nbformat": 4,
 "nbformat_minor": 2
}
