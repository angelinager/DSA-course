{
 "cells": [
  {
   "cell_type": "code",
   "execution_count": 1,
   "metadata": {},
   "outputs": [],
   "source": [
    "import numpy as np\n",
    "import pandas as pd\n",
    "import matplotlib.pyplot as plt"
   ]
  },
  {
   "cell_type": "markdown",
   "metadata": {},
   "source": [
    "## Загрузим готовый датасет Breast Cancer из библиотеки Sklearn"
   ]
  },
  {
   "cell_type": "code",
   "execution_count": 2,
   "metadata": {},
   "outputs": [],
   "source": [
    "from sklearn.datasets import load_breast_cancer\n",
    "from sklearn.model_selection import train_test_split\n",
    "\n",
    "X, y = load_breast_cancer(return_X_y = True)\n",
    "\n",
    "X_train, X_test, y_train, y_test = train_test_split(X, y, test_size=0.15, shuffle=True, random_state=0)"
   ]
  },
  {
   "cell_type": "code",
   "execution_count": 3,
   "metadata": {},
   "outputs": [],
   "source": [
    "from sklearn.linear_model import Perceptron\n",
    "from sklearn.metrics import *\n",
    "from sklearn.preprocessing import MinMaxScaler, StandardScaler\n",
    "\n",
    "# Стандартизируем данные\n",
    "scaler = StandardScaler()\n",
    "X_train = scaler.fit_transform(X_train)\n",
    "X_test = scaler.transform(X_test)"
   ]
  },
  {
   "cell_type": "markdown",
   "metadata": {},
   "source": [
    "## Реализация персептрона при помощи готового класса Perceptron"
   ]
  },
  {
   "cell_type": "code",
   "execution_count": 4,
   "metadata": {},
   "outputs": [
    {
     "name": "stdout",
     "output_type": "stream",
     "text": [
      "Train accuracy:  0.979296066252588\n",
      "Test accuracy:  0.9883720930232558\n"
     ]
    }
   ],
   "source": [
    "m1 = Perceptron()\n",
    "m1.fit(X_train, y_train)\n",
    "\n",
    "y_train_pred = m1.predict(X_train)\n",
    "train_accuracy = accuracy_score(y_train, y_train_pred)\n",
    "print(\"Train accuracy: \", train_accuracy)\n",
    "\n",
    "y_test_pred = m1.predict(X_test)\n",
    "test_accuracy = accuracy_score(y_test, y_test_pred)\n",
    "print(\"Test accuracy: \", test_accuracy)"
   ]
  },
  {
   "cell_type": "markdown",
   "metadata": {},
   "source": [
    "## Реализация персептрона при помощи градиентного спуска и класса SGDClassifier"
   ]
  },
  {
   "cell_type": "code",
   "execution_count": 5,
   "metadata": {},
   "outputs": [
    {
     "name": "stdout",
     "output_type": "stream",
     "text": [
      "-- Epoch 1\n",
      "Norm: 29.71, NNZs: 30, Bias: 2.662792, T: 483, Avg. loss: 1.590200\n",
      "Total training time: 0.00 seconds.\n",
      "-- Epoch 2\n",
      "Norm: 16.74, NNZs: 30, Bias: 0.911014, T: 966, Avg. loss: 0.384098\n",
      "Total training time: 0.00 seconds.\n",
      "-- Epoch 3\n",
      "Norm: 14.58, NNZs: 30, Bias: 0.659457, T: 1449, Avg. loss: 0.328775\n",
      "Total training time: 0.00 seconds.\n",
      "-- Epoch 4\n",
      "Norm: 11.67, NNZs: 30, Bias: 0.728529, T: 1932, Avg. loss: 0.137321\n",
      "Total training time: 0.00 seconds.\n",
      "-- Epoch 5\n",
      "Norm: 12.01, NNZs: 30, Bias: -0.178185, T: 2415, Avg. loss: 0.136718\n",
      "Total training time: 0.01 seconds.\n",
      "-- Epoch 6\n",
      "Norm: 9.75, NNZs: 30, Bias: -0.212587, T: 2898, Avg. loss: 0.140907\n",
      "Total training time: 0.01 seconds.\n",
      "-- Epoch 7\n",
      "Norm: 9.10, NNZs: 30, Bias: -0.190366, T: 3381, Avg. loss: 0.125992\n",
      "Total training time: 0.01 seconds.\n",
      "-- Epoch 8\n",
      "Norm: 9.21, NNZs: 30, Bias: -0.460357, T: 3864, Avg. loss: 0.144610\n",
      "Total training time: 0.01 seconds.\n",
      "-- Epoch 9\n",
      "Norm: 8.24, NNZs: 30, Bias: 0.240881, T: 4347, Avg. loss: 0.093814\n",
      "Total training time: 0.01 seconds.\n",
      "-- Epoch 10\n",
      "Norm: 7.29, NNZs: 30, Bias: 0.417879, T: 4830, Avg. loss: 0.060546\n",
      "Total training time: 0.01 seconds.\n",
      "-- Epoch 11\n",
      "Norm: 7.07, NNZs: 30, Bias: 0.026191, T: 5313, Avg. loss: 0.105634\n",
      "Total training time: 0.01 seconds.\n",
      "-- Epoch 12\n",
      "Norm: 6.23, NNZs: 30, Bias: 0.030334, T: 5796, Avg. loss: 0.059653\n",
      "Total training time: 0.01 seconds.\n",
      "-- Epoch 13\n",
      "Norm: 5.98, NNZs: 30, Bias: -0.112287, T: 6279, Avg. loss: 0.047828\n",
      "Total training time: 0.02 seconds.\n",
      "-- Epoch 14\n",
      "Norm: 5.51, NNZs: 30, Bias: -0.114141, T: 6762, Avg. loss: 0.040188\n",
      "Total training time: 0.02 seconds.\n",
      "-- Epoch 15\n",
      "Norm: 6.03, NNZs: 30, Bias: 0.158729, T: 7245, Avg. loss: 0.050987\n",
      "Total training time: 0.02 seconds.\n",
      "-- Epoch 16\n",
      "Norm: 5.52, NNZs: 30, Bias: -0.355509, T: 7728, Avg. loss: 0.040569\n",
      "Total training time: 0.02 seconds.\n",
      "-- Epoch 17\n",
      "Norm: 5.16, NNZs: 30, Bias: 0.373123, T: 8211, Avg. loss: 0.021874\n",
      "Total training time: 0.02 seconds.\n",
      "-- Epoch 18\n",
      "Norm: 4.79, NNZs: 30, Bias: 0.023068, T: 8694, Avg. loss: 0.026028\n",
      "Total training time: 0.02 seconds.\n",
      "-- Epoch 19\n",
      "Norm: 4.53, NNZs: 30, Bias: -0.094865, T: 9177, Avg. loss: 0.036666\n",
      "Total training time: 0.02 seconds.\n",
      "-- Epoch 20\n",
      "Norm: 4.52, NNZs: 30, Bias: 0.213339, T: 9660, Avg. loss: 0.022388\n",
      "Total training time: 0.02 seconds.\n",
      "-- Epoch 21\n",
      "Norm: 4.33, NNZs: 30, Bias: -0.087173, T: 10143, Avg. loss: 0.036820\n",
      "Total training time: 0.02 seconds.\n",
      "-- Epoch 22\n",
      "Norm: 4.24, NNZs: 30, Bias: -0.181852, T: 10626, Avg. loss: 0.029675\n",
      "Total training time: 0.02 seconds.\n",
      "Convergence after 22 epochs took 0.02 seconds\n",
      "Train accuracy:  0.979296066252588\n",
      "Test accuracy:  0.9883720930232558\n"
     ]
    }
   ],
   "source": [
    "from sklearn.linear_model import SGDClassifier\n",
    "\n",
    "m2 = SGDClassifier(loss='perceptron', penalty = 'l2', alpha=0.001, verbose=1)\n",
    "# Параметр  verbose=1 выводит на экран подробный отчет о тренировки модели в каждом \n",
    "# повторении градиентного спуска. verbose = 0 отключает эту отчетность\n",
    "m2.fit(X_train, y_train)\n",
    "\n",
    "y_train_pred = m1.predict(X_train)\n",
    "train_accuracy = accuracy_score(y_train, y_train_pred)\n",
    "print(\"Train accuracy: \", train_accuracy)\n",
    "\n",
    "y_test_pred = m1.predict(X_test)\n",
    "test_accuracy = accuracy_score(y_test, y_test_pred)\n",
    "print(\"Test accuracy: \", test_accuracy)"
   ]
  },
  {
   "cell_type": "markdown",
   "metadata": {},
   "source": [
    "## Получение вектора весов (w) при помощи аттрибута  coef_"
   ]
  },
  {
   "cell_type": "code",
   "execution_count": 6,
   "metadata": {},
   "outputs": [
    {
     "data": {
      "text/plain": [
       "array([[-0.00594503,  0.34532073,  0.02639699, -0.04715241, -0.72408983,\n",
       "         1.03384358, -0.57199251, -0.42202791,  0.01259633,  0.0411912 ,\n",
       "        -1.43525995,  0.31253266, -0.46156083, -1.35137091, -0.79903016,\n",
       "        -0.24482523,  1.10722976, -0.20285506,  0.18297548,  1.43590205,\n",
       "        -0.92534007, -1.48586164, -0.5738196 , -0.90374601,  0.28730908,\n",
       "         0.01910445, -0.92763098, -0.79331325, -0.9268873 , -0.91677181]])"
      ]
     },
     "execution_count": 6,
     "metadata": {},
     "output_type": "execute_result"
    }
   ],
   "source": [
    "w = m2.coef_\n",
    "w"
   ]
  }
 ],
 "metadata": {
  "kernelspec": {
   "display_name": "Python 3",
   "language": "python",
   "name": "python3"
  },
  "language_info": {
   "codemirror_mode": {
    "name": "ipython",
    "version": 3
   },
   "file_extension": ".py",
   "mimetype": "text/x-python",
   "name": "python",
   "nbconvert_exporter": "python",
   "pygments_lexer": "ipython3",
   "version": "3.7.4"
  }
 },
 "nbformat": 4,
 "nbformat_minor": 2
}
