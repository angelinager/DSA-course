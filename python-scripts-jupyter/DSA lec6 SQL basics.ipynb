{
 "cells": [
  {
   "cell_type": "code",
   "execution_count": null,
   "metadata": {},
   "outputs": [],
   "source": [
    "#pip install ipython-sql"
   ]
  },
  {
   "cell_type": "code",
   "execution_count": 1,
   "metadata": {},
   "outputs": [],
   "source": [
    "# Подгружаем экстеншн sql, чтобы напрямую пользоваться командами SQL\n",
    "%load_ext sql"
   ]
  },
  {
   "cell_type": "code",
   "execution_count": 2,
   "metadata": {},
   "outputs": [],
   "source": [
    "# Подгружаем базу данных в формате .db (необходимо скачать отдельно), \n",
    "# сохраненную в той же директоории, что и этот файл\n",
    "%sql sqlite:///chinook.db"
   ]
  },
  {
   "cell_type": "code",
   "execution_count": 3,
   "metadata": {},
   "outputs": [
    {
     "name": "stdout",
     "output_type": "stream",
     "text": [
      " * sqlite:///chinook.db\n",
      "Done.\n"
     ]
    },
    {
     "data": {
      "text/html": [
       "<table>\n",
       "    <tr>\n",
       "        <th>name</th>\n",
       "    </tr>\n",
       "    <tr>\n",
       "        <td>albums</td>\n",
       "    </tr>\n",
       "    <tr>\n",
       "        <td>sqlite_sequence</td>\n",
       "    </tr>\n",
       "    <tr>\n",
       "        <td>artists</td>\n",
       "    </tr>\n",
       "    <tr>\n",
       "        <td>customers</td>\n",
       "    </tr>\n",
       "    <tr>\n",
       "        <td>employees</td>\n",
       "    </tr>\n",
       "    <tr>\n",
       "        <td>genres</td>\n",
       "    </tr>\n",
       "    <tr>\n",
       "        <td>invoices</td>\n",
       "    </tr>\n",
       "    <tr>\n",
       "        <td>invoice_items</td>\n",
       "    </tr>\n",
       "    <tr>\n",
       "        <td>media_types</td>\n",
       "    </tr>\n",
       "    <tr>\n",
       "        <td>playlists</td>\n",
       "    </tr>\n",
       "    <tr>\n",
       "        <td>playlist_track</td>\n",
       "    </tr>\n",
       "    <tr>\n",
       "        <td>tracks</td>\n",
       "    </tr>\n",
       "    <tr>\n",
       "        <td>sqlite_stat1</td>\n",
       "    </tr>\n",
       "</table>"
      ],
      "text/plain": [
       "[('albums',),\n",
       " ('sqlite_sequence',),\n",
       " ('artists',),\n",
       " ('customers',),\n",
       " ('employees',),\n",
       " ('genres',),\n",
       " ('invoices',),\n",
       " ('invoice_items',),\n",
       " ('media_types',),\n",
       " ('playlists',),\n",
       " ('playlist_track',),\n",
       " ('tracks',),\n",
       " ('sqlite_stat1',)]"
      ]
     },
     "execution_count": 3,
     "metadata": {},
     "output_type": "execute_result"
    }
   ],
   "source": [
    "# Смотрим, какие таблицы имеются в этой базе данных\n",
    "%sql select name FROM sqlite_master WHERE type='table'"
   ]
  },
  {
   "cell_type": "markdown",
   "metadata": {},
   "source": [
    "# Выбор столбцов из таблиц"
   ]
  },
  {
   "cell_type": "code",
   "execution_count": null,
   "metadata": {},
   "outputs": [],
   "source": [
    "# Выбираем все столбцы из таблицы Artists. Ограничиваем просмотр 4 первыми записями"
   ]
  },
  {
   "cell_type": "code",
   "execution_count": 4,
   "metadata": {},
   "outputs": [
    {
     "name": "stdout",
     "output_type": "stream",
     "text": [
      " * sqlite:///chinook.db\n",
      "Done.\n"
     ]
    },
    {
     "data": {
      "text/html": [
       "<table>\n",
       "    <tr>\n",
       "        <th>ArtistId</th>\n",
       "        <th>Name</th>\n",
       "    </tr>\n",
       "    <tr>\n",
       "        <td>1</td>\n",
       "        <td>AC/DC</td>\n",
       "    </tr>\n",
       "    <tr>\n",
       "        <td>2</td>\n",
       "        <td>Accept</td>\n",
       "    </tr>\n",
       "    <tr>\n",
       "        <td>3</td>\n",
       "        <td>Aerosmith</td>\n",
       "    </tr>\n",
       "    <tr>\n",
       "        <td>4</td>\n",
       "        <td>Alanis Morissette</td>\n",
       "    </tr>\n",
       "</table>"
      ],
      "text/plain": [
       "[(1, 'AC/DC'), (2, 'Accept'), (3, 'Aerosmith'), (4, 'Alanis Morissette')]"
      ]
     },
     "execution_count": 4,
     "metadata": {},
     "output_type": "execute_result"
    }
   ],
   "source": [
    "%%sql\n",
    "select *\n",
    "from artists\n",
    "limit 4"
   ]
  },
  {
   "cell_type": "code",
   "execution_count": null,
   "metadata": {},
   "outputs": [],
   "source": [
    "# Выбираем все столбцы из таблицы Albums. Ограничиваем просмотр 4 первыми записями"
   ]
  },
  {
   "cell_type": "code",
   "execution_count": 5,
   "metadata": {},
   "outputs": [
    {
     "name": "stdout",
     "output_type": "stream",
     "text": [
      " * sqlite:///chinook.db\n",
      "Done.\n"
     ]
    },
    {
     "data": {
      "text/html": [
       "<table>\n",
       "    <tr>\n",
       "        <th>AlbumId</th>\n",
       "        <th>Title</th>\n",
       "        <th>ArtistId</th>\n",
       "    </tr>\n",
       "    <tr>\n",
       "        <td>1</td>\n",
       "        <td>For Those About To Rock We Salute You</td>\n",
       "        <td>1</td>\n",
       "    </tr>\n",
       "    <tr>\n",
       "        <td>2</td>\n",
       "        <td>Balls to the Wall</td>\n",
       "        <td>2</td>\n",
       "    </tr>\n",
       "    <tr>\n",
       "        <td>3</td>\n",
       "        <td>Restless and Wild</td>\n",
       "        <td>2</td>\n",
       "    </tr>\n",
       "    <tr>\n",
       "        <td>4</td>\n",
       "        <td>Let There Be Rock</td>\n",
       "        <td>1</td>\n",
       "    </tr>\n",
       "</table>"
      ],
      "text/plain": [
       "[(1, 'For Those About To Rock We Salute You', 1),\n",
       " (2, 'Balls to the Wall', 2),\n",
       " (3, 'Restless and Wild', 2),\n",
       " (4, 'Let There Be Rock', 1)]"
      ]
     },
     "execution_count": 5,
     "metadata": {},
     "output_type": "execute_result"
    }
   ],
   "source": [
    "%%sql\n",
    "select *\n",
    "from albums\n",
    "limit 4"
   ]
  },
  {
   "cell_type": "code",
   "execution_count": null,
   "metadata": {},
   "outputs": [],
   "source": [
    "# Выбираем все столбцы из таблицы Tracks. Ограничиваем просмотр 5 первыми записями"
   ]
  },
  {
   "cell_type": "code",
   "execution_count": 6,
   "metadata": {},
   "outputs": [
    {
     "name": "stdout",
     "output_type": "stream",
     "text": [
      " * sqlite:///chinook.db\n",
      "Done.\n"
     ]
    },
    {
     "data": {
      "text/html": [
       "<table>\n",
       "    <tr>\n",
       "        <th>TrackId</th>\n",
       "        <th>Name</th>\n",
       "        <th>AlbumId</th>\n",
       "        <th>MediaTypeId</th>\n",
       "        <th>GenreId</th>\n",
       "        <th>Composer</th>\n",
       "        <th>Milliseconds</th>\n",
       "        <th>Bytes</th>\n",
       "        <th>UnitPrice</th>\n",
       "    </tr>\n",
       "    <tr>\n",
       "        <td>1</td>\n",
       "        <td>For Those About To Rock (We Salute You)</td>\n",
       "        <td>1</td>\n",
       "        <td>1</td>\n",
       "        <td>1</td>\n",
       "        <td>Angus Young, Malcolm Young, Brian Johnson</td>\n",
       "        <td>343719</td>\n",
       "        <td>11170334</td>\n",
       "        <td>0.99</td>\n",
       "    </tr>\n",
       "    <tr>\n",
       "        <td>2</td>\n",
       "        <td>Balls to the Wall</td>\n",
       "        <td>2</td>\n",
       "        <td>2</td>\n",
       "        <td>1</td>\n",
       "        <td>None</td>\n",
       "        <td>342562</td>\n",
       "        <td>5510424</td>\n",
       "        <td>0.99</td>\n",
       "    </tr>\n",
       "    <tr>\n",
       "        <td>3</td>\n",
       "        <td>Fast As a Shark</td>\n",
       "        <td>3</td>\n",
       "        <td>2</td>\n",
       "        <td>1</td>\n",
       "        <td>F. Baltes, S. Kaufman, U. Dirkscneider &amp; W. Hoffman</td>\n",
       "        <td>230619</td>\n",
       "        <td>3990994</td>\n",
       "        <td>0.99</td>\n",
       "    </tr>\n",
       "    <tr>\n",
       "        <td>4</td>\n",
       "        <td>Restless and Wild</td>\n",
       "        <td>3</td>\n",
       "        <td>2</td>\n",
       "        <td>1</td>\n",
       "        <td>F. Baltes, R.A. Smith-Diesel, S. Kaufman, U. Dirkscneider &amp; W. Hoffman</td>\n",
       "        <td>252051</td>\n",
       "        <td>4331779</td>\n",
       "        <td>0.99</td>\n",
       "    </tr>\n",
       "    <tr>\n",
       "        <td>5</td>\n",
       "        <td>Princess of the Dawn</td>\n",
       "        <td>3</td>\n",
       "        <td>2</td>\n",
       "        <td>1</td>\n",
       "        <td>Deaffy &amp; R.A. Smith-Diesel</td>\n",
       "        <td>375418</td>\n",
       "        <td>6290521</td>\n",
       "        <td>0.99</td>\n",
       "    </tr>\n",
       "</table>"
      ],
      "text/plain": [
       "[(1, 'For Those About To Rock (We Salute You)', 1, 1, 1, 'Angus Young, Malcolm Young, Brian Johnson', 343719, 11170334, 0.99),\n",
       " (2, 'Balls to the Wall', 2, 2, 1, None, 342562, 5510424, 0.99),\n",
       " (3, 'Fast As a Shark', 3, 2, 1, 'F. Baltes, S. Kaufman, U. Dirkscneider & W. Hoffman', 230619, 3990994, 0.99),\n",
       " (4, 'Restless and Wild', 3, 2, 1, 'F. Baltes, R.A. Smith-Diesel, S. Kaufman, U. Dirkscneider & W. Hoffman', 252051, 4331779, 0.99),\n",
       " (5, 'Princess of the Dawn', 3, 2, 1, 'Deaffy & R.A. Smith-Diesel', 375418, 6290521, 0.99)]"
      ]
     },
     "execution_count": 6,
     "metadata": {},
     "output_type": "execute_result"
    }
   ],
   "source": [
    "%%sql\n",
    "select *\n",
    "from tracks\n",
    "limit 5"
   ]
  },
  {
   "cell_type": "code",
   "execution_count": null,
   "metadata": {},
   "outputs": [],
   "source": [
    "# Выбираем столбцы Name и Composer из таблицы Artists. Ограничиваем просмотр 3 первыми записями"
   ]
  },
  {
   "cell_type": "markdown",
   "metadata": {},
   "source": [
    "Аналог в Pandas:\n",
    "tracks['Name', 'Composer']"
   ]
  },
  {
   "cell_type": "code",
   "execution_count": 7,
   "metadata": {},
   "outputs": [
    {
     "name": "stdout",
     "output_type": "stream",
     "text": [
      " * sqlite:///chinook.db\n",
      "Done.\n"
     ]
    },
    {
     "data": {
      "text/html": [
       "<table>\n",
       "    <tr>\n",
       "        <th>Name</th>\n",
       "        <th>Composer</th>\n",
       "    </tr>\n",
       "    <tr>\n",
       "        <td>For Those About To Rock (We Salute You)</td>\n",
       "        <td>Angus Young, Malcolm Young, Brian Johnson</td>\n",
       "    </tr>\n",
       "    <tr>\n",
       "        <td>Balls to the Wall</td>\n",
       "        <td>None</td>\n",
       "    </tr>\n",
       "    <tr>\n",
       "        <td>Fast As a Shark</td>\n",
       "        <td>F. Baltes, S. Kaufman, U. Dirkscneider &amp; W. Hoffman</td>\n",
       "    </tr>\n",
       "</table>"
      ],
      "text/plain": [
       "[('For Those About To Rock (We Salute You)', 'Angus Young, Malcolm Young, Brian Johnson'),\n",
       " ('Balls to the Wall', None),\n",
       " ('Fast As a Shark', 'F. Baltes, S. Kaufman, U. Dirkscneider & W. Hoffman')]"
      ]
     },
     "execution_count": 7,
     "metadata": {},
     "output_type": "execute_result"
    }
   ],
   "source": [
    "%%sql\n",
    "select Name, Composer\n",
    "from tracks\n",
    "limit 3\n"
   ]
  },
  {
   "cell_type": "code",
   "execution_count": null,
   "metadata": {},
   "outputs": [],
   "source": [
    "# Выбираем столбцы Name и Composer из таблицы Artists, где AlbumId равен 10. "
   ]
  },
  {
   "cell_type": "markdown",
   "metadata": {},
   "source": [
    "Аналог в Pandas:\n",
    "tracks['Name', 'Composer'][tracks.AlbumId == 10]"
   ]
  },
  {
   "cell_type": "code",
   "execution_count": 8,
   "metadata": {},
   "outputs": [
    {
     "name": "stdout",
     "output_type": "stream",
     "text": [
      " * sqlite:///chinook.db\n",
      "Done.\n"
     ]
    },
    {
     "data": {
      "text/html": [
       "<table>\n",
       "    <tr>\n",
       "        <th>Name</th>\n",
       "        <th>Composer</th>\n",
       "    </tr>\n",
       "    <tr>\n",
       "        <td>Cochise</td>\n",
       "        <td>Audioslave/Chris Cornell</td>\n",
       "    </tr>\n",
       "    <tr>\n",
       "        <td>Show Me How to Live</td>\n",
       "        <td>Audioslave/Chris Cornell</td>\n",
       "    </tr>\n",
       "    <tr>\n",
       "        <td>Gasoline</td>\n",
       "        <td>Audioslave/Chris Cornell</td>\n",
       "    </tr>\n",
       "    <tr>\n",
       "        <td>What You Are</td>\n",
       "        <td>Audioslave/Chris Cornell</td>\n",
       "    </tr>\n",
       "    <tr>\n",
       "        <td>Like a Stone</td>\n",
       "        <td>Audioslave/Chris Cornell</td>\n",
       "    </tr>\n",
       "    <tr>\n",
       "        <td>Set It Off</td>\n",
       "        <td>Audioslave/Chris Cornell</td>\n",
       "    </tr>\n",
       "    <tr>\n",
       "        <td>Shadow on the Sun</td>\n",
       "        <td>Audioslave/Chris Cornell</td>\n",
       "    </tr>\n",
       "    <tr>\n",
       "        <td>I am the Highway</td>\n",
       "        <td>Audioslave/Chris Cornell</td>\n",
       "    </tr>\n",
       "    <tr>\n",
       "        <td>Exploder</td>\n",
       "        <td>Audioslave/Chris Cornell</td>\n",
       "    </tr>\n",
       "    <tr>\n",
       "        <td>Hypnotize</td>\n",
       "        <td>Audioslave/Chris Cornell</td>\n",
       "    </tr>\n",
       "    <tr>\n",
       "        <td>Bring&#x27;em Back Alive</td>\n",
       "        <td>Audioslave/Chris Cornell</td>\n",
       "    </tr>\n",
       "    <tr>\n",
       "        <td>Light My Way</td>\n",
       "        <td>Audioslave/Chris Cornell</td>\n",
       "    </tr>\n",
       "    <tr>\n",
       "        <td>Getaway Car</td>\n",
       "        <td>Audioslave/Chris Cornell</td>\n",
       "    </tr>\n",
       "    <tr>\n",
       "        <td>The Last Remaining Light</td>\n",
       "        <td>Audioslave/Chris Cornell</td>\n",
       "    </tr>\n",
       "</table>"
      ],
      "text/plain": [
       "[('Cochise', 'Audioslave/Chris Cornell'),\n",
       " ('Show Me How to Live', 'Audioslave/Chris Cornell'),\n",
       " ('Gasoline', 'Audioslave/Chris Cornell'),\n",
       " ('What You Are', 'Audioslave/Chris Cornell'),\n",
       " ('Like a Stone', 'Audioslave/Chris Cornell'),\n",
       " ('Set It Off', 'Audioslave/Chris Cornell'),\n",
       " ('Shadow on the Sun', 'Audioslave/Chris Cornell'),\n",
       " ('I am the Highway', 'Audioslave/Chris Cornell'),\n",
       " ('Exploder', 'Audioslave/Chris Cornell'),\n",
       " ('Hypnotize', 'Audioslave/Chris Cornell'),\n",
       " (\"Bring'em Back Alive\", 'Audioslave/Chris Cornell'),\n",
       " ('Light My Way', 'Audioslave/Chris Cornell'),\n",
       " ('Getaway Car', 'Audioslave/Chris Cornell'),\n",
       " ('The Last Remaining Light', 'Audioslave/Chris Cornell')]"
      ]
     },
     "execution_count": 8,
     "metadata": {},
     "output_type": "execute_result"
    }
   ],
   "source": [
    "%%sql\n",
    "select Name, Composer\n",
    "from tracks\n",
    "where AlbumId = 10"
   ]
  },
  {
   "cell_type": "markdown",
   "metadata": {},
   "source": [
    "# Выбор столбцов из разных таблиц (merge) по столбцу-ключу"
   ]
  },
  {
   "cell_type": "code",
   "execution_count": null,
   "metadata": {},
   "outputs": [],
   "source": [
    "# Выбираем столбцы Name из таблицы Artists (сокращаем ее название как a),\n",
    "# и Title из таблицы Tracks (сокращаем как t),\n",
    "# где AlbumId из таблицы песен равен AlbumId из таблицы альбомов (ищем совпадения, применяя Inner Join)\n",
    "# и где Title альбома равен 'Audioslave'"
   ]
  },
  {
   "cell_type": "code",
   "execution_count": 9,
   "metadata": {},
   "outputs": [
    {
     "name": "stdout",
     "output_type": "stream",
     "text": [
      " * sqlite:///chinook.db\n",
      "Done.\n"
     ]
    },
    {
     "data": {
      "text/html": [
       "<table>\n",
       "    <tr>\n",
       "        <th>Name</th>\n",
       "        <th>Title</th>\n",
       "    </tr>\n",
       "    <tr>\n",
       "        <td>Cochise</td>\n",
       "        <td>Audioslave</td>\n",
       "    </tr>\n",
       "    <tr>\n",
       "        <td>Show Me How to Live</td>\n",
       "        <td>Audioslave</td>\n",
       "    </tr>\n",
       "    <tr>\n",
       "        <td>Gasoline</td>\n",
       "        <td>Audioslave</td>\n",
       "    </tr>\n",
       "    <tr>\n",
       "        <td>What You Are</td>\n",
       "        <td>Audioslave</td>\n",
       "    </tr>\n",
       "    <tr>\n",
       "        <td>Like a Stone</td>\n",
       "        <td>Audioslave</td>\n",
       "    </tr>\n",
       "    <tr>\n",
       "        <td>Set It Off</td>\n",
       "        <td>Audioslave</td>\n",
       "    </tr>\n",
       "    <tr>\n",
       "        <td>Shadow on the Sun</td>\n",
       "        <td>Audioslave</td>\n",
       "    </tr>\n",
       "    <tr>\n",
       "        <td>I am the Highway</td>\n",
       "        <td>Audioslave</td>\n",
       "    </tr>\n",
       "    <tr>\n",
       "        <td>Exploder</td>\n",
       "        <td>Audioslave</td>\n",
       "    </tr>\n",
       "    <tr>\n",
       "        <td>Hypnotize</td>\n",
       "        <td>Audioslave</td>\n",
       "    </tr>\n",
       "    <tr>\n",
       "        <td>Bring&#x27;em Back Alive</td>\n",
       "        <td>Audioslave</td>\n",
       "    </tr>\n",
       "    <tr>\n",
       "        <td>Light My Way</td>\n",
       "        <td>Audioslave</td>\n",
       "    </tr>\n",
       "    <tr>\n",
       "        <td>Getaway Car</td>\n",
       "        <td>Audioslave</td>\n",
       "    </tr>\n",
       "    <tr>\n",
       "        <td>The Last Remaining Light</td>\n",
       "        <td>Audioslave</td>\n",
       "    </tr>\n",
       "</table>"
      ],
      "text/plain": [
       "[('Cochise', 'Audioslave'),\n",
       " ('Show Me How to Live', 'Audioslave'),\n",
       " ('Gasoline', 'Audioslave'),\n",
       " ('What You Are', 'Audioslave'),\n",
       " ('Like a Stone', 'Audioslave'),\n",
       " ('Set It Off', 'Audioslave'),\n",
       " ('Shadow on the Sun', 'Audioslave'),\n",
       " ('I am the Highway', 'Audioslave'),\n",
       " ('Exploder', 'Audioslave'),\n",
       " ('Hypnotize', 'Audioslave'),\n",
       " (\"Bring'em Back Alive\", 'Audioslave'),\n",
       " ('Light My Way', 'Audioslave'),\n",
       " ('Getaway Car', 'Audioslave'),\n",
       " ('The Last Remaining Light', 'Audioslave')]"
      ]
     },
     "execution_count": 9,
     "metadata": {},
     "output_type": "execute_result"
    }
   ],
   "source": [
    "%%sql \n",
    "select Name, Title\n",
    "from tracks as t, albums as a\n",
    "where t.AlbumId = a.AlbumId and Title = 'Audioslave'"
   ]
  },
  {
   "cell_type": "markdown",
   "metadata": {},
   "source": [
    "# Выбор столбцов по нескольким условиям"
   ]
  },
  {
   "cell_type": "code",
   "execution_count": null,
   "metadata": {},
   "outputs": [],
   "source": [
    "# Выбираем название трека и его стоимость из таблицы Tracks, где длительность трека больше 200000 милисекунд\n",
    "# и цена больше 0.99 долларов"
   ]
  },
  {
   "cell_type": "code",
   "execution_count": 10,
   "metadata": {
    "scrolled": false
   },
   "outputs": [
    {
     "name": "stdout",
     "output_type": "stream",
     "text": [
      " * sqlite:///chinook.db\n",
      "Done.\n"
     ]
    },
    {
     "data": {
      "text/html": [
       "<table>\n",
       "    <tr>\n",
       "        <th>Name</th>\n",
       "        <th>UnitPrice</th>\n",
       "    </tr>\n",
       "    <tr>\n",
       "        <td>Battlestar Galactica: The Story So Far</td>\n",
       "        <td>1.99</td>\n",
       "    </tr>\n",
       "    <tr>\n",
       "        <td>Occupation / Precipice</td>\n",
       "        <td>1.99</td>\n",
       "    </tr>\n",
       "    <tr>\n",
       "        <td>Exodus, Pt. 1</td>\n",
       "        <td>1.99</td>\n",
       "    </tr>\n",
       "</table>"
      ],
      "text/plain": [
       "[('Battlestar Galactica: The Story So Far', 1.99),\n",
       " ('Occupation / Precipice', 1.99),\n",
       " ('Exodus, Pt. 1', 1.99)]"
      ]
     },
     "execution_count": 10,
     "metadata": {},
     "output_type": "execute_result"
    }
   ],
   "source": [
    "%%sql\n",
    "select Name, UnitPrice\n",
    "from tracks\n",
    "where Milliseconds > 200000 and UnitPrice > 0.99\n",
    "limit 3"
   ]
  },
  {
   "cell_type": "markdown",
   "metadata": {},
   "source": [
    "# Применение математических функций к столбцам"
   ]
  },
  {
   "cell_type": "markdown",
   "metadata": {},
   "source": [
    "При использовании команды SELECT вы можете вытаскивать не целые столбцы, но также и значения из столбцов с использованием какой-нибудь математической функции"
   ]
  },
  {
   "cell_type": "markdown",
   "metadata": {},
   "source": [
    "Самые распространенные функции:\n",
    "\n",
    "MIN(X) - найти минимальное значение\n",
    "MAX(X) - найти максимальное значение\n",
    "AVG(X) - найти среднее арифметическое (mean)\n",
    "COUNT(X) - сосчитать количество элементов\n",
    "SUM(X) - найти сумму\n",
    "ROUND(X) - округление к ближайшему целому числу. Например, round(5.7)=6, round(2.3)=2\n",
    "\n",
    "### magic function %sql не поддерживает следующие функции, но они поддерживаются при стандартных SQL запросах\n",
    "\n",
    "ABS(X) - абсолютное значение (убирает минус у отрицательных чисел, превращая их в положительные)\n",
    "MOD(X,Y) - деление по модулю с остатком (Эквивалент в Питоне - оператор %)\n",
    "SIGN(X) - возвращает 1 если Х положительный, -1 если отрицательный и 0 если Х=0\n",
    "FLOOR(X) - округление к ближайшему целому числу меньше Х. Например, floor(5.7)=5\n",
    "CEIL(X) - округление к ближайшему целому числу больше Х. Например, floor(5.7)=6\n",
    "POWER(X,Y) - возведение Х в степень У\n",
    "SQRT(X) - извлечение квадратного корня\n",
    "SIN(X), COS(X), TAN(X), ASIN(X), ACOS(X), ATAN(X) - математические функции\n"
   ]
  },
  {
   "cell_type": "code",
   "execution_count": null,
   "metadata": {},
   "outputs": [],
   "source": [
    "# Находим минимальную длительность трека в милисекундах"
   ]
  },
  {
   "cell_type": "code",
   "execution_count": 11,
   "metadata": {},
   "outputs": [
    {
     "name": "stdout",
     "output_type": "stream",
     "text": [
      " * sqlite:///chinook.db\n",
      "Done.\n"
     ]
    },
    {
     "data": {
      "text/html": [
       "<table>\n",
       "    <tr>\n",
       "        <th>MIN(Milliseconds)</th>\n",
       "    </tr>\n",
       "    <tr>\n",
       "        <td>1071</td>\n",
       "    </tr>\n",
       "</table>"
      ],
      "text/plain": [
       "[(1071,)]"
      ]
     },
     "execution_count": 11,
     "metadata": {},
     "output_type": "execute_result"
    }
   ],
   "source": [
    "%%sql\n",
    "select MIN(Milliseconds)\n",
    "from tracks"
   ]
  },
  {
   "cell_type": "code",
   "execution_count": null,
   "metadata": {},
   "outputs": [],
   "source": [
    "# Находим максимальное количество байт"
   ]
  },
  {
   "cell_type": "code",
   "execution_count": 12,
   "metadata": {},
   "outputs": [
    {
     "name": "stdout",
     "output_type": "stream",
     "text": [
      " * sqlite:///chinook.db\n",
      "Done.\n"
     ]
    },
    {
     "data": {
      "text/html": [
       "<table>\n",
       "    <tr>\n",
       "        <th>MAX(Bytes)</th>\n",
       "    </tr>\n",
       "    <tr>\n",
       "        <td>1059546140</td>\n",
       "    </tr>\n",
       "</table>"
      ],
      "text/plain": [
       "[(1059546140,)]"
      ]
     },
     "execution_count": 12,
     "metadata": {},
     "output_type": "execute_result"
    }
   ],
   "source": [
    "%%sql\n",
    "select MAX(Bytes)\n",
    "from tracks"
   ]
  },
  {
   "cell_type": "code",
   "execution_count": null,
   "metadata": {},
   "outputs": [],
   "source": [
    "# Находим количество песен, цена которых равна 0.99 долларов"
   ]
  },
  {
   "cell_type": "code",
   "execution_count": 13,
   "metadata": {},
   "outputs": [
    {
     "name": "stdout",
     "output_type": "stream",
     "text": [
      " * sqlite:///chinook.db\n",
      "Done.\n"
     ]
    },
    {
     "data": {
      "text/html": [
       "<table>\n",
       "    <tr>\n",
       "        <th>COUNT(Name)</th>\n",
       "    </tr>\n",
       "    <tr>\n",
       "        <td>3290</td>\n",
       "    </tr>\n",
       "</table>"
      ],
      "text/plain": [
       "[(3290,)]"
      ]
     },
     "execution_count": 13,
     "metadata": {},
     "output_type": "execute_result"
    }
   ],
   "source": [
    "%%sql\n",
    "select COUNT(Name)\n",
    "from tracks\n",
    "where UnitPrice=0.99"
   ]
  },
  {
   "cell_type": "code",
   "execution_count": null,
   "metadata": {},
   "outputs": [],
   "source": [
    "# Находим среднюю продолжительность треков в милисекундах"
   ]
  },
  {
   "cell_type": "code",
   "execution_count": 14,
   "metadata": {},
   "outputs": [
    {
     "name": "stdout",
     "output_type": "stream",
     "text": [
      " * sqlite:///chinook.db\n",
      "Done.\n"
     ]
    },
    {
     "data": {
      "text/html": [
       "<table>\n",
       "    <tr>\n",
       "        <th>AVG(Milliseconds)</th>\n",
       "    </tr>\n",
       "    <tr>\n",
       "        <td>393599.2121039109</td>\n",
       "    </tr>\n",
       "</table>"
      ],
      "text/plain": [
       "[(393599.2121039109,)]"
      ]
     },
     "execution_count": 14,
     "metadata": {},
     "output_type": "execute_result"
    }
   ],
   "source": [
    "%%sql\n",
    "select AVG(Milliseconds)\n",
    "from tracks"
   ]
  },
  {
   "cell_type": "markdown",
   "metadata": {},
   "source": [
    "# Группировка по признаку"
   ]
  },
  {
   "cell_type": "code",
   "execution_count": null,
   "metadata": {},
   "outputs": [],
   "source": [
    "# Сосчитаем количество песен в каждом альбоме"
   ]
  },
  {
   "cell_type": "markdown",
   "metadata": {},
   "source": [
    "Аналог в Pandas\n",
    "tracks.groupby(['AlbumId'])['Name'].sum()"
   ]
  },
  {
   "cell_type": "code",
   "execution_count": 15,
   "metadata": {
    "scrolled": false
   },
   "outputs": [
    {
     "name": "stdout",
     "output_type": "stream",
     "text": [
      " * sqlite:///chinook.db\n",
      "Done.\n"
     ]
    },
    {
     "data": {
      "text/html": [
       "<table>\n",
       "    <tr>\n",
       "        <th>AlbumId</th>\n",
       "        <th>count(Name)</th>\n",
       "    </tr>\n",
       "    <tr>\n",
       "        <td>1</td>\n",
       "        <td>10</td>\n",
       "    </tr>\n",
       "    <tr>\n",
       "        <td>2</td>\n",
       "        <td>1</td>\n",
       "    </tr>\n",
       "    <tr>\n",
       "        <td>3</td>\n",
       "        <td>3</td>\n",
       "    </tr>\n",
       "    <tr>\n",
       "        <td>4</td>\n",
       "        <td>8</td>\n",
       "    </tr>\n",
       "    <tr>\n",
       "        <td>5</td>\n",
       "        <td>15</td>\n",
       "    </tr>\n",
       "    <tr>\n",
       "        <td>6</td>\n",
       "        <td>13</td>\n",
       "    </tr>\n",
       "    <tr>\n",
       "        <td>7</td>\n",
       "        <td>12</td>\n",
       "    </tr>\n",
       "    <tr>\n",
       "        <td>8</td>\n",
       "        <td>14</td>\n",
       "    </tr>\n",
       "    <tr>\n",
       "        <td>9</td>\n",
       "        <td>8</td>\n",
       "    </tr>\n",
       "    <tr>\n",
       "        <td>10</td>\n",
       "        <td>14</td>\n",
       "    </tr>\n",
       "</table>"
      ],
      "text/plain": [
       "[(1, 10),\n",
       " (2, 1),\n",
       " (3, 3),\n",
       " (4, 8),\n",
       " (5, 15),\n",
       " (6, 13),\n",
       " (7, 12),\n",
       " (8, 14),\n",
       " (9, 8),\n",
       " (10, 14)]"
      ]
     },
     "execution_count": 15,
     "metadata": {},
     "output_type": "execute_result"
    }
   ],
   "source": [
    "%%sql \n",
    "select AlbumId, count(Name)\n",
    "from tracks\n",
    "group by AlbumId\n",
    "limit 10"
   ]
  },
  {
   "cell_type": "code",
   "execution_count": null,
   "metadata": {},
   "outputs": [],
   "source": [
    "# Совместим две таблицы вместе - Albums и Tracks\n",
    "# и выведем количество песен в каждом альбоме вместе с названием альбома"
   ]
  },
  {
   "cell_type": "code",
   "execution_count": 16,
   "metadata": {
    "scrolled": false
   },
   "outputs": [
    {
     "name": "stdout",
     "output_type": "stream",
     "text": [
      " * sqlite:///chinook.db\n",
      "Done.\n"
     ]
    },
    {
     "data": {
      "text/html": [
       "<table>\n",
       "    <tr>\n",
       "        <th>Title</th>\n",
       "        <th>count(Name)</th>\n",
       "    </tr>\n",
       "    <tr>\n",
       "        <td>...And Justice For All</td>\n",
       "        <td>9</td>\n",
       "    </tr>\n",
       "    <tr>\n",
       "        <td>20th Century Masters - The Millennium Collection: The Best of Scorpions</td>\n",
       "        <td>12</td>\n",
       "    </tr>\n",
       "    <tr>\n",
       "        <td>A Copland Celebration, Vol. I</td>\n",
       "        <td>1</td>\n",
       "    </tr>\n",
       "    <tr>\n",
       "        <td>A Matter of Life and Death</td>\n",
       "        <td>11</td>\n",
       "    </tr>\n",
       "    <tr>\n",
       "        <td>A Real Dead One</td>\n",
       "        <td>12</td>\n",
       "    </tr>\n",
       "    <tr>\n",
       "        <td>A Real Live One</td>\n",
       "        <td>11</td>\n",
       "    </tr>\n",
       "    <tr>\n",
       "        <td>A Soprano Inspired</td>\n",
       "        <td>1</td>\n",
       "    </tr>\n",
       "    <tr>\n",
       "        <td>A TempestadeTempestade Ou O Livro Dos Dias</td>\n",
       "        <td>15</td>\n",
       "    </tr>\n",
       "    <tr>\n",
       "        <td>A-Sides</td>\n",
       "        <td>17</td>\n",
       "    </tr>\n",
       "    <tr>\n",
       "        <td>Ace Of Spades</td>\n",
       "        <td>15</td>\n",
       "    </tr>\n",
       "</table>"
      ],
      "text/plain": [
       "[('...And Justice For All', 9),\n",
       " ('20th Century Masters - The Millennium Collection: The Best of Scorpions', 12),\n",
       " ('A Copland Celebration, Vol. I', 1),\n",
       " ('A Matter of Life and Death', 11),\n",
       " ('A Real Dead One', 12),\n",
       " ('A Real Live One', 11),\n",
       " ('A Soprano Inspired', 1),\n",
       " ('A TempestadeTempestade Ou O Livro Dos Dias', 15),\n",
       " ('A-Sides', 17),\n",
       " ('Ace Of Spades', 15)]"
      ]
     },
     "execution_count": 16,
     "metadata": {},
     "output_type": "execute_result"
    }
   ],
   "source": [
    "%%sql \n",
    "select Title, count(Name)\n",
    "from tracks, albums\n",
    "where tracks.AlbumId=albums.AlbumId\n",
    "group by Title\n",
    "limit 10"
   ]
  },
  {
   "cell_type": "code",
   "execution_count": null,
   "metadata": {},
   "outputs": [],
   "source": [
    "# Сосчитать количество песен в каждой ценовой категории"
   ]
  },
  {
   "cell_type": "code",
   "execution_count": 17,
   "metadata": {},
   "outputs": [
    {
     "name": "stdout",
     "output_type": "stream",
     "text": [
      " * sqlite:///chinook.db\n",
      "Done.\n"
     ]
    },
    {
     "data": {
      "text/html": [
       "<table>\n",
       "    <tr>\n",
       "        <th>UnitPrice</th>\n",
       "        <th>count(Name)</th>\n",
       "    </tr>\n",
       "    <tr>\n",
       "        <td>0.99</td>\n",
       "        <td>3290</td>\n",
       "    </tr>\n",
       "    <tr>\n",
       "        <td>1.99</td>\n",
       "        <td>213</td>\n",
       "    </tr>\n",
       "</table>"
      ],
      "text/plain": [
       "[(0.99, 3290), (1.99, 213)]"
      ]
     },
     "execution_count": 17,
     "metadata": {},
     "output_type": "execute_result"
    }
   ],
   "source": [
    "%%sql \n",
    "select UnitPrice, count(Name)\n",
    "from tracks\n",
    "group by UnitPrice"
   ]
  },
  {
   "cell_type": "code",
   "execution_count": null,
   "metadata": {},
   "outputs": [],
   "source": [
    "# Посчитать количество песен, сгруппированных по жанрам - слияние таблицы Tracks c таблицой Genres"
   ]
  },
  {
   "cell_type": "code",
   "execution_count": 18,
   "metadata": {},
   "outputs": [
    {
     "name": "stdout",
     "output_type": "stream",
     "text": [
      " * sqlite:///chinook.db\n",
      "Done.\n"
     ]
    },
    {
     "data": {
      "text/html": [
       "<table>\n",
       "    <tr>\n",
       "        <th>Name</th>\n",
       "        <th>count(tracks.Name)</th>\n",
       "    </tr>\n",
       "    <tr>\n",
       "        <td>Rock</td>\n",
       "        <td>1297</td>\n",
       "    </tr>\n",
       "    <tr>\n",
       "        <td>Jazz</td>\n",
       "        <td>130</td>\n",
       "    </tr>\n",
       "    <tr>\n",
       "        <td>Metal</td>\n",
       "        <td>374</td>\n",
       "    </tr>\n",
       "    <tr>\n",
       "        <td>Alternative &amp; Punk</td>\n",
       "        <td>332</td>\n",
       "    </tr>\n",
       "    <tr>\n",
       "        <td>Rock And Roll</td>\n",
       "        <td>12</td>\n",
       "    </tr>\n",
       "    <tr>\n",
       "        <td>Blues</td>\n",
       "        <td>81</td>\n",
       "    </tr>\n",
       "    <tr>\n",
       "        <td>Latin</td>\n",
       "        <td>579</td>\n",
       "    </tr>\n",
       "    <tr>\n",
       "        <td>Reggae</td>\n",
       "        <td>58</td>\n",
       "    </tr>\n",
       "    <tr>\n",
       "        <td>Pop</td>\n",
       "        <td>48</td>\n",
       "    </tr>\n",
       "    <tr>\n",
       "        <td>Soundtrack</td>\n",
       "        <td>43</td>\n",
       "    </tr>\n",
       "    <tr>\n",
       "        <td>Bossa Nova</td>\n",
       "        <td>15</td>\n",
       "    </tr>\n",
       "    <tr>\n",
       "        <td>Easy Listening</td>\n",
       "        <td>24</td>\n",
       "    </tr>\n",
       "    <tr>\n",
       "        <td>Heavy Metal</td>\n",
       "        <td>28</td>\n",
       "    </tr>\n",
       "    <tr>\n",
       "        <td>R&amp;B/Soul</td>\n",
       "        <td>61</td>\n",
       "    </tr>\n",
       "    <tr>\n",
       "        <td>Electronica/Dance</td>\n",
       "        <td>30</td>\n",
       "    </tr>\n",
       "    <tr>\n",
       "        <td>World</td>\n",
       "        <td>28</td>\n",
       "    </tr>\n",
       "    <tr>\n",
       "        <td>Hip Hop/Rap</td>\n",
       "        <td>35</td>\n",
       "    </tr>\n",
       "    <tr>\n",
       "        <td>Science Fiction</td>\n",
       "        <td>13</td>\n",
       "    </tr>\n",
       "    <tr>\n",
       "        <td>TV Shows</td>\n",
       "        <td>93</td>\n",
       "    </tr>\n",
       "    <tr>\n",
       "        <td>Sci Fi &amp; Fantasy</td>\n",
       "        <td>26</td>\n",
       "    </tr>\n",
       "    <tr>\n",
       "        <td>Drama</td>\n",
       "        <td>64</td>\n",
       "    </tr>\n",
       "    <tr>\n",
       "        <td>Comedy</td>\n",
       "        <td>17</td>\n",
       "    </tr>\n",
       "    <tr>\n",
       "        <td>Alternative</td>\n",
       "        <td>40</td>\n",
       "    </tr>\n",
       "    <tr>\n",
       "        <td>Classical</td>\n",
       "        <td>74</td>\n",
       "    </tr>\n",
       "    <tr>\n",
       "        <td>Opera</td>\n",
       "        <td>1</td>\n",
       "    </tr>\n",
       "</table>"
      ],
      "text/plain": [
       "[('Rock', 1297),\n",
       " ('Jazz', 130),\n",
       " ('Metal', 374),\n",
       " ('Alternative & Punk', 332),\n",
       " ('Rock And Roll', 12),\n",
       " ('Blues', 81),\n",
       " ('Latin', 579),\n",
       " ('Reggae', 58),\n",
       " ('Pop', 48),\n",
       " ('Soundtrack', 43),\n",
       " ('Bossa Nova', 15),\n",
       " ('Easy Listening', 24),\n",
       " ('Heavy Metal', 28),\n",
       " ('R&B/Soul', 61),\n",
       " ('Electronica/Dance', 30),\n",
       " ('World', 28),\n",
       " ('Hip Hop/Rap', 35),\n",
       " ('Science Fiction', 13),\n",
       " ('TV Shows', 93),\n",
       " ('Sci Fi & Fantasy', 26),\n",
       " ('Drama', 64),\n",
       " ('Comedy', 17),\n",
       " ('Alternative', 40),\n",
       " ('Classical', 74),\n",
       " ('Opera', 1)]"
      ]
     },
     "execution_count": 18,
     "metadata": {},
     "output_type": "execute_result"
    }
   ],
   "source": [
    "%%sql \n",
    "select genres.Name, count(tracks.Name)\n",
    "from tracks, genres\n",
    "where tracks.genreId=genres.genreId\n",
    "group by genres.genreId"
   ]
  },
  {
   "cell_type": "markdown",
   "metadata": {},
   "source": [
    "# Сортировка - упорядочение"
   ]
  },
  {
   "cell_type": "code",
   "execution_count": null,
   "metadata": {},
   "outputs": [],
   "source": [
    "# Отсортировать треки по длительности - по возрастанию"
   ]
  },
  {
   "cell_type": "markdown",
   "metadata": {},
   "source": [
    "Аналог в Pandas\n",
    "tracks.sort_values(by='Milliseconds')"
   ]
  },
  {
   "cell_type": "code",
   "execution_count": 19,
   "metadata": {},
   "outputs": [
    {
     "name": "stdout",
     "output_type": "stream",
     "text": [
      " * sqlite:///chinook.db\n",
      "Done.\n"
     ]
    },
    {
     "data": {
      "text/html": [
       "<table>\n",
       "    <tr>\n",
       "        <th>Name</th>\n",
       "        <th>Milliseconds</th>\n",
       "    </tr>\n",
       "    <tr>\n",
       "        <td>É Uma Partida De Futebol</td>\n",
       "        <td>1071</td>\n",
       "    </tr>\n",
       "    <tr>\n",
       "        <td>Now Sports</td>\n",
       "        <td>4884</td>\n",
       "    </tr>\n",
       "    <tr>\n",
       "        <td>A Statistic</td>\n",
       "        <td>6373</td>\n",
       "    </tr>\n",
       "    <tr>\n",
       "        <td>Oprah</td>\n",
       "        <td>6635</td>\n",
       "    </tr>\n",
       "    <tr>\n",
       "        <td>Commercial 1</td>\n",
       "        <td>7941</td>\n",
       "    </tr>\n",
       "    <tr>\n",
       "        <td>The Real Problem</td>\n",
       "        <td>11650</td>\n",
       "    </tr>\n",
       "    <tr>\n",
       "        <td>Commercial 2</td>\n",
       "        <td>21211</td>\n",
       "    </tr>\n",
       "    <tr>\n",
       "        <td>Bossa</td>\n",
       "        <td>29048</td>\n",
       "    </tr>\n",
       "    <tr>\n",
       "        <td>Casinha Feliz</td>\n",
       "        <td>32287</td>\n",
       "    </tr>\n",
       "    <tr>\n",
       "        <td>Mateus Enter</td>\n",
       "        <td>33149</td>\n",
       "    </tr>\n",
       "</table>"
      ],
      "text/plain": [
       "[('É Uma Partida De Futebol', 1071),\n",
       " ('Now Sports', 4884),\n",
       " ('A Statistic', 6373),\n",
       " ('Oprah', 6635),\n",
       " ('Commercial 1', 7941),\n",
       " ('The Real Problem', 11650),\n",
       " ('Commercial 2', 21211),\n",
       " ('Bossa', 29048),\n",
       " ('Casinha Feliz', 32287),\n",
       " ('Mateus Enter', 33149)]"
      ]
     },
     "execution_count": 19,
     "metadata": {},
     "output_type": "execute_result"
    }
   ],
   "source": [
    "%%sql\n",
    "SELECT Name, Milliseconds\n",
    "FROM tracks\n",
    "ORDER BY Milliseconds ASC\n",
    "limit 10"
   ]
  },
  {
   "cell_type": "code",
   "execution_count": null,
   "metadata": {},
   "outputs": [],
   "source": [
    "# Отсортировать треки по количеству бит - по убыванию"
   ]
  },
  {
   "cell_type": "markdown",
   "metadata": {},
   "source": [
    "Аналог в Pandas\n",
    "tracks.sort_values(by='Bytes', ascending=False)"
   ]
  },
  {
   "cell_type": "code",
   "execution_count": 20,
   "metadata": {},
   "outputs": [
    {
     "name": "stdout",
     "output_type": "stream",
     "text": [
      " * sqlite:///chinook.db\n",
      "Done.\n"
     ]
    },
    {
     "data": {
      "text/html": [
       "<table>\n",
       "    <tr>\n",
       "        <th>Name</th>\n",
       "        <th>Bytes</th>\n",
       "    </tr>\n",
       "    <tr>\n",
       "        <td>Occupation / Precipice</td>\n",
       "        <td>1054423946</td>\n",
       "    </tr>\n",
       "    <tr>\n",
       "        <td>Through a Looking Glass</td>\n",
       "        <td>1059546140</td>\n",
       "    </tr>\n",
       "    <tr>\n",
       "        <td>Greetings from Earth, Pt. 1</td>\n",
       "        <td>536824558</td>\n",
       "    </tr>\n",
       "    <tr>\n",
       "        <td>The Man With Nine Lives</td>\n",
       "        <td>577829804</td>\n",
       "    </tr>\n",
       "    <tr>\n",
       "        <td>Battlestar Galactica, Pt. 2</td>\n",
       "        <td>521387924</td>\n",
       "    </tr>\n",
       "    <tr>\n",
       "        <td>Battlestar Galactica, Pt. 1</td>\n",
       "        <td>541359437</td>\n",
       "    </tr>\n",
       "    <tr>\n",
       "        <td>Murder On the Rising Star</td>\n",
       "        <td>551759986</td>\n",
       "    </tr>\n",
       "    <tr>\n",
       "        <td>Battlestar Galactica, Pt. 3</td>\n",
       "        <td>554509033</td>\n",
       "    </tr>\n",
       "    <tr>\n",
       "        <td>Take the Celestra</td>\n",
       "        <td>512381289</td>\n",
       "    </tr>\n",
       "    <tr>\n",
       "        <td>Fire In Space</td>\n",
       "        <td>536784757</td>\n",
       "    </tr>\n",
       "</table>"
      ],
      "text/plain": [
       "[('Occupation / Precipice', 1054423946),\n",
       " ('Through a Looking Glass', 1059546140),\n",
       " ('Greetings from Earth, Pt. 1', 536824558),\n",
       " ('The Man With Nine Lives', 577829804),\n",
       " ('Battlestar Galactica, Pt. 2', 521387924),\n",
       " ('Battlestar Galactica, Pt. 1', 541359437),\n",
       " ('Murder On the Rising Star', 551759986),\n",
       " ('Battlestar Galactica, Pt. 3', 554509033),\n",
       " ('Take the Celestra', 512381289),\n",
       " ('Fire In Space', 536784757)]"
      ]
     },
     "execution_count": 20,
     "metadata": {},
     "output_type": "execute_result"
    }
   ],
   "source": [
    "%%sql\n",
    "SELECT Name, Bytes\n",
    "FROM tracks\n",
    "ORDER BY Milliseconds DESC\n",
    "limit 10"
   ]
  },
  {
   "cell_type": "code",
   "execution_count": null,
   "metadata": {},
   "outputs": [],
   "source": [
    "# Сгруппировать треки по принадлежности к альбомам и вывести альбомы с большим содержанием треков первыми"
   ]
  },
  {
   "cell_type": "code",
   "execution_count": 21,
   "metadata": {},
   "outputs": [
    {
     "name": "stdout",
     "output_type": "stream",
     "text": [
      " * sqlite:///chinook.db\n",
      "Done.\n"
     ]
    },
    {
     "data": {
      "text/html": [
       "<table>\n",
       "    <tr>\n",
       "        <th>Title</th>\n",
       "        <th>count(Name)</th>\n",
       "    </tr>\n",
       "    <tr>\n",
       "        <td>Greatest Hits</td>\n",
       "        <td>57</td>\n",
       "    </tr>\n",
       "    <tr>\n",
       "        <td>Minha Historia</td>\n",
       "        <td>34</td>\n",
       "    </tr>\n",
       "    <tr>\n",
       "        <td>Unplugged</td>\n",
       "        <td>30</td>\n",
       "    </tr>\n",
       "    <tr>\n",
       "        <td>Lost, Season 3</td>\n",
       "        <td>26</td>\n",
       "    </tr>\n",
       "    <tr>\n",
       "        <td>The Office, Season 3</td>\n",
       "        <td>25</td>\n",
       "    </tr>\n",
       "    <tr>\n",
       "        <td>Lost, Season 1</td>\n",
       "        <td>25</td>\n",
       "    </tr>\n",
       "    <tr>\n",
       "        <td>My Way: The Best Of Frank Sinatra [Disc 1]</td>\n",
       "        <td>24</td>\n",
       "    </tr>\n",
       "    <tr>\n",
       "        <td>Lost, Season 2</td>\n",
       "        <td>24</td>\n",
       "    </tr>\n",
       "    <tr>\n",
       "        <td>Battlestar Galactica (Classic), Season 1</td>\n",
       "        <td>24</td>\n",
       "    </tr>\n",
       "    <tr>\n",
       "        <td>Instant Karma: The Amnesty International Campaign to Save Darfur</td>\n",
       "        <td>23</td>\n",
       "    </tr>\n",
       "</table>"
      ],
      "text/plain": [
       "[('Greatest Hits', 57),\n",
       " ('Minha Historia', 34),\n",
       " ('Unplugged', 30),\n",
       " ('Lost, Season 3', 26),\n",
       " ('The Office, Season 3', 25),\n",
       " ('Lost, Season 1', 25),\n",
       " ('My Way: The Best Of Frank Sinatra [Disc 1]', 24),\n",
       " ('Lost, Season 2', 24),\n",
       " ('Battlestar Galactica (Classic), Season 1', 24),\n",
       " ('Instant Karma: The Amnesty International Campaign to Save Darfur', 23)]"
      ]
     },
     "execution_count": 21,
     "metadata": {},
     "output_type": "execute_result"
    }
   ],
   "source": [
    "%%sql \n",
    "select Title, count(Name)\n",
    "from tracks, albums\n",
    "where tracks.AlbumId=albums.AlbumId\n",
    "group by Title\n",
    "order by count(Name) DESC\n",
    "limit 10"
   ]
  },
  {
   "cell_type": "code",
   "execution_count": null,
   "metadata": {},
   "outputs": [],
   "source": []
  }
 ],
 "metadata": {
  "kernelspec": {
   "display_name": "Python 3",
   "language": "python",
   "name": "python3"
  },
  "language_info": {
   "codemirror_mode": {
    "name": "ipython",
    "version": 3
   },
   "file_extension": ".py",
   "mimetype": "text/x-python",
   "name": "python",
   "nbconvert_exporter": "python",
   "pygments_lexer": "ipython3",
   "version": "3.7.4"
  }
 },
 "nbformat": 4,
 "nbformat_minor": 2
}
